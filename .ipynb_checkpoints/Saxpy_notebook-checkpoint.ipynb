{
 "cells": [
  {
   "cell_type": "markdown",
   "id": "397c55db-c090-402d-8ac7-46a7f3cf239f",
   "metadata": {},
   "source": [
    "# Notebook for running SAXPY benchmarks"
   ]
  },
  {
   "cell_type": "code",
   "execution_count": 5,
   "id": "c1e8ea8f-a005-411f-92c7-e85bf1818bb6",
   "metadata": {},
   "outputs": [],
   "source": [
    "import sys\n",
    "sys.path.insert(1, 'src')\n",
    "import numpy as np\n",
    "import time\n",
    "import matplotlib.pyplot as plt\n",
    "np.set_printoptions(suppress = True) ## deactivates scientific number format\n",
    "%load_ext autoreload\n",
    "%autoreload 2\n",
    "%load_ext Cython"
   ]
  },
  {
   "cell_type": "code",
   "execution_count": 6,
   "id": "eaee3139-a174-4141-8679-372c58280a0d",
   "metadata": {},
   "outputs": [],
   "source": [
    "#Plotting Function\n",
    "def Benchmark (Results):\n",
    "    # Plotting\n",
    "    elements = Results.shape[0]\n",
    "    plt.figure(figsize=(15,9))\n",
    "    plt.plot(np.log2(N[:elements]),Results[:], linestyle='--', marker='o', color='b')\n",
    "    plt.yscale(\"log\")\n",
    "    plt.title(\"Results [cpu]\")\n",
    "    plt.xlabel(\"Array Size\")\n",
    "    plt.ylabel(\"Runtime (ms)\")\n",
    "    x_tick_labels = [\"$2^{\" + str(i) + \"}$\" for i in range(1, elements + 1,1)]\n",
    "    plt.xticks(np.arange(1, elements + 1,1), x_tick_labels)\n",
    "    plt.grid()\n",
    "    plt.show()"
   ]
  },
  {
   "cell_type": "code",
   "execution_count": 7,
   "id": "6a27563e-7725-4175-b1c0-fa3b8f5c8b97",
   "metadata": {},
   "outputs": [
    {
     "data": {
      "text/plain": [
       "'\\nelements = Saxpy_Python_For_Loop_CPU.shape[0]\\n# Plotting\\nplt.figure(figsize=(15,9))\\nplt.plot(np.log2(N[:elements]),Saxpy_Python_For_Loop_CPU[:], linestyle=\\'--\\', marker=\\'o\\', color=\\'b\\')\\nplt.yscale(\"log\")\\nplt.title(\"SAXPY Python For Loop [cpu]\")\\nplt.xlabel(\"Array Size\")\\nplt.ylabel(\"Runtime (ms)\")\\nx_tick_labels = [\"$2^{\" + str(i) + \"}$\" for i in range(1, elements + 1,1)]\\nplt.xticks(np.arange(1, elements + 1,1), x_tick_labels)\\nplt.grid()\\nplt.show()\\n'"
      ]
     },
     "execution_count": 7,
     "metadata": {},
     "output_type": "execute_result"
    }
   ],
   "source": [
    "# Plot Template\n",
    "'''\n",
    "elements = Saxpy_Python_For_Loop_CPU.shape[0]\n",
    "# Plotting\n",
    "plt.figure(figsize=(15,9))\n",
    "plt.plot(np.log2(N[:elements]),Saxpy_Python_For_Loop_CPU[:], linestyle='--', marker='o', color='b')\n",
    "plt.yscale(\"log\")\n",
    "plt.title(\"SAXPY Python For Loop [cpu]\")\n",
    "plt.xlabel(\"Array Size\")\n",
    "plt.ylabel(\"Runtime (ms)\")\n",
    "x_tick_labels = [\"$2^{\" + str(i) + \"}$\" for i in range(1, elements + 1,1)]\n",
    "plt.xticks(np.arange(1, elements + 1,1), x_tick_labels)\n",
    "plt.grid()\n",
    "plt.show()\n",
    "'''"
   ]
  },
  {
   "cell_type": "code",
   "execution_count": 8,
   "id": "eac49627-bba9-433e-9199-5fea97888f71",
   "metadata": {},
   "outputs": [],
   "source": [
    "N = [2,4,8,16,32,64,128,256,512,1024,2048,4096,8192,16384,32768,65536,131072,262144,524288,1048576,2097152,4194304,8388608,16777216,33554432,67108864,134217728,268435456,536870912,1073741824]"
   ]
  },
  {
   "cell_type": "code",
   "execution_count": 33,
   "id": "99a54da8-fcbd-48e1-9a86-6111337bcebd",
   "metadata": {},
   "outputs": [],
   "source": [
    "# Set the number of elements in the arrays and how many interations you desire\n",
    "#elements = 20 # No. of elements in array =2^ekements\n",
    "#iterations = 1"
   ]
  },
  {
   "cell_type": "code",
   "execution_count": 34,
   "id": "0c4949ed-710a-4e94-87e9-6d560aaf8820",
   "metadata": {},
   "outputs": [],
   "source": [
    "# load for cpp\n",
    "#time_Cpp, seis_FD_Cpp = np.loadtxt('seis1.dat', delimiter='\\t', skiprows=0, unpack=True)"
   ]
  },
  {
   "cell_type": "markdown",
   "id": "ac914bcb-8849-4469-93c3-453a1c1ec09d",
   "metadata": {},
   "source": [
    "___"
   ]
  },
  {
   "cell_type": "markdown",
   "id": "ccbfc70a-667f-49e6-8469-82ba4f145e67",
   "metadata": {},
   "source": [
    "___"
   ]
  },
  {
   "cell_type": "markdown",
   "id": "d55e8b06-4c84-4387-bae2-2bec014461c8",
   "metadata": {},
   "source": [
    "___"
   ]
  },
  {
   "cell_type": "markdown",
   "id": "f1533fb2-95fe-4e41-af0b-f1e46e5e361e",
   "metadata": {},
   "source": [
    "# 1. Saxpy Python For Loop CPU"
   ]
  },
  {
   "cell_type": "code",
   "execution_count": 7,
   "id": "1ae9d292-ab2a-404f-9f71-4ba2868b49e4",
   "metadata": {
    "tags": []
   },
   "outputs": [],
   "source": [
    "#import Saxpy_Python_For_Loop_CPU"
   ]
  },
  {
   "cell_type": "code",
   "execution_count": 8,
   "id": "86ece759-c244-48c3-84cc-1486313ac58c",
   "metadata": {},
   "outputs": [],
   "source": [
    "# Reading the csv into an array\n",
    "Saxpy_Python_For_Loop_CPU = np.genfromtxt(\"/home/stefancc/Desktop/HPC/saxpy/Benchmark_Results/Saxpy_Python_For_Loop_CPU.csv\", delimiter=\",\")"
   ]
  },
  {
   "cell_type": "code",
   "execution_count": 9,
   "id": "f8f9d4e8-8e56-43d5-a210-13b762c10d76",
   "metadata": {},
   "outputs": [
    {
     "name": "stdout",
     "output_type": "stream",
     "text": [
      "[   0.00001097    0.00000572    0.00000954    0.00001812    0.000036\n",
      "    0.00007105    0.00016809    0.0002892     0.00058055    0.00118637\n",
      "    0.00241828    0.00444508    0.00880599    0.017735      0.03697801\n",
      "    0.07651377    0.15013671    0.30412078    0.60013938    1.20799255\n",
      "    2.42400885    4.90410995    9.77891803   19.48530173   38.90052724\n",
      "   75.55010009  150.37545609  299.0827291   593.16444182 1194.69085789]\n"
     ]
    }
   ],
   "source": [
    "print(Saxpy_Python_For_Loop_CPU/1000)"
   ]
  },
  {
   "cell_type": "code",
   "execution_count": 10,
   "id": "456a92ba-3728-4641-8183-7dccc93b0841",
   "metadata": {
    "collapsed": true,
    "jupyter": {
     "outputs_hidden": true
    },
    "tags": []
   },
   "outputs": [
    {
     "data": {
      "image/png": "[encoded data removed]",
      "text/plain": [
       "<Figure size 1080x648 with 1 Axes>"
      ]
     },
     "metadata": {
      "needs_background": "light"
     },
     "output_type": "display_data"
    }
   ],
   "source": [
    "Benchmark (Saxpy_Python_For_Loop_CPU)"
   ]
  },
  {
   "cell_type": "markdown",
   "id": "ebea82cd-feba-4ede-a8f6-f7596e6bb33c",
   "metadata": {},
   "source": [
    "___"
   ]
  },
  {
   "cell_type": "markdown",
   "id": "404082a8-0888-4e29-9cdf-e8b09b5096f4",
   "metadata": {},
   "source": [
    "___"
   ]
  },
  {
   "cell_type": "markdown",
   "id": "c90687ec-7493-402a-be28-f7245f71aac0",
   "metadata": {},
   "source": [
    "___"
   ]
  },
  {
   "cell_type": "markdown",
   "id": "acb637a7-3dcc-45cd-a84d-cb65bccb9717",
   "metadata": {},
   "source": [
    "# 2. Saxpy Python Numpy CPU"
   ]
  },
  {
   "cell_type": "code",
   "execution_count": 107,
   "id": "da4b15e2-6250-443a-abce-cacb21fdff1f",
   "metadata": {
    "tags": []
   },
   "outputs": [],
   "source": [
    "#import Saxpy_Python_Numpy_CPU"
   ]
  },
  {
   "cell_type": "code",
   "execution_count": 12,
   "id": "241bb9b4-00ed-4e42-8ce9-1747cf137365",
   "metadata": {},
   "outputs": [],
   "source": [
    "# Reading the csv into an array\n",
    "Saxpy_Python_Numpy_CPU = np.genfromtxt(\"/home/stefancc/Desktop/HPC/saxpy/Benchmark_Results/Saxpy_Python_Numpy_CPU.csv\", delimiter=\",\")"
   ]
  },
  {
   "cell_type": "code",
   "execution_count": 13,
   "id": "e407f92b-df44-4154-b151-146fec8bba32",
   "metadata": {},
   "outputs": [
    {
     "name": "stdout",
     "output_type": "stream",
     "text": [
      "[0.00024497 0.00000246 0.00000195 0.00000164 0.00000168 0.00000172\n",
      " 0.0000018  0.00000203 0.0000023  0.00000207 0.00000229 0.00000362\n",
      " 0.00001639 0.00001765 0.00003242 0.00007966 0.00018365 0.00034338\n",
      " 0.00074805 0.00127455 0.00267901 0.00528069 0.01171173 0.0239533\n",
      " 0.04793619 0.09960325 0.1929946  0.38755258 0.76885425 1.53446849]\n"
     ]
    }
   ],
   "source": [
    "print(Saxpy_Python_Numpy_CPU/1000)"
   ]
  },
  {
   "cell_type": "code",
   "execution_count": 14,
   "id": "310ff26a-ff04-419c-b47d-58ef7d64b672",
   "metadata": {
    "collapsed": true,
    "jupyter": {
     "outputs_hidden": true
    },
    "tags": []
   },
   "outputs": [
    {
     "data": {
      "image/png": "[encoded data removed]",
      "text/plain": [
       "<Figure size 1080x648 with 1 Axes>"
      ]
     },
     "metadata": {
      "needs_background": "light"
     },
     "output_type": "display_data"
    }
   ],
   "source": [
    "Benchmark (Saxpy_Python_Numpy_CPU)"
   ]
  },
  {
   "cell_type": "markdown",
   "id": "b2f34afc-d726-4226-8dd0-c8df5ae4236e",
   "metadata": {},
   "source": [
    "___"
   ]
  },
  {
   "cell_type": "markdown",
   "id": "9c5f228e-4734-4bcd-9fa6-84731125823b",
   "metadata": {},
   "source": [
    "___"
   ]
  },
  {
   "cell_type": "markdown",
   "id": "a62f09b8-f584-4741-9798-c0a3ee2af76e",
   "metadata": {},
   "source": [
    "___"
   ]
  },
  {
   "cell_type": "markdown",
   "id": "30fade89-c1e6-488e-ac29-85946311157f",
   "metadata": {},
   "source": [
    "# 3. Saxpy Python Numba CPU"
   ]
  },
  {
   "cell_type": "code",
   "execution_count": 15,
   "id": "340d2ce6-d0af-4e70-b1fa-1ffca96cf62c",
   "metadata": {
    "tags": []
   },
   "outputs": [],
   "source": [
    "# check system information\n",
    "#import numba\n",
    "#!numba -s"
   ]
  },
  {
   "cell_type": "code",
   "execution_count": 16,
   "id": "8d165f81-89d6-4d36-bda2-bb7a9ce09306",
   "metadata": {
    "tags": []
   },
   "outputs": [],
   "source": [
    "#import Saxpy_Python_Numba_CPU"
   ]
  },
  {
   "cell_type": "code",
   "execution_count": 17,
   "id": "d0ac777e-14ca-4fae-8e5b-fd77d4226208",
   "metadata": {},
   "outputs": [],
   "source": [
    "# Reading the csv into an array\n",
    "Saxpy_Python_Numba_CPU = np.genfromtxt(\"/home/stefancc/Desktop/HPC/saxpy/Benchmark_Results/Saxpy_Python_Numba_CPU.csv\", delimiter=\",\")"
   ]
  },
  {
   "cell_type": "code",
   "execution_count": 18,
   "id": "9571a237-5df2-45f0-84c3-fab9629c4375",
   "metadata": {},
   "outputs": [
    {
     "name": "stdout",
     "output_type": "stream",
     "text": [
      "[0.00770914 0.00000245 0.00000108 0.00000106 0.00000098 0.00000098\n",
      " 0.00000161 0.00000106 0.00000123 0.00000157 0.00000206 0.00000338\n",
      " 0.0000054  0.00003466 0.00000901 0.00013514 0.00006826 0.00046666\n",
      " 0.00024672 0.0018652  0.00140258 0.0030959  0.01430879 0.02844822\n",
      " 0.05614696 0.11350698 0.2239141  0.44181047 0.8692751  1.75283005]\n"
     ]
    }
   ],
   "source": [
    "print(Saxpy_Python_Numba_CPU/1000)"
   ]
  },
  {
   "cell_type": "code",
   "execution_count": 19,
   "id": "51d0f490-680c-48fe-9526-0b3bd857c990",
   "metadata": {
    "collapsed": true,
    "jupyter": {
     "outputs_hidden": true
    },
    "tags": []
   },
   "outputs": [
    {
     "data": {
      "image/png": "[encoded data removed]",
      "text/plain": [
       "<Figure size 1080x648 with 1 Axes>"
      ]
     },
     "metadata": {
      "needs_background": "light"
     },
     "output_type": "display_data"
    }
   ],
   "source": [
    "Benchmark (Saxpy_Python_Numba_CPU)"
   ]
  },
  {
   "cell_type": "markdown",
   "id": "2b29a18e-99aa-488c-a071-127c0a6761a4",
   "metadata": {},
   "source": [
    "___"
   ]
  },
  {
   "cell_type": "markdown",
   "id": "ebfa4b5d-2b6c-4d73-a3fd-39660bfcdf44",
   "metadata": {},
   "source": [
    "___"
   ]
  },
  {
   "cell_type": "markdown",
   "id": "ef08dadc-afda-4b9b-8bfe-a7991555fe37",
   "metadata": {},
   "source": [
    "___"
   ]
  },
  {
   "cell_type": "markdown",
   "id": "f1694877-f1a0-4000-a7fc-144feee73da9",
   "metadata": {},
   "source": [
    "# 4. Saxpy Python Numpy Numba CPU"
   ]
  },
  {
   "cell_type": "code",
   "execution_count": 20,
   "id": "d185e6da-ba9a-4959-aa3e-eb8faf901159",
   "metadata": {
    "tags": []
   },
   "outputs": [],
   "source": [
    "#import Saxpy_Python_Numpy_Numba_CPU"
   ]
  },
  {
   "cell_type": "code",
   "execution_count": 21,
   "id": "449c5653-d486-4454-81c4-072b1fdcc327",
   "metadata": {},
   "outputs": [],
   "source": [
    "# Reading the csv into an array\n",
    "Saxpy_Python_Numpy_Numba_CPU = np.genfromtxt(\"/home/stefancc/Desktop/HPC/saxpy/Benchmark_Results/Saxpy_Python_Numpy_Numba_CPU.csv\", delimiter=\",\")"
   ]
  },
  {
   "cell_type": "code",
   "execution_count": 22,
   "id": "bf943ae4-89f8-4651-a0d7-f8445ec7c691",
   "metadata": {},
   "outputs": [
    {
     "name": "stdout",
     "output_type": "stream",
     "text": [
      "[0.00395461 0.00000226 0.00000117 0.00000118 0.00000084 0.00000098\n",
      " 0.00000192 0.0000013  0.00000136 0.00000156 0.00000213 0.00000356\n",
      " 0.00000507 0.00002613 0.00000856 0.00013341 0.00006435 0.00046482\n",
      " 0.00024505 0.00183275 0.00141911 0.00295835 0.01416325 0.02777654\n",
      " 0.05507481 0.11097246 0.22159036 0.43646597 0.8651025  1.76200278]\n"
     ]
    }
   ],
   "source": [
    "print(Saxpy_Python_Numpy_Numba_CPU/1000)"
   ]
  },
  {
   "cell_type": "code",
   "execution_count": 23,
   "id": "541ee05b-cce9-46bc-8e09-ee6db6a2db22",
   "metadata": {
    "collapsed": true,
    "jupyter": {
     "outputs_hidden": true
    },
    "tags": []
   },
   "outputs": [
    {
     "data": {
      "image/png": "[encoded data removed]",
      "text/plain": [
       "<Figure size 1080x648 with 1 Axes>"
      ]
     },
     "metadata": {
      "needs_background": "light"
     },
     "output_type": "display_data"
    }
   ],
   "source": [
    "Benchmark (Saxpy_Python_Numpy_Numba_CPU)"
   ]
  },
  {
   "cell_type": "markdown",
   "id": "98dcb7a9-e8ad-4487-82ca-e16156aecc0e",
   "metadata": {},
   "source": [
    "___"
   ]
  },
  {
   "cell_type": "markdown",
   "id": "5e5ad1a5-cdfd-49f2-8490-91fe7e6b0dd8",
   "metadata": {},
   "source": [
    "___"
   ]
  },
  {
   "cell_type": "markdown",
   "id": "0015f962-111c-48cb-b367-b23ef13008d1",
   "metadata": {},
   "source": [
    "___"
   ]
  },
  {
   "cell_type": "markdown",
   "id": "7ce791bb-df24-4ef2-bba2-78a40013c085",
   "metadata": {},
   "source": [
    "# 5. Saxpy Python Numba Multithread CPU"
   ]
  },
  {
   "cell_type": "code",
   "execution_count": 24,
   "id": "c0a14490-805c-46bd-afad-6d6818aeebc7",
   "metadata": {
    "tags": []
   },
   "outputs": [],
   "source": [
    "#import Saxpy_Python_Numba_Multithread_CPU # now the theads are set to 16"
   ]
  },
  {
   "cell_type": "code",
   "execution_count": 25,
   "id": "7ed673c2-071d-4925-bacd-e429c9ae81ab",
   "metadata": {},
   "outputs": [],
   "source": [
    "# Reading the csv into an array\n",
    "Saxpy_Python_Numba_Multithread_CPU1 = np.genfromtxt(\"/home/stefancc/Desktop/HPC/saxpy/Benchmark_Results/Saxpy_Python_Numba_Multithreading_CPU1.csv\", delimiter=\",\")\n",
    "Saxpy_Python_Numba_Multithread_CPU2 = np.genfromtxt(\"/home/stefancc/Desktop/HPC/saxpy/Benchmark_Results/Saxpy_Python_Numba_Multithreading_CPU2.csv\", delimiter=\",\")\n",
    "Saxpy_Python_Numba_Multithread_CPU3 = np.genfromtxt(\"/home/stefancc/Desktop/HPC/saxpy/Benchmark_Results/Saxpy_Python_Numba_Multithreading_CPU3.csv\", delimiter=\",\")\n",
    "Saxpy_Python_Numba_Multithread_CPU4 = np.genfromtxt(\"/home/stefancc/Desktop/HPC/saxpy/Benchmark_Results/Saxpy_Python_Numba_Multithreading_CPU4.csv\", delimiter=\",\")\n",
    "Saxpy_Python_Numba_Multithread_CPU5 = np.genfromtxt(\"/home/stefancc/Desktop/HPC/saxpy/Benchmark_Results/Saxpy_Python_Numba_Multithreading_CPU5.csv\", delimiter=\",\")\n",
    "Saxpy_Python_Numba_Multithread_CPU6 = np.genfromtxt(\"/home/stefancc/Desktop/HPC/saxpy/Benchmark_Results/Saxpy_Python_Numba_Multithreading_CPU6.csv\", delimiter=\",\")\n",
    "Saxpy_Python_Numba_Multithread_CPU7 = np.genfromtxt(\"/home/stefancc/Desktop/HPC/saxpy/Benchmark_Results/Saxpy_Python_Numba_Multithreading_CPU7.csv\", delimiter=\",\")\n",
    "Saxpy_Python_Numba_Multithread_CPU8 = np.genfromtxt(\"/home/stefancc/Desktop/HPC/saxpy/Benchmark_Results/Saxpy_Python_Numba_Multithreading_CPU8.csv\", delimiter=\",\")\n",
    "Saxpy_Python_Numba_Multithread_CPU10 = np.genfromtxt(\"/home/stefancc/Desktop/HPC/saxpy/Benchmark_Results/Saxpy_Python_Numba_Multithreading_CPU10.csv\", delimiter=\",\")\n",
    "\n",
    "Saxpy_Python_Numba_Multithread_CPU14 = np.genfromtxt(\"/home/stefancc/Desktop/HPC/saxpy/Benchmark_Results/Saxpy_Python_Numba_Multithreading_CPU14.csv\", delimiter=\",\")\n",
    "\n",
    "Saxpy_Python_Numba_Multithread_CPU16 = np.genfromtxt(\"/home/stefancc/Desktop/HPC/saxpy/Benchmark_Results/Saxpy_Python_Numba_Multithreading_CPU16.csv\", delimiter=\",\")"
   ]
  },
  {
   "cell_type": "code",
   "execution_count": 26,
   "id": "7e79cb0e-9a7a-4721-b7e5-0cb0ec351cb8",
   "metadata": {
    "tags": []
   },
   "outputs": [
    {
     "name": "stdout",
     "output_type": "stream",
     "text": [
      "1.7851304292678833\n",
      "0.9776000022888184\n",
      "0.6929349899291992\n",
      "0.5651386499404907\n",
      "0.553790807723999\n",
      "0.5259005546569824\n",
      "0.5188137292861938\n",
      "0.5208759307861328\n",
      "0.5232040882110596\n",
      "0.5106248378753662\n",
      "0.49801000754038494\n"
     ]
    }
   ],
   "source": [
    "print(Saxpy_Python_Numba_Multithread_CPU1[-1]/1000)\n",
    "print(Saxpy_Python_Numba_Multithread_CPU2[-1]/1000)\n",
    "print(Saxpy_Python_Numba_Multithread_CPU3[-1]/1000)\n",
    "print(Saxpy_Python_Numba_Multithread_CPU4[-1]/1000)\n",
    "print(Saxpy_Python_Numba_Multithread_CPU5[-1]/1000)\n",
    "print(Saxpy_Python_Numba_Multithread_CPU6[-1]/1000)\n",
    "print(Saxpy_Python_Numba_Multithread_CPU7[-1]/1000)\n",
    "print(Saxpy_Python_Numba_Multithread_CPU8[-1]/1000)\n",
    "print(Saxpy_Python_Numba_Multithread_CPU10[-1]/1000)\n",
    "print(Saxpy_Python_Numba_Multithread_CPU14[-1]/1000)\n",
    "print(Saxpy_Python_Numba_Multithread_CPU16[-1]/1000)"
   ]
  },
  {
   "cell_type": "code",
   "execution_count": 27,
   "id": "19b138d6-180d-4838-9fd0-ef8d9cc1dd36",
   "metadata": {
    "collapsed": true,
    "jupyter": {
     "outputs_hidden": true
    },
    "tags": []
   },
   "outputs": [
    {
     "data": {
      "image/png": "[encoded data removed]",
      "text/plain": [
       "<Figure size 1080x648 with 1 Axes>"
      ]
     },
     "metadata": {
      "needs_background": "light"
     },
     "output_type": "display_data"
    }
   ],
   "source": [
    "elements = Saxpy_Python_Numba_Multithread_CPU1.shape[0]\n",
    "plt.figure(figsize=(15,9))\n",
    "\n",
    "plt.plot(np.log2(N[:elements]),Saxpy_Python_Numba_Multithread_CPU1[:], linestyle='--', marker='o')\n",
    "plt.plot(np.log2(N[:elements]),Saxpy_Python_Numba_Multithread_CPU2[:], linestyle='--', marker='o')\n",
    "plt.plot(np.log2(N[:elements]),Saxpy_Python_Numba_Multithread_CPU3[:], linestyle='--', marker='o')\n",
    "plt.plot(np.log2(N[:elements]),Saxpy_Python_Numba_Multithread_CPU4[:], linestyle='--', marker='o')\n",
    "plt.plot(np.log2(N[:elements]),Saxpy_Python_Numba_Multithread_CPU5[:], linestyle='--', marker='o')\n",
    "plt.plot(np.log2(N[:elements]),Saxpy_Python_Numba_Multithread_CPU6[:], linestyle='--', marker='o')\n",
    "plt.plot(np.log2(N[:elements]),Saxpy_Python_Numba_Multithread_CPU7[:], linestyle='--', marker='o')\n",
    "plt.plot(np.log2(N[:elements]),Saxpy_Python_Numba_Multithread_CPU8[:], linestyle='--', marker='o')\n",
    "plt.plot(np.log2(N[:elements]),Saxpy_Python_Numba_Multithread_CPU10[:], linestyle='--', marker='o')\n",
    "plt.plot(np.log2(N[:elements]),Saxpy_Python_Numba_Multithread_CPU14[:], linestyle='--', marker='o')\n",
    "plt.plot(np.log2(N[:elements]),Saxpy_Python_Numba_Multithread_CPU16[:], linestyle='--', marker='o')\n",
    "\n",
    "plt.yscale(\"log\")\n",
    "plt.title(\"Saxpy Benchmark\")\n",
    "plt.xlabel(\"Array Size\")\n",
    "plt.ylabel(\"Runtime (ms)\")\n",
    "x_tick_labels = [\"$2^{\" + str(i) + \"}$\" for i in range(1, elements + 1,1)]\n",
    "plt.xticks(np.arange(1, elements + 1,1), x_tick_labels)\n",
    "plt.grid()\n",
    "plt.show()"
   ]
  },
  {
   "cell_type": "markdown",
   "id": "7ea32743-29de-4913-919e-071edab11870",
   "metadata": {},
   "source": [
    "___"
   ]
  },
  {
   "cell_type": "markdown",
   "id": "562ddb6a-91a6-4196-b9e3-933f9588ab8e",
   "metadata": {},
   "source": [
    "___"
   ]
  },
  {
   "cell_type": "markdown",
   "id": "6d18716e-e7c7-4d2e-afc7-24685e40e579",
   "metadata": {},
   "source": [
    "___"
   ]
  },
  {
   "cell_type": "markdown",
   "id": "92f44521-bb74-481b-8ed0-92222bff80a4",
   "metadata": {},
   "source": [
    "# 6. Saxpy Python Numpy Numba Multithreading CPU"
   ]
  },
  {
   "cell_type": "code",
   "execution_count": 28,
   "id": "4d18c8eb-e8d7-4fb4-b4b7-d70b5b93b6f8",
   "metadata": {
    "tags": []
   },
   "outputs": [],
   "source": [
    "#import Saxpy_Python_Numpy_Numba_Multithreading_CPU #now the theads are set to 16"
   ]
  },
  {
   "cell_type": "code",
   "execution_count": 29,
   "id": "ae0782f4-170b-43b7-a3d6-65e01567162a",
   "metadata": {},
   "outputs": [],
   "source": [
    "# Reading the csv into an array\n",
    "Saxpy_Python_Numpy_Numba_Multithreading_CPU = np.genfromtxt(\"/home/stefancc/Desktop/HPC/saxpy/Benchmark_Results/Saxpy_Python_Numpy_Numba_Multithreading_CPU.csv\", delimiter=\",\")"
   ]
  },
  {
   "cell_type": "code",
   "execution_count": 30,
   "id": "7d413c37-4f00-4fac-9674-3ea8dbed2ae7",
   "metadata": {},
   "outputs": [
    {
     "name": "stdout",
     "output_type": "stream",
     "text": [
      "[0.01135787 0.00002503 0.0000315  0.00002002 0.0000188  0.00001811\n",
      " 0.00002639 0.00002156 0.00002075 0.00002024 0.0000195  0.0000182\n",
      " 0.00001921 0.00002112 0.00003928 0.00007474 0.00016407 0.00024566\n",
      " 0.00201527 0.00297633 0.00472898 0.00724769 0.0179793  0.03599242\n",
      " 0.07075847 0.14626118 0.28064194 0.56185705 1.11579949 2.20084959]\n"
     ]
    }
   ],
   "source": [
    "print(Saxpy_Python_Numpy_Numba_Multithreading_CPU/1000)"
   ]
  },
  {
   "cell_type": "code",
   "execution_count": 31,
   "id": "c07939cb-1cc4-44d4-a43f-b0080fe0222b",
   "metadata": {
    "collapsed": true,
    "jupyter": {
     "outputs_hidden": true
    },
    "tags": []
   },
   "outputs": [
    {
     "data": {
      "image/png": "[encoded data removed]",
      "text/plain": [
       "<Figure size 1080x648 with 1 Axes>"
      ]
     },
     "metadata": {
      "needs_background": "light"
     },
     "output_type": "display_data"
    }
   ],
   "source": [
    "Benchmark (Saxpy_Python_Numpy_Numba_Multithreading_CPU)"
   ]
  },
  {
   "cell_type": "markdown",
   "id": "046854a2-8b01-4090-bb12-c92f00bcbf69",
   "metadata": {},
   "source": [
    "___"
   ]
  },
  {
   "cell_type": "markdown",
   "id": "1a30a077-5166-437e-afbe-cee5ff7c200d",
   "metadata": {},
   "source": [
    "___"
   ]
  },
  {
   "cell_type": "markdown",
   "id": "cf0a6df2-e327-405d-ab23-3b66c8b20e1c",
   "metadata": {},
   "source": [
    "___"
   ]
  },
  {
   "cell_type": "markdown",
   "id": "5b8ba228-5775-4019-bd2e-7aad31d3f2cf",
   "metadata": {},
   "source": [
    "# 7. Saxpy Python Cython CPU"
   ]
  },
  {
   "cell_type": "code",
   "execution_count": 32,
   "id": "709f3d8a-1d95-4798-884d-d545011ff653",
   "metadata": {},
   "outputs": [],
   "source": [
    "# run this in src/Saxpy_Cython to build: pyhon setup.py build_ext --inplace"
   ]
  },
  {
   "cell_type": "markdown",
   "id": "e1f4a423-9e16-4a2f-a39b-cbb5d5323a72",
   "metadata": {},
   "source": [
    "### Some Benchmark results using different compilations\n",
    "\n",
    "O0 - 2160 ms\n",
    "\n",
    "O1 - 610 ms\n",
    "\n",
    "O2 - 599 ms\n",
    "\n",
    "O3 - 521 ms\n",
    "\n",
    "Ofast - 508 ms\n",
    "\n",
    "Os - 605 ms\n",
    "\n",
    "Og - 795 ms"
   ]
  },
  {
   "cell_type": "code",
   "execution_count": 33,
   "id": "dd68fa3e-d6b4-48d9-a1fb-3dba64f6ae43",
   "metadata": {
    "collapsed": true,
    "jupyter": {
     "outputs_hidden": true
    },
    "tags": []
   },
   "outputs": [
    {
     "data": {
      "text/html": [
       "<!DOCTYPE html>\n",
       "<!-- Generated by Cython 0.29.33 -->\n",
       "<html>\n",
       "<head>\n",
       "    <meta http-equiv=\"Content-Type\" content=\"text/html; charset=utf-8\" />\n",
       "    <title>Cython: _cython_magic_3fca9ddb7b1c965c85572e733fb92be3.pyx</title>\n",
       "    <style type=\"text/css\">\n",
       "    \n",
       "body.cython { font-family: courier; font-size: 12; }\n",
       "\n",
       ".cython.tag  {  }\n",
       ".cython.line { margin: 0em }\n",
       ".cython.code { font-size: 9; color: #444444; display: none; margin: 0px 0px 0px 8px; border-left: 8px none; }\n",
       "\n",
       ".cython.line .run { background-color: #B0FFB0; }\n",
       ".cython.line .mis { background-color: #FFB0B0; }\n",
       ".cython.code.run  { border-left: 8px solid #B0FFB0; }\n",
       ".cython.code.mis  { border-left: 8px solid #FFB0B0; }\n",
       "\n",
       ".cython.code .py_c_api  { color: red; }\n",
       ".cython.code .py_macro_api  { color: #FF7000; }\n",
       ".cython.code .pyx_c_api  { color: #FF3000; }\n",
       ".cython.code .pyx_macro_api  { color: #FF7000; }\n",
       ".cython.code .refnanny  { color: #FFA000; }\n",
       ".cython.code .trace  { color: #FFA000; }\n",
       ".cython.code .error_goto  { color: #FFA000; }\n",
       "\n",
       ".cython.code .coerce  { color: #008000; border: 1px dotted #008000 }\n",
       ".cython.code .py_attr { color: #FF0000; font-weight: bold; }\n",
       ".cython.code .c_attr  { color: #0000FF; }\n",
       ".cython.code .py_call { color: #FF0000; font-weight: bold; }\n",
       ".cython.code .c_call  { color: #0000FF; }\n",
       "\n",
       ".cython.score-0 {background-color: #FFFFff;}\n",
       ".cython.score-1 {background-color: #FFFFe7;}\n",
       ".cython.score-2 {background-color: #FFFFd4;}\n",
       ".cython.score-3 {background-color: #FFFFc4;}\n",
       ".cython.score-4 {background-color: #FFFFb6;}\n",
       ".cython.score-5 {background-color: #FFFFaa;}\n",
       ".cython.score-6 {background-color: #FFFF9f;}\n",
       ".cython.score-7 {background-color: #FFFF96;}\n",
       ".cython.score-8 {background-color: #FFFF8d;}\n",
       ".cython.score-9 {background-color: #FFFF86;}\n",
       ".cython.score-10 {background-color: #FFFF7f;}\n",
       ".cython.score-11 {background-color: #FFFF79;}\n",
       ".cython.score-12 {background-color: #FFFF73;}\n",
       ".cython.score-13 {background-color: #FFFF6e;}\n",
       ".cython.score-14 {background-color: #FFFF6a;}\n",
       ".cython.score-15 {background-color: #FFFF66;}\n",
       ".cython.score-16 {background-color: #FFFF62;}\n",
       ".cython.score-17 {background-color: #FFFF5e;}\n",
       ".cython.score-18 {background-color: #FFFF5b;}\n",
       ".cython.score-19 {background-color: #FFFF57;}\n",
       ".cython.score-20 {background-color: #FFFF55;}\n",
       ".cython.score-21 {background-color: #FFFF52;}\n",
       ".cython.score-22 {background-color: #FFFF4f;}\n",
       ".cython.score-23 {background-color: #FFFF4d;}\n",
       ".cython.score-24 {background-color: #FFFF4b;}\n",
       ".cython.score-25 {background-color: #FFFF48;}\n",
       ".cython.score-26 {background-color: #FFFF46;}\n",
       ".cython.score-27 {background-color: #FFFF44;}\n",
       ".cython.score-28 {background-color: #FFFF43;}\n",
       ".cython.score-29 {background-color: #FFFF41;}\n",
       ".cython.score-30 {background-color: #FFFF3f;}\n",
       ".cython.score-31 {background-color: #FFFF3e;}\n",
       ".cython.score-32 {background-color: #FFFF3c;}\n",
       ".cython.score-33 {background-color: #FFFF3b;}\n",
       ".cython.score-34 {background-color: #FFFF39;}\n",
       ".cython.score-35 {background-color: #FFFF38;}\n",
       ".cython.score-36 {background-color: #FFFF37;}\n",
       ".cython.score-37 {background-color: #FFFF36;}\n",
       ".cython.score-38 {background-color: #FFFF35;}\n",
       ".cython.score-39 {background-color: #FFFF34;}\n",
       ".cython.score-40 {background-color: #FFFF33;}\n",
       ".cython.score-41 {background-color: #FFFF32;}\n",
       ".cython.score-42 {background-color: #FFFF31;}\n",
       ".cython.score-43 {background-color: #FFFF30;}\n",
       ".cython.score-44 {background-color: #FFFF2f;}\n",
       ".cython.score-45 {background-color: #FFFF2e;}\n",
       ".cython.score-46 {background-color: #FFFF2d;}\n",
       ".cython.score-47 {background-color: #FFFF2c;}\n",
       ".cython.score-48 {background-color: #FFFF2b;}\n",
       ".cython.score-49 {background-color: #FFFF2b;}\n",
       ".cython.score-50 {background-color: #FFFF2a;}\n",
       ".cython.score-51 {background-color: #FFFF29;}\n",
       ".cython.score-52 {background-color: #FFFF29;}\n",
       ".cython.score-53 {background-color: #FFFF28;}\n",
       ".cython.score-54 {background-color: #FFFF27;}\n",
       ".cython.score-55 {background-color: #FFFF27;}\n",
       ".cython.score-56 {background-color: #FFFF26;}\n",
       ".cython.score-57 {background-color: #FFFF26;}\n",
       ".cython.score-58 {background-color: #FFFF25;}\n",
       ".cython.score-59 {background-color: #FFFF24;}\n",
       ".cython.score-60 {background-color: #FFFF24;}\n",
       ".cython.score-61 {background-color: #FFFF23;}\n",
       ".cython.score-62 {background-color: #FFFF23;}\n",
       ".cython.score-63 {background-color: #FFFF22;}\n",
       ".cython.score-64 {background-color: #FFFF22;}\n",
       ".cython.score-65 {background-color: #FFFF22;}\n",
       ".cython.score-66 {background-color: #FFFF21;}\n",
       ".cython.score-67 {background-color: #FFFF21;}\n",
       ".cython.score-68 {background-color: #FFFF20;}\n",
       ".cython.score-69 {background-color: #FFFF20;}\n",
       ".cython.score-70 {background-color: #FFFF1f;}\n",
       ".cython.score-71 {background-color: #FFFF1f;}\n",
       ".cython.score-72 {background-color: #FFFF1f;}\n",
       ".cython.score-73 {background-color: #FFFF1e;}\n",
       ".cython.score-74 {background-color: #FFFF1e;}\n",
       ".cython.score-75 {background-color: #FFFF1e;}\n",
       ".cython.score-76 {background-color: #FFFF1d;}\n",
       ".cython.score-77 {background-color: #FFFF1d;}\n",
       ".cython.score-78 {background-color: #FFFF1c;}\n",
       ".cython.score-79 {background-color: #FFFF1c;}\n",
       ".cython.score-80 {background-color: #FFFF1c;}\n",
       ".cython.score-81 {background-color: #FFFF1c;}\n",
       ".cython.score-82 {background-color: #FFFF1b;}\n",
       ".cython.score-83 {background-color: #FFFF1b;}\n",
       ".cython.score-84 {background-color: #FFFF1b;}\n",
       ".cython.score-85 {background-color: #FFFF1a;}\n",
       ".cython.score-86 {background-color: #FFFF1a;}\n",
       ".cython.score-87 {background-color: #FFFF1a;}\n",
       ".cython.score-88 {background-color: #FFFF1a;}\n",
       ".cython.score-89 {background-color: #FFFF19;}\n",
       ".cython.score-90 {background-color: #FFFF19;}\n",
       ".cython.score-91 {background-color: #FFFF19;}\n",
       ".cython.score-92 {background-color: #FFFF19;}\n",
       ".cython.score-93 {background-color: #FFFF18;}\n",
       ".cython.score-94 {background-color: #FFFF18;}\n",
       ".cython.score-95 {background-color: #FFFF18;}\n",
       ".cython.score-96 {background-color: #FFFF18;}\n",
       ".cython.score-97 {background-color: #FFFF17;}\n",
       ".cython.score-98 {background-color: #FFFF17;}\n",
       ".cython.score-99 {background-color: #FFFF17;}\n",
       ".cython.score-100 {background-color: #FFFF17;}\n",
       ".cython.score-101 {background-color: #FFFF16;}\n",
       ".cython.score-102 {background-color: #FFFF16;}\n",
       ".cython.score-103 {background-color: #FFFF16;}\n",
       ".cython.score-104 {background-color: #FFFF16;}\n",
       ".cython.score-105 {background-color: #FFFF16;}\n",
       ".cython.score-106 {background-color: #FFFF15;}\n",
       ".cython.score-107 {background-color: #FFFF15;}\n",
       ".cython.score-108 {background-color: #FFFF15;}\n",
       ".cython.score-109 {background-color: #FFFF15;}\n",
       ".cython.score-110 {background-color: #FFFF15;}\n",
       ".cython.score-111 {background-color: #FFFF15;}\n",
       ".cython.score-112 {background-color: #FFFF14;}\n",
       ".cython.score-113 {background-color: #FFFF14;}\n",
       ".cython.score-114 {background-color: #FFFF14;}\n",
       ".cython.score-115 {background-color: #FFFF14;}\n",
       ".cython.score-116 {background-color: #FFFF14;}\n",
       ".cython.score-117 {background-color: #FFFF14;}\n",
       ".cython.score-118 {background-color: #FFFF13;}\n",
       ".cython.score-119 {background-color: #FFFF13;}\n",
       ".cython.score-120 {background-color: #FFFF13;}\n",
       ".cython.score-121 {background-color: #FFFF13;}\n",
       ".cython.score-122 {background-color: #FFFF13;}\n",
       ".cython.score-123 {background-color: #FFFF13;}\n",
       ".cython.score-124 {background-color: #FFFF13;}\n",
       ".cython.score-125 {background-color: #FFFF12;}\n",
       ".cython.score-126 {background-color: #FFFF12;}\n",
       ".cython.score-127 {background-color: #FFFF12;}\n",
       ".cython.score-128 {background-color: #FFFF12;}\n",
       ".cython.score-129 {background-color: #FFFF12;}\n",
       ".cython.score-130 {background-color: #FFFF12;}\n",
       ".cython.score-131 {background-color: #FFFF12;}\n",
       ".cython.score-132 {background-color: #FFFF11;}\n",
       ".cython.score-133 {background-color: #FFFF11;}\n",
       ".cython.score-134 {background-color: #FFFF11;}\n",
       ".cython.score-135 {background-color: #FFFF11;}\n",
       ".cython.score-136 {background-color: #FFFF11;}\n",
       ".cython.score-137 {background-color: #FFFF11;}\n",
       ".cython.score-138 {background-color: #FFFF11;}\n",
       ".cython.score-139 {background-color: #FFFF11;}\n",
       ".cython.score-140 {background-color: #FFFF11;}\n",
       ".cython.score-141 {background-color: #FFFF10;}\n",
       ".cython.score-142 {background-color: #FFFF10;}\n",
       ".cython.score-143 {background-color: #FFFF10;}\n",
       ".cython.score-144 {background-color: #FFFF10;}\n",
       ".cython.score-145 {background-color: #FFFF10;}\n",
       ".cython.score-146 {background-color: #FFFF10;}\n",
       ".cython.score-147 {background-color: #FFFF10;}\n",
       ".cython.score-148 {background-color: #FFFF10;}\n",
       ".cython.score-149 {background-color: #FFFF10;}\n",
       ".cython.score-150 {background-color: #FFFF0f;}\n",
       ".cython.score-151 {background-color: #FFFF0f;}\n",
       ".cython.score-152 {background-color: #FFFF0f;}\n",
       ".cython.score-153 {background-color: #FFFF0f;}\n",
       ".cython.score-154 {background-color: #FFFF0f;}\n",
       ".cython.score-155 {background-color: #FFFF0f;}\n",
       ".cython.score-156 {background-color: #FFFF0f;}\n",
       ".cython.score-157 {background-color: #FFFF0f;}\n",
       ".cython.score-158 {background-color: #FFFF0f;}\n",
       ".cython.score-159 {background-color: #FFFF0f;}\n",
       ".cython.score-160 {background-color: #FFFF0f;}\n",
       ".cython.score-161 {background-color: #FFFF0e;}\n",
       ".cython.score-162 {background-color: #FFFF0e;}\n",
       ".cython.score-163 {background-color: #FFFF0e;}\n",
       ".cython.score-164 {background-color: #FFFF0e;}\n",
       ".cython.score-165 {background-color: #FFFF0e;}\n",
       ".cython.score-166 {background-color: #FFFF0e;}\n",
       ".cython.score-167 {background-color: #FFFF0e;}\n",
       ".cython.score-168 {background-color: #FFFF0e;}\n",
       ".cython.score-169 {background-color: #FFFF0e;}\n",
       ".cython.score-170 {background-color: #FFFF0e;}\n",
       ".cython.score-171 {background-color: #FFFF0e;}\n",
       ".cython.score-172 {background-color: #FFFF0e;}\n",
       ".cython.score-173 {background-color: #FFFF0d;}\n",
       ".cython.score-174 {background-color: #FFFF0d;}\n",
       ".cython.score-175 {background-color: #FFFF0d;}\n",
       ".cython.score-176 {background-color: #FFFF0d;}\n",
       ".cython.score-177 {background-color: #FFFF0d;}\n",
       ".cython.score-178 {background-color: #FFFF0d;}\n",
       ".cython.score-179 {background-color: #FFFF0d;}\n",
       ".cython.score-180 {background-color: #FFFF0d;}\n",
       ".cython.score-181 {background-color: #FFFF0d;}\n",
       ".cython.score-182 {background-color: #FFFF0d;}\n",
       ".cython.score-183 {background-color: #FFFF0d;}\n",
       ".cython.score-184 {background-color: #FFFF0d;}\n",
       ".cython.score-185 {background-color: #FFFF0d;}\n",
       ".cython.score-186 {background-color: #FFFF0d;}\n",
       ".cython.score-187 {background-color: #FFFF0c;}\n",
       ".cython.score-188 {background-color: #FFFF0c;}\n",
       ".cython.score-189 {background-color: #FFFF0c;}\n",
       ".cython.score-190 {background-color: #FFFF0c;}\n",
       ".cython.score-191 {background-color: #FFFF0c;}\n",
       ".cython.score-192 {background-color: #FFFF0c;}\n",
       ".cython.score-193 {background-color: #FFFF0c;}\n",
       ".cython.score-194 {background-color: #FFFF0c;}\n",
       ".cython.score-195 {background-color: #FFFF0c;}\n",
       ".cython.score-196 {background-color: #FFFF0c;}\n",
       ".cython.score-197 {background-color: #FFFF0c;}\n",
       ".cython.score-198 {background-color: #FFFF0c;}\n",
       ".cython.score-199 {background-color: #FFFF0c;}\n",
       ".cython.score-200 {background-color: #FFFF0c;}\n",
       ".cython.score-201 {background-color: #FFFF0c;}\n",
       ".cython.score-202 {background-color: #FFFF0c;}\n",
       ".cython.score-203 {background-color: #FFFF0b;}\n",
       ".cython.score-204 {background-color: #FFFF0b;}\n",
       ".cython.score-205 {background-color: #FFFF0b;}\n",
       ".cython.score-206 {background-color: #FFFF0b;}\n",
       ".cython.score-207 {background-color: #FFFF0b;}\n",
       ".cython.score-208 {background-color: #FFFF0b;}\n",
       ".cython.score-209 {background-color: #FFFF0b;}\n",
       ".cython.score-210 {background-color: #FFFF0b;}\n",
       ".cython.score-211 {background-color: #FFFF0b;}\n",
       ".cython.score-212 {background-color: #FFFF0b;}\n",
       ".cython.score-213 {background-color: #FFFF0b;}\n",
       ".cython.score-214 {background-color: #FFFF0b;}\n",
       ".cython.score-215 {background-color: #FFFF0b;}\n",
       ".cython.score-216 {background-color: #FFFF0b;}\n",
       ".cython.score-217 {background-color: #FFFF0b;}\n",
       ".cython.score-218 {background-color: #FFFF0b;}\n",
       ".cython.score-219 {background-color: #FFFF0b;}\n",
       ".cython.score-220 {background-color: #FFFF0b;}\n",
       ".cython.score-221 {background-color: #FFFF0b;}\n",
       ".cython.score-222 {background-color: #FFFF0a;}\n",
       ".cython.score-223 {background-color: #FFFF0a;}\n",
       ".cython.score-224 {background-color: #FFFF0a;}\n",
       ".cython.score-225 {background-color: #FFFF0a;}\n",
       ".cython.score-226 {background-color: #FFFF0a;}\n",
       ".cython.score-227 {background-color: #FFFF0a;}\n",
       ".cython.score-228 {background-color: #FFFF0a;}\n",
       ".cython.score-229 {background-color: #FFFF0a;}\n",
       ".cython.score-230 {background-color: #FFFF0a;}\n",
       ".cython.score-231 {background-color: #FFFF0a;}\n",
       ".cython.score-232 {background-color: #FFFF0a;}\n",
       ".cython.score-233 {background-color: #FFFF0a;}\n",
       ".cython.score-234 {background-color: #FFFF0a;}\n",
       ".cython.score-235 {background-color: #FFFF0a;}\n",
       ".cython.score-236 {background-color: #FFFF0a;}\n",
       ".cython.score-237 {background-color: #FFFF0a;}\n",
       ".cython.score-238 {background-color: #FFFF0a;}\n",
       ".cython.score-239 {background-color: #FFFF0a;}\n",
       ".cython.score-240 {background-color: #FFFF0a;}\n",
       ".cython.score-241 {background-color: #FFFF0a;}\n",
       ".cython.score-242 {background-color: #FFFF0a;}\n",
       ".cython.score-243 {background-color: #FFFF0a;}\n",
       ".cython.score-244 {background-color: #FFFF0a;}\n",
       ".cython.score-245 {background-color: #FFFF0a;}\n",
       ".cython.score-246 {background-color: #FFFF09;}\n",
       ".cython.score-247 {background-color: #FFFF09;}\n",
       ".cython.score-248 {background-color: #FFFF09;}\n",
       ".cython.score-249 {background-color: #FFFF09;}\n",
       ".cython.score-250 {background-color: #FFFF09;}\n",
       ".cython.score-251 {background-color: #FFFF09;}\n",
       ".cython.score-252 {background-color: #FFFF09;}\n",
       ".cython.score-253 {background-color: #FFFF09;}\n",
       ".cython.score-254 {background-color: #FFFF09;}\n",
       "pre { line-height: 125%; }\n",
       "td.linenos .normal { color: inherit; background-color: transparent; padding-left: 5px; padding-right: 5px; }\n",
       "span.linenos { color: inherit; background-color: transparent; padding-left: 5px; padding-right: 5px; }\n",
       "td.linenos .special { color: #000000; background-color: #ffffc0; padding-left: 5px; padding-right: 5px; }\n",
       "span.linenos.special { color: #000000; background-color: #ffffc0; padding-left: 5px; padding-right: 5px; }\n",
       ".cython .hll { background-color: #ffffcc }\n",
       ".cython { background: #f8f8f8; }\n",
       ".cython .c { color: #3D7B7B; font-style: italic } /* Comment */\n",
       ".cython .err { border: 1px solid #FF0000 } /* Error */\n",
       ".cython .k { color: #008000; font-weight: bold } /* Keyword */\n",
       ".cython .o { color: #666666 } /* Operator */\n",
       ".cython .ch { color: #3D7B7B; font-style: italic } /* Comment.Hashbang */\n",
       ".cython .cm { color: #3D7B7B; font-style: italic } /* Comment.Multiline */\n",
       ".cython .cp { color: #9C6500 } /* Comment.Preproc */\n",
       ".cython .cpf { color: #3D7B7B; font-style: italic } /* Comment.PreprocFile */\n",
       ".cython .c1 { color: #3D7B7B; font-style: italic } /* Comment.Single */\n",
       ".cython .cs { color: #3D7B7B; font-style: italic } /* Comment.Special */\n",
       ".cython .gd { color: #A00000 } /* Generic.Deleted */\n",
       ".cython .ge { font-style: italic } /* Generic.Emph */\n",
       ".cython .gr { color: #E40000 } /* Generic.Error */\n",
       ".cython .gh { color: #000080; font-weight: bold } /* Generic.Heading */\n",
       ".cython .gi { color: #008400 } /* Generic.Inserted */\n",
       ".cython .go { color: #717171 } /* Generic.Output */\n",
       ".cython .gp { color: #000080; font-weight: bold } /* Generic.Prompt */\n",
       ".cython .gs { font-weight: bold } /* Generic.Strong */\n",
       ".cython .gu { color: #800080; font-weight: bold } /* Generic.Subheading */\n",
       ".cython .gt { color: #0044DD } /* Generic.Traceback */\n",
       ".cython .kc { color: #008000; font-weight: bold } /* Keyword.Constant */\n",
       ".cython .kd { color: #008000; font-weight: bold } /* Keyword.Declaration */\n",
       ".cython .kn { color: #008000; font-weight: bold } /* Keyword.Namespace */\n",
       ".cython .kp { color: #008000 } /* Keyword.Pseudo */\n",
       ".cython .kr { color: #008000; font-weight: bold } /* Keyword.Reserved */\n",
       ".cython .kt { color: #B00040 } /* Keyword.Type */\n",
       ".cython .m { color: #666666 } /* Literal.Number */\n",
       ".cython .s { color: #BA2121 } /* Literal.String */\n",
       ".cython .na { color: #687822 } /* Name.Attribute */\n",
       ".cython .nb { color: #008000 } /* Name.Builtin */\n",
       ".cython .nc { color: #0000FF; font-weight: bold } /* Name.Class */\n",
       ".cython .no { color: #880000 } /* Name.Constant */\n",
       ".cython .nd { color: #AA22FF } /* Name.Decorator */\n",
       ".cython .ni { color: #717171; font-weight: bold } /* Name.Entity */\n",
       ".cython .ne { color: #CB3F38; font-weight: bold } /* Name.Exception */\n",
       ".cython .nf { color: #0000FF } /* Name.Function */\n",
       ".cython .nl { color: #767600 } /* Name.Label */\n",
       ".cython .nn { color: #0000FF; font-weight: bold } /* Name.Namespace */\n",
       ".cython .nt { color: #008000; font-weight: bold } /* Name.Tag */\n",
       ".cython .nv { color: #19177C } /* Name.Variable */\n",
       ".cython .ow { color: #AA22FF; font-weight: bold } /* Operator.Word */\n",
       ".cython .w { color: #bbbbbb } /* Text.Whitespace */\n",
       ".cython .mb { color: #666666 } /* Literal.Number.Bin */\n",
       ".cython .mf { color: #666666 } /* Literal.Number.Float */\n",
       ".cython .mh { color: #666666 } /* Literal.Number.Hex */\n",
       ".cython .mi { color: #666666 } /* Literal.Number.Integer */\n",
       ".cython .mo { color: #666666 } /* Literal.Number.Oct */\n",
       ".cython .sa { color: #BA2121 } /* Literal.String.Affix */\n",
       ".cython .sb { color: #BA2121 } /* Literal.String.Backtick */\n",
       ".cython .sc { color: #BA2121 } /* Literal.String.Char */\n",
       ".cython .dl { color: #BA2121 } /* Literal.String.Delimiter */\n",
       ".cython .sd { color: #BA2121; font-style: italic } /* Literal.String.Doc */\n",
       ".cython .s2 { color: #BA2121 } /* Literal.String.Double */\n",
       ".cython .se { color: #AA5D1F; font-weight: bold } /* Literal.String.Escape */\n",
       ".cython .sh { color: #BA2121 } /* Literal.String.Heredoc */\n",
       ".cython .si { color: #A45A77; font-weight: bold } /* Literal.String.Interpol */\n",
       ".cython .sx { color: #008000 } /* Literal.String.Other */\n",
       ".cython .sr { color: #A45A77 } /* Literal.String.Regex */\n",
       ".cython .s1 { color: #BA2121 } /* Literal.String.Single */\n",
       ".cython .ss { color: #19177C } /* Literal.String.Symbol */\n",
       ".cython .bp { color: #008000 } /* Name.Builtin.Pseudo */\n",
       ".cython .fm { color: #0000FF } /* Name.Function.Magic */\n",
       ".cython .vc { color: #19177C } /* Name.Variable.Class */\n",
       ".cython .vg { color: #19177C } /* Name.Variable.Global */\n",
       ".cython .vi { color: #19177C } /* Name.Variable.Instance */\n",
       ".cython .vm { color: #19177C } /* Name.Variable.Magic */\n",
       ".cython .il { color: #666666 } /* Literal.Number.Integer.Long */\n",
       "    </style>\n",
       "</head>\n",
       "<body class=\"cython\">\n",
       "<p><span style=\"border-bottom: solid 1px grey;\">Generated by Cython 0.29.33</span></p>\n",
       "<p>\n",
       "    <span style=\"background-color: #FFFF00\">Yellow lines</span> hint at Python interaction.<br />\n",
       "    Click on a line that starts with a \"<code>+</code>\" to see the C code that Cython generated for it.\n",
       "</p>\n",
       "<div class=\"cython\"><pre class=\"cython line score-8\" onclick=\"(function(s){s.display=s.display==='block'?'none':'block'})(this.nextElementSibling.style)\">+<span class=\"\">01</span>: <span class=\"k\">cimport</span> <span class=\"nn\">cython</span></pre>\n",
       "<pre class='cython code score-8 '>  __pyx_t_1 = <span class='pyx_c_api'>__Pyx_PyDict_NewPresized</span>(0);<span class='error_goto'> if (unlikely(!__pyx_t_1)) __PYX_ERR(0, 1, __pyx_L1_error)</span>\n",
       "  <span class='refnanny'>__Pyx_GOTREF</span>(__pyx_t_1);\n",
       "  if (<span class='py_c_api'>PyDict_SetItem</span>(__pyx_d, __pyx_n_s_test, __pyx_t_1) &lt; 0) <span class='error_goto'>__PYX_ERR(0, 1, __pyx_L1_error)</span>\n",
       "  <span class='pyx_macro_api'>__Pyx_DECREF</span>(__pyx_t_1); __pyx_t_1 = 0;\n",
       "</pre><pre class=\"cython line score-0\">&#xA0;<span class=\"\">02</span>: <span class=\"nd\">@cython</span><span class=\"o\">.</span><span class=\"n\">boundscheck</span><span class=\"p\">(</span><span class=\"bp\">False</span><span class=\"p\">)</span></pre>\n",
       "<pre class=\"cython line score-0\">&#xA0;<span class=\"\">03</span>: <span class=\"nd\">@cython</span><span class=\"o\">.</span><span class=\"n\">wraparound</span><span class=\"p\">(</span><span class=\"bp\">False</span><span class=\"p\">)</span></pre>\n",
       "<pre class=\"cython line score-0\">&#xA0;<span class=\"\">04</span>: <span class=\"nd\">@cython</span><span class=\"o\">.</span><span class=\"n\">cdivision</span><span class=\"p\">(</span><span class=\"bp\">True</span><span class=\"p\">)</span></pre>\n",
       "<pre class=\"cython line score-67\" onclick=\"(function(s){s.display=s.display==='block'?'none':'block'})(this.nextElementSibling.style)\">+<span class=\"\">05</span>: <span class=\"k\">cpdef</span> <span class=\"kr\">inline</span> <span class=\"kt\">float</span>[<span class=\"p\">::</span><span class=\"mf\">1</span><span class=\"p\">]</span> <span class=\"n\">saxpy_cython_V2</span><span class=\"p\">(</span><span class=\"nb\">float</span> <span class=\"n\">alpha</span><span class=\"p\">,</span> <span class=\"nb\">float</span><span class=\"p\">[::</span><span class=\"mf\">1</span><span class=\"p\">]</span> <span class=\"n\">x</span><span class=\"p\">,</span> <span class=\"nb\">float</span><span class=\"p\">[::</span><span class=\"mf\">1</span><span class=\"p\">]</span> <span class=\"n\">y</span><span class=\"p\">,</span> <span class=\"nb\">float</span><span class=\"p\">[::</span><span class=\"mf\">1</span><span class=\"p\">]</span> <span class=\"n\">z</span><span class=\"p\">):</span></pre>\n",
       "<pre class='cython code score-67 '>static PyObject *__pyx_pw_46_cython_magic_3fca9ddb7b1c965c85572e733fb92be3_1saxpy_cython_V2(PyObject *__pyx_self, PyObject *__pyx_args, PyObject *__pyx_kwds); /*proto*/\n",
       "static CYTHON_INLINE __Pyx_memviewslice __pyx_f_46_cython_magic_3fca9ddb7b1c965c85572e733fb92be3_saxpy_cython_V2(float __pyx_v_alpha, __Pyx_memviewslice __pyx_v_x, __Pyx_memviewslice __pyx_v_y, __Pyx_memviewslice __pyx_v_z, CYTHON_UNUSED int __pyx_skip_dispatch) {\n",
       "  int __pyx_v_i;\n",
       "  int __pyx_v_n;\n",
       "  __Pyx_memviewslice __pyx_r = { 0, 0, { 0 }, { 0 }, { 0 } };\n",
       "  <span class='refnanny'>__Pyx_RefNannyDeclarations</span>\n",
       "  <span class='refnanny'>__Pyx_RefNannySetupContext</span>(\"saxpy_cython_V2\", 0);\n",
       "/* … */\n",
       "  /* function exit code */\n",
       "  __pyx_L0:;\n",
       "  if (unlikely(!__pyx_r.memview)) {\n",
       "    <span class='py_c_api'>PyErr_SetString</span>(PyExc_TypeError, \"Memoryview return value is not initialized\");\n",
       "  }\n",
       "  <span class='refnanny'>__Pyx_RefNannyFinishContext</span>();\n",
       "  return __pyx_r;\n",
       "}\n",
       "\n",
       "/* Python wrapper */\n",
       "static PyObject *__pyx_pw_46_cython_magic_3fca9ddb7b1c965c85572e733fb92be3_1saxpy_cython_V2(PyObject *__pyx_self, PyObject *__pyx_args, PyObject *__pyx_kwds); /*proto*/\n",
       "static PyObject *__pyx_pw_46_cython_magic_3fca9ddb7b1c965c85572e733fb92be3_1saxpy_cython_V2(PyObject *__pyx_self, PyObject *__pyx_args, PyObject *__pyx_kwds) {\n",
       "  float __pyx_v_alpha;\n",
       "  __Pyx_memviewslice __pyx_v_x = { 0, 0, { 0 }, { 0 }, { 0 } };\n",
       "  __Pyx_memviewslice __pyx_v_y = { 0, 0, { 0 }, { 0 }, { 0 } };\n",
       "  __Pyx_memviewslice __pyx_v_z = { 0, 0, { 0 }, { 0 }, { 0 } };\n",
       "  PyObject *__pyx_r = 0;\n",
       "  <span class='refnanny'>__Pyx_RefNannyDeclarations</span>\n",
       "  <span class='refnanny'>__Pyx_RefNannySetupContext</span>(\"saxpy_cython_V2 (wrapper)\", 0);\n",
       "  {\n",
       "    static PyObject **__pyx_pyargnames[] = {&amp;__pyx_n_s_alpha,&amp;__pyx_n_s_x,&amp;__pyx_n_s_y,&amp;__pyx_n_s_z,0};\n",
       "    PyObject* values[4] = {0,0,0,0};\n",
       "    if (unlikely(__pyx_kwds)) {\n",
       "      Py_ssize_t kw_args;\n",
       "      const Py_ssize_t pos_args = <span class='py_macro_api'>PyTuple_GET_SIZE</span>(__pyx_args);\n",
       "      switch (pos_args) {\n",
       "        case  4: values[3] = <span class='py_macro_api'>PyTuple_GET_ITEM</span>(__pyx_args, 3);\n",
       "        CYTHON_FALLTHROUGH;\n",
       "        case  3: values[2] = <span class='py_macro_api'>PyTuple_GET_ITEM</span>(__pyx_args, 2);\n",
       "        CYTHON_FALLTHROUGH;\n",
       "        case  2: values[1] = <span class='py_macro_api'>PyTuple_GET_ITEM</span>(__pyx_args, 1);\n",
       "        CYTHON_FALLTHROUGH;\n",
       "        case  1: values[0] = <span class='py_macro_api'>PyTuple_GET_ITEM</span>(__pyx_args, 0);\n",
       "        CYTHON_FALLTHROUGH;\n",
       "        case  0: break;\n",
       "        default: goto __pyx_L5_argtuple_error;\n",
       "      }\n",
       "      kw_args = <span class='py_c_api'>PyDict_Size</span>(__pyx_kwds);\n",
       "      switch (pos_args) {\n",
       "        case  0:\n",
       "        if (likely((values[0] = <span class='pyx_c_api'>__Pyx_PyDict_GetItemStr</span>(__pyx_kwds, __pyx_n_s_alpha)) != 0)) kw_args--;\n",
       "        else goto __pyx_L5_argtuple_error;\n",
       "        CYTHON_FALLTHROUGH;\n",
       "        case  1:\n",
       "        if (likely((values[1] = <span class='pyx_c_api'>__Pyx_PyDict_GetItemStr</span>(__pyx_kwds, __pyx_n_s_x)) != 0)) kw_args--;\n",
       "        else {\n",
       "          <span class='pyx_c_api'>__Pyx_RaiseArgtupleInvalid</span>(\"saxpy_cython_V2\", 1, 4, 4, 1); <span class='error_goto'>__PYX_ERR(0, 5, __pyx_L3_error)</span>\n",
       "        }\n",
       "        CYTHON_FALLTHROUGH;\n",
       "        case  2:\n",
       "        if (likely((values[2] = <span class='pyx_c_api'>__Pyx_PyDict_GetItemStr</span>(__pyx_kwds, __pyx_n_s_y)) != 0)) kw_args--;\n",
       "        else {\n",
       "          <span class='pyx_c_api'>__Pyx_RaiseArgtupleInvalid</span>(\"saxpy_cython_V2\", 1, 4, 4, 2); <span class='error_goto'>__PYX_ERR(0, 5, __pyx_L3_error)</span>\n",
       "        }\n",
       "        CYTHON_FALLTHROUGH;\n",
       "        case  3:\n",
       "        if (likely((values[3] = <span class='pyx_c_api'>__Pyx_PyDict_GetItemStr</span>(__pyx_kwds, __pyx_n_s_z)) != 0)) kw_args--;\n",
       "        else {\n",
       "          <span class='pyx_c_api'>__Pyx_RaiseArgtupleInvalid</span>(\"saxpy_cython_V2\", 1, 4, 4, 3); <span class='error_goto'>__PYX_ERR(0, 5, __pyx_L3_error)</span>\n",
       "        }\n",
       "      }\n",
       "      if (unlikely(kw_args &gt; 0)) {\n",
       "        if (unlikely(<span class='pyx_c_api'>__Pyx_ParseOptionalKeywords</span>(__pyx_kwds, __pyx_pyargnames, 0, values, pos_args, \"saxpy_cython_V2\") &lt; 0)) <span class='error_goto'>__PYX_ERR(0, 5, __pyx_L3_error)</span>\n",
       "      }\n",
       "    } else if (<span class='py_macro_api'>PyTuple_GET_SIZE</span>(__pyx_args) != 4) {\n",
       "      goto __pyx_L5_argtuple_error;\n",
       "    } else {\n",
       "      values[0] = <span class='py_macro_api'>PyTuple_GET_ITEM</span>(__pyx_args, 0);\n",
       "      values[1] = <span class='py_macro_api'>PyTuple_GET_ITEM</span>(__pyx_args, 1);\n",
       "      values[2] = <span class='py_macro_api'>PyTuple_GET_ITEM</span>(__pyx_args, 2);\n",
       "      values[3] = <span class='py_macro_api'>PyTuple_GET_ITEM</span>(__pyx_args, 3);\n",
       "    }\n",
       "    __pyx_v_alpha = __pyx_<span class='py_c_api'>PyFloat_AsFloat</span>(values[0]); if (unlikely((__pyx_v_alpha == (float)-1) &amp;&amp; <span class='py_c_api'>PyErr_Occurred</span>())) <span class='error_goto'>__PYX_ERR(0, 5, __pyx_L3_error)</span>\n",
       "    __pyx_v_x = <span class='pyx_c_api'>__Pyx_PyObject_to_MemoryviewSlice_dc_float</span>(values[1], PyBUF_WRITABLE);<span class='error_goto'> if (unlikely(!__pyx_v_x.memview)) __PYX_ERR(0, 5, __pyx_L3_error)</span>\n",
       "    __pyx_v_y = <span class='pyx_c_api'>__Pyx_PyObject_to_MemoryviewSlice_dc_float</span>(values[2], PyBUF_WRITABLE);<span class='error_goto'> if (unlikely(!__pyx_v_y.memview)) __PYX_ERR(0, 5, __pyx_L3_error)</span>\n",
       "    __pyx_v_z = <span class='pyx_c_api'>__Pyx_PyObject_to_MemoryviewSlice_dc_float</span>(values[3], PyBUF_WRITABLE);<span class='error_goto'> if (unlikely(!__pyx_v_z.memview)) __PYX_ERR(0, 5, __pyx_L3_error)</span>\n",
       "  }\n",
       "  goto __pyx_L4_argument_unpacking_done;\n",
       "  __pyx_L5_argtuple_error:;\n",
       "  <span class='pyx_c_api'>__Pyx_RaiseArgtupleInvalid</span>(\"saxpy_cython_V2\", 1, 4, 4, <span class='py_macro_api'>PyTuple_GET_SIZE</span>(__pyx_args)); <span class='error_goto'>__PYX_ERR(0, 5, __pyx_L3_error)</span>\n",
       "  __pyx_L3_error:;\n",
       "  <span class='pyx_c_api'>__Pyx_AddTraceback</span>(\"_cython_magic_3fca9ddb7b1c965c85572e733fb92be3.saxpy_cython_V2\", __pyx_clineno, __pyx_lineno, __pyx_filename);\n",
       "  <span class='refnanny'>__Pyx_RefNannyFinishContext</span>();\n",
       "  return NULL;\n",
       "  __pyx_L4_argument_unpacking_done:;\n",
       "  __pyx_r = __pyx_pf_46_cython_magic_3fca9ddb7b1c965c85572e733fb92be3_saxpy_cython_V2(__pyx_self, __pyx_v_alpha, __pyx_v_x, __pyx_v_y, __pyx_v_z);\n",
       "  int __pyx_lineno = 0;\n",
       "  const char *__pyx_filename = NULL;\n",
       "  int __pyx_clineno = 0;\n",
       "\n",
       "  /* function exit code */\n",
       "  <span class='refnanny'>__Pyx_RefNannyFinishContext</span>();\n",
       "  return __pyx_r;\n",
       "}\n",
       "\n",
       "static PyObject *__pyx_pf_46_cython_magic_3fca9ddb7b1c965c85572e733fb92be3_saxpy_cython_V2(CYTHON_UNUSED PyObject *__pyx_self, float __pyx_v_alpha, __Pyx_memviewslice __pyx_v_x, __Pyx_memviewslice __pyx_v_y, __Pyx_memviewslice __pyx_v_z) {\n",
       "  PyObject *__pyx_r = NULL;\n",
       "  <span class='refnanny'>__Pyx_RefNannyDeclarations</span>\n",
       "  <span class='refnanny'>__Pyx_RefNannySetupContext</span>(\"saxpy_cython_V2\", 0);\n",
       "  <span class='pyx_macro_api'>__Pyx_XDECREF</span>(__pyx_r);\n",
       "  if (unlikely(!__pyx_v_x.memview)) { <span class='pyx_c_api'>__Pyx_RaiseUnboundLocalError</span>(\"x\"); <span class='error_goto'>__PYX_ERR(0, 5, __pyx_L1_error)</span> }\n",
       "  if (unlikely(!__pyx_v_y.memview)) { <span class='pyx_c_api'>__Pyx_RaiseUnboundLocalError</span>(\"y\"); <span class='error_goto'>__PYX_ERR(0, 5, __pyx_L1_error)</span> }\n",
       "  if (unlikely(!__pyx_v_z.memview)) { <span class='pyx_c_api'>__Pyx_RaiseUnboundLocalError</span>(\"z\"); <span class='error_goto'>__PYX_ERR(0, 5, __pyx_L1_error)</span> }\n",
       "  __pyx_t_1 = __pyx_f_46_cython_magic_3fca9ddb7b1c965c85572e733fb92be3_saxpy_cython_V2(__pyx_v_alpha, __pyx_v_x, __pyx_v_y, __pyx_v_z, 0);<span class='error_goto'> if (unlikely(!__pyx_t_1.memview)) __PYX_ERR(0, 5, __pyx_L1_error)</span>\n",
       "  __pyx_t_2 = __pyx_memoryview_fromslice(__pyx_t_1, 1, (PyObject *(*)(char *)) __pyx_memview_get_float, (int (*)(char *, PyObject *)) __pyx_memview_set_float, 0);;<span class='error_goto'> if (unlikely(!__pyx_t_2)) __PYX_ERR(0, 5, __pyx_L1_error)</span>\n",
       "  <span class='refnanny'>__Pyx_GOTREF</span>(__pyx_t_2);\n",
       "  __PYX_XDEC_MEMVIEW(&amp;__pyx_t_1, 1);\n",
       "  __pyx_t_1.memview = NULL;\n",
       "  __pyx_t_1.data = NULL;\n",
       "  __pyx_r = __pyx_t_2;\n",
       "  __pyx_t_2 = 0;\n",
       "  goto __pyx_L0;\n",
       "\n",
       "  /* function exit code */\n",
       "  __pyx_L1_error:;\n",
       "  __PYX_XDEC_MEMVIEW(&amp;__pyx_t_1, 1);\n",
       "  <span class='pyx_macro_api'>__Pyx_XDECREF</span>(__pyx_t_2);\n",
       "  <span class='pyx_c_api'>__Pyx_AddTraceback</span>(\"_cython_magic_3fca9ddb7b1c965c85572e733fb92be3.saxpy_cython_V2\", __pyx_clineno, __pyx_lineno, __pyx_filename);\n",
       "  __pyx_r = NULL;\n",
       "  __pyx_L0:;\n",
       "  __PYX_XDEC_MEMVIEW(&amp;__pyx_v_x, 1);\n",
       "  __PYX_XDEC_MEMVIEW(&amp;__pyx_v_y, 1);\n",
       "  __PYX_XDEC_MEMVIEW(&amp;__pyx_v_z, 1);\n",
       "  <span class='refnanny'>__Pyx_XGIVEREF</span>(__pyx_r);\n",
       "  <span class='refnanny'>__Pyx_RefNannyFinishContext</span>();\n",
       "  return __pyx_r;\n",
       "}\n",
       "</pre><pre class=\"cython line score-0\">&#xA0;<span class=\"\">06</span>:     <span class=\"k\">cdef</span> <span class=\"kt\">int</span> <span class=\"nf\">i</span></pre>\n",
       "<pre class=\"cython line score-0\" onclick=\"(function(s){s.display=s.display==='block'?'none':'block'})(this.nextElementSibling.style)\">+<span class=\"\">07</span>:     <span class=\"k\">cdef</span> <span class=\"kt\">int</span> <span class=\"nf\">n</span> <span class=\"o\">=</span> <span class=\"n\">x</span><span class=\"o\">.</span><span class=\"n\">shape</span><span class=\"p\">[</span><span class=\"mf\">0</span><span class=\"p\">]</span></pre>\n",
       "<pre class='cython code score-0 '>  __pyx_v_n = (__pyx_v_x.shape[0]);\n",
       "</pre><pre class=\"cython line score-0\" onclick=\"(function(s){s.display=s.display==='block'?'none':'block'})(this.nextElementSibling.style)\">+<span class=\"\">08</span>:     <span class=\"k\">for</span> <span class=\"n\">i</span> <span class=\"ow\">in</span> <span class=\"nb\">range</span><span class=\"p\">(</span><span class=\"n\">n</span><span class=\"p\">):</span></pre>\n",
       "<pre class='cython code score-0 '>  __pyx_t_1 = __pyx_v_n;\n",
       "  __pyx_t_2 = __pyx_t_1;\n",
       "  for (__pyx_t_3 = 0; __pyx_t_3 &lt; __pyx_t_2; __pyx_t_3+=1) {\n",
       "    __pyx_v_i = __pyx_t_3;\n",
       "</pre><pre class=\"cython line score-0\" onclick=\"(function(s){s.display=s.display==='block'?'none':'block'})(this.nextElementSibling.style)\">+<span class=\"\">09</span>:         <span class=\"n\">z</span><span class=\"p\">[</span><span class=\"n\">i</span><span class=\"p\">]</span> <span class=\"o\">=</span> <span class=\"n\">alpha</span> <span class=\"o\">*</span> <span class=\"n\">x</span><span class=\"p\">[</span><span class=\"n\">i</span><span class=\"p\">]</span> <span class=\"o\">+</span> <span class=\"n\">y</span><span class=\"p\">[</span><span class=\"n\">i</span><span class=\"p\">]</span></pre>\n",
       "<pre class='cython code score-0 '>    __pyx_t_4 = __pyx_v_i;\n",
       "    __pyx_t_5 = __pyx_v_i;\n",
       "    __pyx_t_6 = __pyx_v_i;\n",
       "    *((float *) ( /* dim=0 */ ((char *) (((float *) __pyx_v_z.data) + __pyx_t_6)) )) = ((__pyx_v_alpha * (*((float *) ( /* dim=0 */ ((char *) (((float *) __pyx_v_x.data) + __pyx_t_4)) )))) + (*((float *) ( /* dim=0 */ ((char *) (((float *) __pyx_v_y.data) + __pyx_t_5)) ))));\n",
       "  }\n",
       "</pre><pre class=\"cython line score-0\" onclick=\"(function(s){s.display=s.display==='block'?'none':'block'})(this.nextElementSibling.style)\">+<span class=\"\">10</span>:     <span class=\"k\">return</span> <span class=\"n\">z</span></pre>\n",
       "<pre class='cython code score-0 '>  __PYX_INC_MEMVIEW(&amp;__pyx_v_z, 0);\n",
       "  __pyx_r = __pyx_v_z;\n",
       "  goto __pyx_L0;\n",
       "</pre></div></body></html>"
      ],
      "text/plain": [
       "<IPython.core.display.HTML object>"
      ]
     },
     "execution_count": 33,
     "metadata": {},
     "output_type": "execute_result"
    }
   ],
   "source": [
    "%%cython -a\n",
    "cimport cython\n",
    "@cython.boundscheck(False)\n",
    "@cython.wraparound(False)\n",
    "@cython.cdivision(True)\n",
    "cpdef inline float[::1] saxpy_cython_V2(float alpha, float[::1] x, float[::1] y, float[::1] z):\n",
    "    cdef int i\n",
    "    cdef int n = x.shape[0]\n",
    "    for i in range(n):\n",
    "        z[i] = alpha * x[i] + y[i]\n",
    "    return z"
   ]
  },
  {
   "cell_type": "code",
   "execution_count": 34,
   "id": "c57cf243-75db-464e-989b-b245caa3698a",
   "metadata": {
    "tags": []
   },
   "outputs": [],
   "source": [
    "#import Saxpy_Python_Cython_CPU"
   ]
  },
  {
   "cell_type": "code",
   "execution_count": 35,
   "id": "d4143d05-dbe7-4c4f-9f23-9e824d1e53bd",
   "metadata": {},
   "outputs": [],
   "source": [
    "# Reading the csv into an array\n",
    "Saxpy_Python_Cython_CPU = np.genfromtxt(\"/home/stefancc/Desktop/HPC/saxpy/Benchmark_Results/Saxpy_Python_Cython_CPU.csv\", delimiter=\",\")"
   ]
  },
  {
   "cell_type": "code",
   "execution_count": 36,
   "id": "b57b3077-9d57-4831-a569-ee0c46417a7d",
   "metadata": {},
   "outputs": [
    {
     "name": "stdout",
     "output_type": "stream",
     "text": [
      "[0.00001847 0.00000113 0.00000087 0.00000087 0.00000089 0.00000098\n",
      " 0.00000103 0.00000082 0.00000122 0.00000109 0.000001   0.00000127\n",
      " 0.00000192 0.000003   0.00000478 0.00001407 0.00004003 0.00008307\n",
      " 0.00017277 0.00048888 0.00222994 0.00468974 0.00744828 0.0076407\n",
      " 0.0154401  0.03261141 0.0623635  0.12900383 0.25800083 0.51028363]\n"
     ]
    }
   ],
   "source": [
    "print(Saxpy_Python_Cython_CPU/1000)"
   ]
  },
  {
   "cell_type": "code",
   "execution_count": 37,
   "id": "4b4649b5-d4f8-46cd-82e8-bf8b8ded1130",
   "metadata": {
    "collapsed": true,
    "jupyter": {
     "outputs_hidden": true
    },
    "tags": []
   },
   "outputs": [
    {
     "data": {
      "image/png": "[encoded data removed]",
      "text/plain": [
       "<Figure size 1080x648 with 1 Axes>"
      ]
     },
     "metadata": {
      "needs_background": "light"
     },
     "output_type": "display_data"
    }
   ],
   "source": [
    "Benchmark (Saxpy_Python_Cython_CPU)"
   ]
  },
  {
   "cell_type": "markdown",
   "id": "edb57176-e8eb-4560-aac1-226a3113e31e",
   "metadata": {},
   "source": [
    "___"
   ]
  },
  {
   "cell_type": "markdown",
   "id": "f39ec176-5d25-4c5e-8f92-9d45d94b4f3d",
   "metadata": {},
   "source": [
    "___"
   ]
  },
  {
   "cell_type": "markdown",
   "id": "878c5f9a-fb0f-4193-a357-0d907a6641f8",
   "metadata": {},
   "source": [
    "___"
   ]
  },
  {
   "cell_type": "markdown",
   "id": "c7d64b4c-669a-49bf-832a-8b71761453b2",
   "metadata": {},
   "source": [
    "# 8. Saxpy Python Cython Multithread CPU"
   ]
  },
  {
   "cell_type": "code",
   "execution_count": 38,
   "id": "d7b2597c-1078-4dd7-81bf-418f6c976e79",
   "metadata": {},
   "outputs": [],
   "source": [
    "# run this in src/Saxpy_Cython to build: pyhon setup.py build_ext --inplace"
   ]
  },
  {
   "cell_type": "markdown",
   "id": "3c7c9ab5-8044-4da5-a6e5-0fe9dde89762",
   "metadata": {},
   "source": [
    "### Some Benchmark results using different compilations\n",
    "\n",
    "1 Thread\n",
    "\n",
    "O2 - 542 ms\n",
    "\n",
    "O3 - 566 ms\n",
    "\n",
    "2 Threads\n",
    "\n",
    "O2 - 429 ms\n",
    "\n",
    "O3 - 431 ms\n",
    "\n",
    "4 Threads\n",
    "\n",
    "O2 - 416 ms\n",
    "\n",
    "O3 - 423 ms\n",
    "\n",
    "16 Threads\n",
    "\n",
    "O2 - 456 ms"
   ]
  },
  {
   "cell_type": "code",
   "execution_count": 39,
   "id": "c50bbf70-f4ca-47f2-80f4-fe29821778a3",
   "metadata": {
    "collapsed": true,
    "jupyter": {
     "outputs_hidden": true
    },
    "tags": []
   },
   "outputs": [
    {
     "data": {
      "text/html": [
       "<!DOCTYPE html>\n",
       "<!-- Generated by Cython 0.29.33 -->\n",
       "<html>\n",
       "<head>\n",
       "    <meta http-equiv=\"Content-Type\" content=\"text/html; charset=utf-8\" />\n",
       "    <title>Cython: _cython_magic_f612d8a727194484f3edcf99a4241f1c.pyx</title>\n",
       "    <style type=\"text/css\">\n",
       "    \n",
       "body.cython { font-family: courier; font-size: 12; }\n",
       "\n",
       ".cython.tag  {  }\n",
       ".cython.line { margin: 0em }\n",
       ".cython.code { font-size: 9; color: #444444; display: none; margin: 0px 0px 0px 8px; border-left: 8px none; }\n",
       "\n",
       ".cython.line .run { background-color: #B0FFB0; }\n",
       ".cython.line .mis { background-color: #FFB0B0; }\n",
       ".cython.code.run  { border-left: 8px solid #B0FFB0; }\n",
       ".cython.code.mis  { border-left: 8px solid #FFB0B0; }\n",
       "\n",
       ".cython.code .py_c_api  { color: red; }\n",
       ".cython.code .py_macro_api  { color: #FF7000; }\n",
       ".cython.code .pyx_c_api  { color: #FF3000; }\n",
       ".cython.code .pyx_macro_api  { color: #FF7000; }\n",
       ".cython.code .refnanny  { color: #FFA000; }\n",
       ".cython.code .trace  { color: #FFA000; }\n",
       ".cython.code .error_goto  { color: #FFA000; }\n",
       "\n",
       ".cython.code .coerce  { color: #008000; border: 1px dotted #008000 }\n",
       ".cython.code .py_attr { color: #FF0000; font-weight: bold; }\n",
       ".cython.code .c_attr  { color: #0000FF; }\n",
       ".cython.code .py_call { color: #FF0000; font-weight: bold; }\n",
       ".cython.code .c_call  { color: #0000FF; }\n",
       "\n",
       ".cython.score-0 {background-color: #FFFFff;}\n",
       ".cython.score-1 {background-color: #FFFFe7;}\n",
       ".cython.score-2 {background-color: #FFFFd4;}\n",
       ".cython.score-3 {background-color: #FFFFc4;}\n",
       ".cython.score-4 {background-color: #FFFFb6;}\n",
       ".cython.score-5 {background-color: #FFFFaa;}\n",
       ".cython.score-6 {background-color: #FFFF9f;}\n",
       ".cython.score-7 {background-color: #FFFF96;}\n",
       ".cython.score-8 {background-color: #FFFF8d;}\n",
       ".cython.score-9 {background-color: #FFFF86;}\n",
       ".cython.score-10 {background-color: #FFFF7f;}\n",
       ".cython.score-11 {background-color: #FFFF79;}\n",
       ".cython.score-12 {background-color: #FFFF73;}\n",
       ".cython.score-13 {background-color: #FFFF6e;}\n",
       ".cython.score-14 {background-color: #FFFF6a;}\n",
       ".cython.score-15 {background-color: #FFFF66;}\n",
       ".cython.score-16 {background-color: #FFFF62;}\n",
       ".cython.score-17 {background-color: #FFFF5e;}\n",
       ".cython.score-18 {background-color: #FFFF5b;}\n",
       ".cython.score-19 {background-color: #FFFF57;}\n",
       ".cython.score-20 {background-color: #FFFF55;}\n",
       ".cython.score-21 {background-color: #FFFF52;}\n",
       ".cython.score-22 {background-color: #FFFF4f;}\n",
       ".cython.score-23 {background-color: #FFFF4d;}\n",
       ".cython.score-24 {background-color: #FFFF4b;}\n",
       ".cython.score-25 {background-color: #FFFF48;}\n",
       ".cython.score-26 {background-color: #FFFF46;}\n",
       ".cython.score-27 {background-color: #FFFF44;}\n",
       ".cython.score-28 {background-color: #FFFF43;}\n",
       ".cython.score-29 {background-color: #FFFF41;}\n",
       ".cython.score-30 {background-color: #FFFF3f;}\n",
       ".cython.score-31 {background-color: #FFFF3e;}\n",
       ".cython.score-32 {background-color: #FFFF3c;}\n",
       ".cython.score-33 {background-color: #FFFF3b;}\n",
       ".cython.score-34 {background-color: #FFFF39;}\n",
       ".cython.score-35 {background-color: #FFFF38;}\n",
       ".cython.score-36 {background-color: #FFFF37;}\n",
       ".cython.score-37 {background-color: #FFFF36;}\n",
       ".cython.score-38 {background-color: #FFFF35;}\n",
       ".cython.score-39 {background-color: #FFFF34;}\n",
       ".cython.score-40 {background-color: #FFFF33;}\n",
       ".cython.score-41 {background-color: #FFFF32;}\n",
       ".cython.score-42 {background-color: #FFFF31;}\n",
       ".cython.score-43 {background-color: #FFFF30;}\n",
       ".cython.score-44 {background-color: #FFFF2f;}\n",
       ".cython.score-45 {background-color: #FFFF2e;}\n",
       ".cython.score-46 {background-color: #FFFF2d;}\n",
       ".cython.score-47 {background-color: #FFFF2c;}\n",
       ".cython.score-48 {background-color: #FFFF2b;}\n",
       ".cython.score-49 {background-color: #FFFF2b;}\n",
       ".cython.score-50 {background-color: #FFFF2a;}\n",
       ".cython.score-51 {background-color: #FFFF29;}\n",
       ".cython.score-52 {background-color: #FFFF29;}\n",
       ".cython.score-53 {background-color: #FFFF28;}\n",
       ".cython.score-54 {background-color: #FFFF27;}\n",
       ".cython.score-55 {background-color: #FFFF27;}\n",
       ".cython.score-56 {background-color: #FFFF26;}\n",
       ".cython.score-57 {background-color: #FFFF26;}\n",
       ".cython.score-58 {background-color: #FFFF25;}\n",
       ".cython.score-59 {background-color: #FFFF24;}\n",
       ".cython.score-60 {background-color: #FFFF24;}\n",
       ".cython.score-61 {background-color: #FFFF23;}\n",
       ".cython.score-62 {background-color: #FFFF23;}\n",
       ".cython.score-63 {background-color: #FFFF22;}\n",
       ".cython.score-64 {background-color: #FFFF22;}\n",
       ".cython.score-65 {background-color: #FFFF22;}\n",
       ".cython.score-66 {background-color: #FFFF21;}\n",
       ".cython.score-67 {background-color: #FFFF21;}\n",
       ".cython.score-68 {background-color: #FFFF20;}\n",
       ".cython.score-69 {background-color: #FFFF20;}\n",
       ".cython.score-70 {background-color: #FFFF1f;}\n",
       ".cython.score-71 {background-color: #FFFF1f;}\n",
       ".cython.score-72 {background-color: #FFFF1f;}\n",
       ".cython.score-73 {background-color: #FFFF1e;}\n",
       ".cython.score-74 {background-color: #FFFF1e;}\n",
       ".cython.score-75 {background-color: #FFFF1e;}\n",
       ".cython.score-76 {background-color: #FFFF1d;}\n",
       ".cython.score-77 {background-color: #FFFF1d;}\n",
       ".cython.score-78 {background-color: #FFFF1c;}\n",
       ".cython.score-79 {background-color: #FFFF1c;}\n",
       ".cython.score-80 {background-color: #FFFF1c;}\n",
       ".cython.score-81 {background-color: #FFFF1c;}\n",
       ".cython.score-82 {background-color: #FFFF1b;}\n",
       ".cython.score-83 {background-color: #FFFF1b;}\n",
       ".cython.score-84 {background-color: #FFFF1b;}\n",
       ".cython.score-85 {background-color: #FFFF1a;}\n",
       ".cython.score-86 {background-color: #FFFF1a;}\n",
       ".cython.score-87 {background-color: #FFFF1a;}\n",
       ".cython.score-88 {background-color: #FFFF1a;}\n",
       ".cython.score-89 {background-color: #FFFF19;}\n",
       ".cython.score-90 {background-color: #FFFF19;}\n",
       ".cython.score-91 {background-color: #FFFF19;}\n",
       ".cython.score-92 {background-color: #FFFF19;}\n",
       ".cython.score-93 {background-color: #FFFF18;}\n",
       ".cython.score-94 {background-color: #FFFF18;}\n",
       ".cython.score-95 {background-color: #FFFF18;}\n",
       ".cython.score-96 {background-color: #FFFF18;}\n",
       ".cython.score-97 {background-color: #FFFF17;}\n",
       ".cython.score-98 {background-color: #FFFF17;}\n",
       ".cython.score-99 {background-color: #FFFF17;}\n",
       ".cython.score-100 {background-color: #FFFF17;}\n",
       ".cython.score-101 {background-color: #FFFF16;}\n",
       ".cython.score-102 {background-color: #FFFF16;}\n",
       ".cython.score-103 {background-color: #FFFF16;}\n",
       ".cython.score-104 {background-color: #FFFF16;}\n",
       ".cython.score-105 {background-color: #FFFF16;}\n",
       ".cython.score-106 {background-color: #FFFF15;}\n",
       ".cython.score-107 {background-color: #FFFF15;}\n",
       ".cython.score-108 {background-color: #FFFF15;}\n",
       ".cython.score-109 {background-color: #FFFF15;}\n",
       ".cython.score-110 {background-color: #FFFF15;}\n",
       ".cython.score-111 {background-color: #FFFF15;}\n",
       ".cython.score-112 {background-color: #FFFF14;}\n",
       ".cython.score-113 {background-color: #FFFF14;}\n",
       ".cython.score-114 {background-color: #FFFF14;}\n",
       ".cython.score-115 {background-color: #FFFF14;}\n",
       ".cython.score-116 {background-color: #FFFF14;}\n",
       ".cython.score-117 {background-color: #FFFF14;}\n",
       ".cython.score-118 {background-color: #FFFF13;}\n",
       ".cython.score-119 {background-color: #FFFF13;}\n",
       ".cython.score-120 {background-color: #FFFF13;}\n",
       ".cython.score-121 {background-color: #FFFF13;}\n",
       ".cython.score-122 {background-color: #FFFF13;}\n",
       ".cython.score-123 {background-color: #FFFF13;}\n",
       ".cython.score-124 {background-color: #FFFF13;}\n",
       ".cython.score-125 {background-color: #FFFF12;}\n",
       ".cython.score-126 {background-color: #FFFF12;}\n",
       ".cython.score-127 {background-color: #FFFF12;}\n",
       ".cython.score-128 {background-color: #FFFF12;}\n",
       ".cython.score-129 {background-color: #FFFF12;}\n",
       ".cython.score-130 {background-color: #FFFF12;}\n",
       ".cython.score-131 {background-color: #FFFF12;}\n",
       ".cython.score-132 {background-color: #FFFF11;}\n",
       ".cython.score-133 {background-color: #FFFF11;}\n",
       ".cython.score-134 {background-color: #FFFF11;}\n",
       ".cython.score-135 {background-color: #FFFF11;}\n",
       ".cython.score-136 {background-color: #FFFF11;}\n",
       ".cython.score-137 {background-color: #FFFF11;}\n",
       ".cython.score-138 {background-color: #FFFF11;}\n",
       ".cython.score-139 {background-color: #FFFF11;}\n",
       ".cython.score-140 {background-color: #FFFF11;}\n",
       ".cython.score-141 {background-color: #FFFF10;}\n",
       ".cython.score-142 {background-color: #FFFF10;}\n",
       ".cython.score-143 {background-color: #FFFF10;}\n",
       ".cython.score-144 {background-color: #FFFF10;}\n",
       ".cython.score-145 {background-color: #FFFF10;}\n",
       ".cython.score-146 {background-color: #FFFF10;}\n",
       ".cython.score-147 {background-color: #FFFF10;}\n",
       ".cython.score-148 {background-color: #FFFF10;}\n",
       ".cython.score-149 {background-color: #FFFF10;}\n",
       ".cython.score-150 {background-color: #FFFF0f;}\n",
       ".cython.score-151 {background-color: #FFFF0f;}\n",
       ".cython.score-152 {background-color: #FFFF0f;}\n",
       ".cython.score-153 {background-color: #FFFF0f;}\n",
       ".cython.score-154 {background-color: #FFFF0f;}\n",
       ".cython.score-155 {background-color: #FFFF0f;}\n",
       ".cython.score-156 {background-color: #FFFF0f;}\n",
       ".cython.score-157 {background-color: #FFFF0f;}\n",
       ".cython.score-158 {background-color: #FFFF0f;}\n",
       ".cython.score-159 {background-color: #FFFF0f;}\n",
       ".cython.score-160 {background-color: #FFFF0f;}\n",
       ".cython.score-161 {background-color: #FFFF0e;}\n",
       ".cython.score-162 {background-color: #FFFF0e;}\n",
       ".cython.score-163 {background-color: #FFFF0e;}\n",
       ".cython.score-164 {background-color: #FFFF0e;}\n",
       ".cython.score-165 {background-color: #FFFF0e;}\n",
       ".cython.score-166 {background-color: #FFFF0e;}\n",
       ".cython.score-167 {background-color: #FFFF0e;}\n",
       ".cython.score-168 {background-color: #FFFF0e;}\n",
       ".cython.score-169 {background-color: #FFFF0e;}\n",
       ".cython.score-170 {background-color: #FFFF0e;}\n",
       ".cython.score-171 {background-color: #FFFF0e;}\n",
       ".cython.score-172 {background-color: #FFFF0e;}\n",
       ".cython.score-173 {background-color: #FFFF0d;}\n",
       ".cython.score-174 {background-color: #FFFF0d;}\n",
       ".cython.score-175 {background-color: #FFFF0d;}\n",
       ".cython.score-176 {background-color: #FFFF0d;}\n",
       ".cython.score-177 {background-color: #FFFF0d;}\n",
       ".cython.score-178 {background-color: #FFFF0d;}\n",
       ".cython.score-179 {background-color: #FFFF0d;}\n",
       ".cython.score-180 {background-color: #FFFF0d;}\n",
       ".cython.score-181 {background-color: #FFFF0d;}\n",
       ".cython.score-182 {background-color: #FFFF0d;}\n",
       ".cython.score-183 {background-color: #FFFF0d;}\n",
       ".cython.score-184 {background-color: #FFFF0d;}\n",
       ".cython.score-185 {background-color: #FFFF0d;}\n",
       ".cython.score-186 {background-color: #FFFF0d;}\n",
       ".cython.score-187 {background-color: #FFFF0c;}\n",
       ".cython.score-188 {background-color: #FFFF0c;}\n",
       ".cython.score-189 {background-color: #FFFF0c;}\n",
       ".cython.score-190 {background-color: #FFFF0c;}\n",
       ".cython.score-191 {background-color: #FFFF0c;}\n",
       ".cython.score-192 {background-color: #FFFF0c;}\n",
       ".cython.score-193 {background-color: #FFFF0c;}\n",
       ".cython.score-194 {background-color: #FFFF0c;}\n",
       ".cython.score-195 {background-color: #FFFF0c;}\n",
       ".cython.score-196 {background-color: #FFFF0c;}\n",
       ".cython.score-197 {background-color: #FFFF0c;}\n",
       ".cython.score-198 {background-color: #FFFF0c;}\n",
       ".cython.score-199 {background-color: #FFFF0c;}\n",
       ".cython.score-200 {background-color: #FFFF0c;}\n",
       ".cython.score-201 {background-color: #FFFF0c;}\n",
       ".cython.score-202 {background-color: #FFFF0c;}\n",
       ".cython.score-203 {background-color: #FFFF0b;}\n",
       ".cython.score-204 {background-color: #FFFF0b;}\n",
       ".cython.score-205 {background-color: #FFFF0b;}\n",
       ".cython.score-206 {background-color: #FFFF0b;}\n",
       ".cython.score-207 {background-color: #FFFF0b;}\n",
       ".cython.score-208 {background-color: #FFFF0b;}\n",
       ".cython.score-209 {background-color: #FFFF0b;}\n",
       ".cython.score-210 {background-color: #FFFF0b;}\n",
       ".cython.score-211 {background-color: #FFFF0b;}\n",
       ".cython.score-212 {background-color: #FFFF0b;}\n",
       ".cython.score-213 {background-color: #FFFF0b;}\n",
       ".cython.score-214 {background-color: #FFFF0b;}\n",
       ".cython.score-215 {background-color: #FFFF0b;}\n",
       ".cython.score-216 {background-color: #FFFF0b;}\n",
       ".cython.score-217 {background-color: #FFFF0b;}\n",
       ".cython.score-218 {background-color: #FFFF0b;}\n",
       ".cython.score-219 {background-color: #FFFF0b;}\n",
       ".cython.score-220 {background-color: #FFFF0b;}\n",
       ".cython.score-221 {background-color: #FFFF0b;}\n",
       ".cython.score-222 {background-color: #FFFF0a;}\n",
       ".cython.score-223 {background-color: #FFFF0a;}\n",
       ".cython.score-224 {background-color: #FFFF0a;}\n",
       ".cython.score-225 {background-color: #FFFF0a;}\n",
       ".cython.score-226 {background-color: #FFFF0a;}\n",
       ".cython.score-227 {background-color: #FFFF0a;}\n",
       ".cython.score-228 {background-color: #FFFF0a;}\n",
       ".cython.score-229 {background-color: #FFFF0a;}\n",
       ".cython.score-230 {background-color: #FFFF0a;}\n",
       ".cython.score-231 {background-color: #FFFF0a;}\n",
       ".cython.score-232 {background-color: #FFFF0a;}\n",
       ".cython.score-233 {background-color: #FFFF0a;}\n",
       ".cython.score-234 {background-color: #FFFF0a;}\n",
       ".cython.score-235 {background-color: #FFFF0a;}\n",
       ".cython.score-236 {background-color: #FFFF0a;}\n",
       ".cython.score-237 {background-color: #FFFF0a;}\n",
       ".cython.score-238 {background-color: #FFFF0a;}\n",
       ".cython.score-239 {background-color: #FFFF0a;}\n",
       ".cython.score-240 {background-color: #FFFF0a;}\n",
       ".cython.score-241 {background-color: #FFFF0a;}\n",
       ".cython.score-242 {background-color: #FFFF0a;}\n",
       ".cython.score-243 {background-color: #FFFF0a;}\n",
       ".cython.score-244 {background-color: #FFFF0a;}\n",
       ".cython.score-245 {background-color: #FFFF0a;}\n",
       ".cython.score-246 {background-color: #FFFF09;}\n",
       ".cython.score-247 {background-color: #FFFF09;}\n",
       ".cython.score-248 {background-color: #FFFF09;}\n",
       ".cython.score-249 {background-color: #FFFF09;}\n",
       ".cython.score-250 {background-color: #FFFF09;}\n",
       ".cython.score-251 {background-color: #FFFF09;}\n",
       ".cython.score-252 {background-color: #FFFF09;}\n",
       ".cython.score-253 {background-color: #FFFF09;}\n",
       ".cython.score-254 {background-color: #FFFF09;}\n",
       "pre { line-height: 125%; }\n",
       "td.linenos .normal { color: inherit; background-color: transparent; padding-left: 5px; padding-right: 5px; }\n",
       "span.linenos { color: inherit; background-color: transparent; padding-left: 5px; padding-right: 5px; }\n",
       "td.linenos .special { color: #000000; background-color: #ffffc0; padding-left: 5px; padding-right: 5px; }\n",
       "span.linenos.special { color: #000000; background-color: #ffffc0; padding-left: 5px; padding-right: 5px; }\n",
       ".cython .hll { background-color: #ffffcc }\n",
       ".cython { background: #f8f8f8; }\n",
       ".cython .c { color: #3D7B7B; font-style: italic } /* Comment */\n",
       ".cython .err { border: 1px solid #FF0000 } /* Error */\n",
       ".cython .k { color: #008000; font-weight: bold } /* Keyword */\n",
       ".cython .o { color: #666666 } /* Operator */\n",
       ".cython .ch { color: #3D7B7B; font-style: italic } /* Comment.Hashbang */\n",
       ".cython .cm { color: #3D7B7B; font-style: italic } /* Comment.Multiline */\n",
       ".cython .cp { color: #9C6500 } /* Comment.Preproc */\n",
       ".cython .cpf { color: #3D7B7B; font-style: italic } /* Comment.PreprocFile */\n",
       ".cython .c1 { color: #3D7B7B; font-style: italic } /* Comment.Single */\n",
       ".cython .cs { color: #3D7B7B; font-style: italic } /* Comment.Special */\n",
       ".cython .gd { color: #A00000 } /* Generic.Deleted */\n",
       ".cython .ge { font-style: italic } /* Generic.Emph */\n",
       ".cython .gr { color: #E40000 } /* Generic.Error */\n",
       ".cython .gh { color: #000080; font-weight: bold } /* Generic.Heading */\n",
       ".cython .gi { color: #008400 } /* Generic.Inserted */\n",
       ".cython .go { color: #717171 } /* Generic.Output */\n",
       ".cython .gp { color: #000080; font-weight: bold } /* Generic.Prompt */\n",
       ".cython .gs { font-weight: bold } /* Generic.Strong */\n",
       ".cython .gu { color: #800080; font-weight: bold } /* Generic.Subheading */\n",
       ".cython .gt { color: #0044DD } /* Generic.Traceback */\n",
       ".cython .kc { color: #008000; font-weight: bold } /* Keyword.Constant */\n",
       ".cython .kd { color: #008000; font-weight: bold } /* Keyword.Declaration */\n",
       ".cython .kn { color: #008000; font-weight: bold } /* Keyword.Namespace */\n",
       ".cython .kp { color: #008000 } /* Keyword.Pseudo */\n",
       ".cython .kr { color: #008000; font-weight: bold } /* Keyword.Reserved */\n",
       ".cython .kt { color: #B00040 } /* Keyword.Type */\n",
       ".cython .m { color: #666666 } /* Literal.Number */\n",
       ".cython .s { color: #BA2121 } /* Literal.String */\n",
       ".cython .na { color: #687822 } /* Name.Attribute */\n",
       ".cython .nb { color: #008000 } /* Name.Builtin */\n",
       ".cython .nc { color: #0000FF; font-weight: bold } /* Name.Class */\n",
       ".cython .no { color: #880000 } /* Name.Constant */\n",
       ".cython .nd { color: #AA22FF } /* Name.Decorator */\n",
       ".cython .ni { color: #717171; font-weight: bold } /* Name.Entity */\n",
       ".cython .ne { color: #CB3F38; font-weight: bold } /* Name.Exception */\n",
       ".cython .nf { color: #0000FF } /* Name.Function */\n",
       ".cython .nl { color: #767600 } /* Name.Label */\n",
       ".cython .nn { color: #0000FF; font-weight: bold } /* Name.Namespace */\n",
       ".cython .nt { color: #008000; font-weight: bold } /* Name.Tag */\n",
       ".cython .nv { color: #19177C } /* Name.Variable */\n",
       ".cython .ow { color: #AA22FF; font-weight: bold } /* Operator.Word */\n",
       ".cython .w { color: #bbbbbb } /* Text.Whitespace */\n",
       ".cython .mb { color: #666666 } /* Literal.Number.Bin */\n",
       ".cython .mf { color: #666666 } /* Literal.Number.Float */\n",
       ".cython .mh { color: #666666 } /* Literal.Number.Hex */\n",
       ".cython .mi { color: #666666 } /* Literal.Number.Integer */\n",
       ".cython .mo { color: #666666 } /* Literal.Number.Oct */\n",
       ".cython .sa { color: #BA2121 } /* Literal.String.Affix */\n",
       ".cython .sb { color: #BA2121 } /* Literal.String.Backtick */\n",
       ".cython .sc { color: #BA2121 } /* Literal.String.Char */\n",
       ".cython .dl { color: #BA2121 } /* Literal.String.Delimiter */\n",
       ".cython .sd { color: #BA2121; font-style: italic } /* Literal.String.Doc */\n",
       ".cython .s2 { color: #BA2121 } /* Literal.String.Double */\n",
       ".cython .se { color: #AA5D1F; font-weight: bold } /* Literal.String.Escape */\n",
       ".cython .sh { color: #BA2121 } /* Literal.String.Heredoc */\n",
       ".cython .si { color: #A45A77; font-weight: bold } /* Literal.String.Interpol */\n",
       ".cython .sx { color: #008000 } /* Literal.String.Other */\n",
       ".cython .sr { color: #A45A77 } /* Literal.String.Regex */\n",
       ".cython .s1 { color: #BA2121 } /* Literal.String.Single */\n",
       ".cython .ss { color: #19177C } /* Literal.String.Symbol */\n",
       ".cython .bp { color: #008000 } /* Name.Builtin.Pseudo */\n",
       ".cython .fm { color: #0000FF } /* Name.Function.Magic */\n",
       ".cython .vc { color: #19177C } /* Name.Variable.Class */\n",
       ".cython .vg { color: #19177C } /* Name.Variable.Global */\n",
       ".cython .vi { color: #19177C } /* Name.Variable.Instance */\n",
       ".cython .vm { color: #19177C } /* Name.Variable.Magic */\n",
       ".cython .il { color: #666666 } /* Literal.Number.Integer.Long */\n",
       "    </style>\n",
       "</head>\n",
       "<body class=\"cython\">\n",
       "<p><span style=\"border-bottom: solid 1px grey;\">Generated by Cython 0.29.33</span></p>\n",
       "<p>\n",
       "    <span style=\"background-color: #FFFF00\">Yellow lines</span> hint at Python interaction.<br />\n",
       "    Click on a line that starts with a \"<code>+</code>\" to see the C code that Cython generated for it.\n",
       "</p>\n",
       "<div class=\"cython\"><pre class=\"cython line score-8\" onclick=\"(function(s){s.display=s.display==='block'?'none':'block'})(this.nextElementSibling.style)\">+<span class=\"\">01</span>: <span class=\"k\">cimport</span> <span class=\"nn\">cython</span></pre>\n",
       "<pre class='cython code score-8 '>  __pyx_t_1 = <span class='pyx_c_api'>__Pyx_PyDict_NewPresized</span>(0);<span class='error_goto'> if (unlikely(!__pyx_t_1)) __PYX_ERR(0, 1, __pyx_L1_error)</span>\n",
       "  <span class='refnanny'>__Pyx_GOTREF</span>(__pyx_t_1);\n",
       "  if (<span class='py_c_api'>PyDict_SetItem</span>(__pyx_d, __pyx_n_s_test, __pyx_t_1) &lt; 0) <span class='error_goto'>__PYX_ERR(0, 1, __pyx_L1_error)</span>\n",
       "  <span class='pyx_macro_api'>__Pyx_DECREF</span>(__pyx_t_1); __pyx_t_1 = 0;\n",
       "</pre><pre class=\"cython line score-0\">&#xA0;<span class=\"\">02</span>: <span class=\"k\">from</span> <span class=\"nn\">cython.parallel</span> <span class=\"k\">import</span> <span class=\"n\">parallel</span><span class=\"p\">,</span> <span class=\"n\">prange</span></pre>\n",
       "<pre class=\"cython line score-0\">&#xA0;<span class=\"\">03</span>: <span class=\"nd\">@cython</span><span class=\"o\">.</span><span class=\"n\">boundscheck</span><span class=\"p\">(</span><span class=\"bp\">False</span><span class=\"p\">)</span></pre>\n",
       "<pre class=\"cython line score-0\">&#xA0;<span class=\"\">04</span>: <span class=\"nd\">@cython</span><span class=\"o\">.</span><span class=\"n\">wraparound</span><span class=\"p\">(</span><span class=\"bp\">False</span><span class=\"p\">)</span></pre>\n",
       "<pre class=\"cython line score-0\">&#xA0;<span class=\"\">05</span>: <span class=\"nd\">@cython</span><span class=\"o\">.</span><span class=\"n\">cdivision</span><span class=\"p\">(</span><span class=\"bp\">True</span><span class=\"p\">)</span></pre>\n",
       "<pre class=\"cython line score-80\" onclick=\"(function(s){s.display=s.display==='block'?'none':'block'})(this.nextElementSibling.style)\">+<span class=\"\">06</span>: <span class=\"k\">cpdef</span> <span class=\"kr\">inline</span> <span class=\"kt\">float</span>[<span class=\"p\">::</span><span class=\"mf\">1</span><span class=\"p\">]</span> <span class=\"n\">saxpy_cython_multithread</span><span class=\"p\">(</span><span class=\"nb\">float</span> <span class=\"n\">alpha</span><span class=\"p\">,</span> <span class=\"nb\">float</span><span class=\"p\">[::</span><span class=\"mf\">1</span><span class=\"p\">]</span> <span class=\"n\">x</span><span class=\"p\">,</span> <span class=\"nb\">float</span><span class=\"p\">[::</span><span class=\"mf\">1</span><span class=\"p\">]</span> <span class=\"n\">y</span><span class=\"p\">,</span> <span class=\"nb\">float</span><span class=\"p\">[::</span><span class=\"mf\">1</span><span class=\"p\">]</span> <span class=\"n\">z</span><span class=\"p\">,</span> <span class=\"nb\">int</span> <span class=\"n\">threads</span><span class=\"p\">):</span></pre>\n",
       "<pre class='cython code score-80 '>static PyObject *__pyx_pw_46_cython_magic_f612d8a727194484f3edcf99a4241f1c_1saxpy_cython_multithread(PyObject *__pyx_self, PyObject *__pyx_args, PyObject *__pyx_kwds); /*proto*/\n",
       "static CYTHON_INLINE __Pyx_memviewslice __pyx_f_46_cython_magic_f612d8a727194484f3edcf99a4241f1c_saxpy_cython_multithread(float __pyx_v_alpha, __Pyx_memviewslice __pyx_v_x, __Pyx_memviewslice __pyx_v_y, __Pyx_memviewslice __pyx_v_z, CYTHON_UNUSED int __pyx_v_threads, CYTHON_UNUSED int __pyx_skip_dispatch) {\n",
       "  int __pyx_v_i;\n",
       "  CYTHON_UNUSED int __pyx_v_n;\n",
       "  __Pyx_memviewslice __pyx_r = { 0, 0, { 0 }, { 0 }, { 0 } };\n",
       "  <span class='refnanny'>__Pyx_RefNannyDeclarations</span>\n",
       "  <span class='refnanny'>__Pyx_RefNannySetupContext</span>(\"saxpy_cython_multithread\", 0);\n",
       "/* … */\n",
       "  /* function exit code */\n",
       "  __pyx_L0:;\n",
       "  if (unlikely(!__pyx_r.memview)) {\n",
       "    <span class='py_c_api'>PyErr_SetString</span>(PyExc_TypeError, \"Memoryview return value is not initialized\");\n",
       "  }\n",
       "  <span class='refnanny'>__Pyx_RefNannyFinishContext</span>();\n",
       "  return __pyx_r;\n",
       "}\n",
       "\n",
       "/* Python wrapper */\n",
       "static PyObject *__pyx_pw_46_cython_magic_f612d8a727194484f3edcf99a4241f1c_1saxpy_cython_multithread(PyObject *__pyx_self, PyObject *__pyx_args, PyObject *__pyx_kwds); /*proto*/\n",
       "static PyObject *__pyx_pw_46_cython_magic_f612d8a727194484f3edcf99a4241f1c_1saxpy_cython_multithread(PyObject *__pyx_self, PyObject *__pyx_args, PyObject *__pyx_kwds) {\n",
       "  float __pyx_v_alpha;\n",
       "  __Pyx_memviewslice __pyx_v_x = { 0, 0, { 0 }, { 0 }, { 0 } };\n",
       "  __Pyx_memviewslice __pyx_v_y = { 0, 0, { 0 }, { 0 }, { 0 } };\n",
       "  __Pyx_memviewslice __pyx_v_z = { 0, 0, { 0 }, { 0 }, { 0 } };\n",
       "  int __pyx_v_threads;\n",
       "  PyObject *__pyx_r = 0;\n",
       "  <span class='refnanny'>__Pyx_RefNannyDeclarations</span>\n",
       "  <span class='refnanny'>__Pyx_RefNannySetupContext</span>(\"saxpy_cython_multithread (wrapper)\", 0);\n",
       "  {\n",
       "    static PyObject **__pyx_pyargnames[] = {&amp;__pyx_n_s_alpha,&amp;__pyx_n_s_x,&amp;__pyx_n_s_y,&amp;__pyx_n_s_z,&amp;__pyx_n_s_threads,0};\n",
       "    PyObject* values[5] = {0,0,0,0,0};\n",
       "    if (unlikely(__pyx_kwds)) {\n",
       "      Py_ssize_t kw_args;\n",
       "      const Py_ssize_t pos_args = <span class='py_macro_api'>PyTuple_GET_SIZE</span>(__pyx_args);\n",
       "      switch (pos_args) {\n",
       "        case  5: values[4] = <span class='py_macro_api'>PyTuple_GET_ITEM</span>(__pyx_args, 4);\n",
       "        CYTHON_FALLTHROUGH;\n",
       "        case  4: values[3] = <span class='py_macro_api'>PyTuple_GET_ITEM</span>(__pyx_args, 3);\n",
       "        CYTHON_FALLTHROUGH;\n",
       "        case  3: values[2] = <span class='py_macro_api'>PyTuple_GET_ITEM</span>(__pyx_args, 2);\n",
       "        CYTHON_FALLTHROUGH;\n",
       "        case  2: values[1] = <span class='py_macro_api'>PyTuple_GET_ITEM</span>(__pyx_args, 1);\n",
       "        CYTHON_FALLTHROUGH;\n",
       "        case  1: values[0] = <span class='py_macro_api'>PyTuple_GET_ITEM</span>(__pyx_args, 0);\n",
       "        CYTHON_FALLTHROUGH;\n",
       "        case  0: break;\n",
       "        default: goto __pyx_L5_argtuple_error;\n",
       "      }\n",
       "      kw_args = <span class='py_c_api'>PyDict_Size</span>(__pyx_kwds);\n",
       "      switch (pos_args) {\n",
       "        case  0:\n",
       "        if (likely((values[0] = <span class='pyx_c_api'>__Pyx_PyDict_GetItemStr</span>(__pyx_kwds, __pyx_n_s_alpha)) != 0)) kw_args--;\n",
       "        else goto __pyx_L5_argtuple_error;\n",
       "        CYTHON_FALLTHROUGH;\n",
       "        case  1:\n",
       "        if (likely((values[1] = <span class='pyx_c_api'>__Pyx_PyDict_GetItemStr</span>(__pyx_kwds, __pyx_n_s_x)) != 0)) kw_args--;\n",
       "        else {\n",
       "          <span class='pyx_c_api'>__Pyx_RaiseArgtupleInvalid</span>(\"saxpy_cython_multithread\", 1, 5, 5, 1); <span class='error_goto'>__PYX_ERR(0, 6, __pyx_L3_error)</span>\n",
       "        }\n",
       "        CYTHON_FALLTHROUGH;\n",
       "        case  2:\n",
       "        if (likely((values[2] = <span class='pyx_c_api'>__Pyx_PyDict_GetItemStr</span>(__pyx_kwds, __pyx_n_s_y)) != 0)) kw_args--;\n",
       "        else {\n",
       "          <span class='pyx_c_api'>__Pyx_RaiseArgtupleInvalid</span>(\"saxpy_cython_multithread\", 1, 5, 5, 2); <span class='error_goto'>__PYX_ERR(0, 6, __pyx_L3_error)</span>\n",
       "        }\n",
       "        CYTHON_FALLTHROUGH;\n",
       "        case  3:\n",
       "        if (likely((values[3] = <span class='pyx_c_api'>__Pyx_PyDict_GetItemStr</span>(__pyx_kwds, __pyx_n_s_z)) != 0)) kw_args--;\n",
       "        else {\n",
       "          <span class='pyx_c_api'>__Pyx_RaiseArgtupleInvalid</span>(\"saxpy_cython_multithread\", 1, 5, 5, 3); <span class='error_goto'>__PYX_ERR(0, 6, __pyx_L3_error)</span>\n",
       "        }\n",
       "        CYTHON_FALLTHROUGH;\n",
       "        case  4:\n",
       "        if (likely((values[4] = <span class='pyx_c_api'>__Pyx_PyDict_GetItemStr</span>(__pyx_kwds, __pyx_n_s_threads)) != 0)) kw_args--;\n",
       "        else {\n",
       "          <span class='pyx_c_api'>__Pyx_RaiseArgtupleInvalid</span>(\"saxpy_cython_multithread\", 1, 5, 5, 4); <span class='error_goto'>__PYX_ERR(0, 6, __pyx_L3_error)</span>\n",
       "        }\n",
       "      }\n",
       "      if (unlikely(kw_args &gt; 0)) {\n",
       "        if (unlikely(<span class='pyx_c_api'>__Pyx_ParseOptionalKeywords</span>(__pyx_kwds, __pyx_pyargnames, 0, values, pos_args, \"saxpy_cython_multithread\") &lt; 0)) <span class='error_goto'>__PYX_ERR(0, 6, __pyx_L3_error)</span>\n",
       "      }\n",
       "    } else if (<span class='py_macro_api'>PyTuple_GET_SIZE</span>(__pyx_args) != 5) {\n",
       "      goto __pyx_L5_argtuple_error;\n",
       "    } else {\n",
       "      values[0] = <span class='py_macro_api'>PyTuple_GET_ITEM</span>(__pyx_args, 0);\n",
       "      values[1] = <span class='py_macro_api'>PyTuple_GET_ITEM</span>(__pyx_args, 1);\n",
       "      values[2] = <span class='py_macro_api'>PyTuple_GET_ITEM</span>(__pyx_args, 2);\n",
       "      values[3] = <span class='py_macro_api'>PyTuple_GET_ITEM</span>(__pyx_args, 3);\n",
       "      values[4] = <span class='py_macro_api'>PyTuple_GET_ITEM</span>(__pyx_args, 4);\n",
       "    }\n",
       "    __pyx_v_alpha = __pyx_<span class='py_c_api'>PyFloat_AsFloat</span>(values[0]); if (unlikely((__pyx_v_alpha == (float)-1) &amp;&amp; <span class='py_c_api'>PyErr_Occurred</span>())) <span class='error_goto'>__PYX_ERR(0, 6, __pyx_L3_error)</span>\n",
       "    __pyx_v_x = <span class='pyx_c_api'>__Pyx_PyObject_to_MemoryviewSlice_dc_float</span>(values[1], PyBUF_WRITABLE);<span class='error_goto'> if (unlikely(!__pyx_v_x.memview)) __PYX_ERR(0, 6, __pyx_L3_error)</span>\n",
       "    __pyx_v_y = <span class='pyx_c_api'>__Pyx_PyObject_to_MemoryviewSlice_dc_float</span>(values[2], PyBUF_WRITABLE);<span class='error_goto'> if (unlikely(!__pyx_v_y.memview)) __PYX_ERR(0, 6, __pyx_L3_error)</span>\n",
       "    __pyx_v_z = <span class='pyx_c_api'>__Pyx_PyObject_to_MemoryviewSlice_dc_float</span>(values[3], PyBUF_WRITABLE);<span class='error_goto'> if (unlikely(!__pyx_v_z.memview)) __PYX_ERR(0, 6, __pyx_L3_error)</span>\n",
       "    __pyx_v_threads = <span class='pyx_c_api'>__Pyx_PyInt_As_int</span>(values[4]); if (unlikely((__pyx_v_threads == (int)-1) &amp;&amp; <span class='py_c_api'>PyErr_Occurred</span>())) <span class='error_goto'>__PYX_ERR(0, 6, __pyx_L3_error)</span>\n",
       "  }\n",
       "  goto __pyx_L4_argument_unpacking_done;\n",
       "  __pyx_L5_argtuple_error:;\n",
       "  <span class='pyx_c_api'>__Pyx_RaiseArgtupleInvalid</span>(\"saxpy_cython_multithread\", 1, 5, 5, <span class='py_macro_api'>PyTuple_GET_SIZE</span>(__pyx_args)); <span class='error_goto'>__PYX_ERR(0, 6, __pyx_L3_error)</span>\n",
       "  __pyx_L3_error:;\n",
       "  <span class='pyx_c_api'>__Pyx_AddTraceback</span>(\"_cython_magic_f612d8a727194484f3edcf99a4241f1c.saxpy_cython_multithread\", __pyx_clineno, __pyx_lineno, __pyx_filename);\n",
       "  <span class='refnanny'>__Pyx_RefNannyFinishContext</span>();\n",
       "  return NULL;\n",
       "  __pyx_L4_argument_unpacking_done:;\n",
       "  __pyx_r = __pyx_pf_46_cython_magic_f612d8a727194484f3edcf99a4241f1c_saxpy_cython_multithread(__pyx_self, __pyx_v_alpha, __pyx_v_x, __pyx_v_y, __pyx_v_z, __pyx_v_threads);\n",
       "  int __pyx_lineno = 0;\n",
       "  const char *__pyx_filename = NULL;\n",
       "  int __pyx_clineno = 0;\n",
       "\n",
       "  /* function exit code */\n",
       "  <span class='refnanny'>__Pyx_RefNannyFinishContext</span>();\n",
       "  return __pyx_r;\n",
       "}\n",
       "\n",
       "static PyObject *__pyx_pf_46_cython_magic_f612d8a727194484f3edcf99a4241f1c_saxpy_cython_multithread(CYTHON_UNUSED PyObject *__pyx_self, float __pyx_v_alpha, __Pyx_memviewslice __pyx_v_x, __Pyx_memviewslice __pyx_v_y, __Pyx_memviewslice __pyx_v_z, int __pyx_v_threads) {\n",
       "  PyObject *__pyx_r = NULL;\n",
       "  <span class='refnanny'>__Pyx_RefNannyDeclarations</span>\n",
       "  <span class='refnanny'>__Pyx_RefNannySetupContext</span>(\"saxpy_cython_multithread\", 0);\n",
       "  <span class='pyx_macro_api'>__Pyx_XDECREF</span>(__pyx_r);\n",
       "  if (unlikely(!__pyx_v_x.memview)) { <span class='pyx_c_api'>__Pyx_RaiseUnboundLocalError</span>(\"x\"); <span class='error_goto'>__PYX_ERR(0, 6, __pyx_L1_error)</span> }\n",
       "  if (unlikely(!__pyx_v_y.memview)) { <span class='pyx_c_api'>__Pyx_RaiseUnboundLocalError</span>(\"y\"); <span class='error_goto'>__PYX_ERR(0, 6, __pyx_L1_error)</span> }\n",
       "  if (unlikely(!__pyx_v_z.memview)) { <span class='pyx_c_api'>__Pyx_RaiseUnboundLocalError</span>(\"z\"); <span class='error_goto'>__PYX_ERR(0, 6, __pyx_L1_error)</span> }\n",
       "  __pyx_t_1 = __pyx_f_46_cython_magic_f612d8a727194484f3edcf99a4241f1c_saxpy_cython_multithread(__pyx_v_alpha, __pyx_v_x, __pyx_v_y, __pyx_v_z, __pyx_v_threads, 0);<span class='error_goto'> if (unlikely(!__pyx_t_1.memview)) __PYX_ERR(0, 6, __pyx_L1_error)</span>\n",
       "  __pyx_t_2 = __pyx_memoryview_fromslice(__pyx_t_1, 1, (PyObject *(*)(char *)) __pyx_memview_get_float, (int (*)(char *, PyObject *)) __pyx_memview_set_float, 0);;<span class='error_goto'> if (unlikely(!__pyx_t_2)) __PYX_ERR(0, 6, __pyx_L1_error)</span>\n",
       "  <span class='refnanny'>__Pyx_GOTREF</span>(__pyx_t_2);\n",
       "  __PYX_XDEC_MEMVIEW(&amp;__pyx_t_1, 1);\n",
       "  __pyx_t_1.memview = NULL;\n",
       "  __pyx_t_1.data = NULL;\n",
       "  __pyx_r = __pyx_t_2;\n",
       "  __pyx_t_2 = 0;\n",
       "  goto __pyx_L0;\n",
       "\n",
       "  /* function exit code */\n",
       "  __pyx_L1_error:;\n",
       "  __PYX_XDEC_MEMVIEW(&amp;__pyx_t_1, 1);\n",
       "  <span class='pyx_macro_api'>__Pyx_XDECREF</span>(__pyx_t_2);\n",
       "  <span class='pyx_c_api'>__Pyx_AddTraceback</span>(\"_cython_magic_f612d8a727194484f3edcf99a4241f1c.saxpy_cython_multithread\", __pyx_clineno, __pyx_lineno, __pyx_filename);\n",
       "  __pyx_r = NULL;\n",
       "  __pyx_L0:;\n",
       "  __PYX_XDEC_MEMVIEW(&amp;__pyx_v_x, 1);\n",
       "  __PYX_XDEC_MEMVIEW(&amp;__pyx_v_y, 1);\n",
       "  __PYX_XDEC_MEMVIEW(&amp;__pyx_v_z, 1);\n",
       "  <span class='refnanny'>__Pyx_XGIVEREF</span>(__pyx_r);\n",
       "  <span class='refnanny'>__Pyx_RefNannyFinishContext</span>();\n",
       "  return __pyx_r;\n",
       "}\n",
       "</pre><pre class=\"cython line score-0\">&#xA0;<span class=\"\">07</span>:     <span class=\"k\">cdef</span> <span class=\"kt\">int</span> <span class=\"nf\">i</span></pre>\n",
       "<pre class=\"cython line score-0\" onclick=\"(function(s){s.display=s.display==='block'?'none':'block'})(this.nextElementSibling.style)\">+<span class=\"\">08</span>:     <span class=\"k\">cdef</span> <span class=\"kt\">int</span> <span class=\"nf\">n</span> <span class=\"o\">=</span> <span class=\"n\">x</span><span class=\"o\">.</span><span class=\"n\">shape</span><span class=\"p\">[</span><span class=\"mf\">0</span><span class=\"p\">]</span></pre>\n",
       "<pre class='cython code score-0 '>  __pyx_v_n = (__pyx_v_x.shape[0]);\n",
       "</pre><pre class=\"cython line score-4\" onclick=\"(function(s){s.display=s.display==='block'?'none':'block'})(this.nextElementSibling.style)\">+<span class=\"\">09</span>:     <span class=\"k\">for</span> <span class=\"n\">i</span> <span class=\"ow\">in</span> <span class=\"n\">prange</span><span class=\"p\">(</span><span class=\"n\">n</span><span class=\"p\">,</span> <span class=\"k\">nogil</span><span class=\"o\">=</span><span class=\"bp\">True</span><span class=\"p\">,</span> <span class=\"n\">num_threads</span><span class=\"o\">=</span><span class=\"n\">threads</span><span class=\"p\">):</span></pre>\n",
       "<pre class='cython code score-4 '>  {\n",
       "      #ifdef WITH_THREAD\n",
       "      PyThreadState *_save;\n",
       "      Py_UNBLOCK_THREADS\n",
       "      <span class='pyx_c_api'>__Pyx_FastGIL_Remember</span>();\n",
       "      #endif\n",
       "      /*try:*/ {\n",
       "        __pyx_t_1 = __pyx_v_n;\n",
       "        if ((1 == 0)) abort();\n",
       "        {\n",
       "            #if ((defined(__APPLE__) || defined(__OSX__)) &amp;&amp; (defined(__GNUC__) &amp;&amp; (__GNUC__ &gt; 2 || (__GNUC__ == 2 &amp;&amp; (__GNUC_MINOR__ &gt; 95)))))\n",
       "                #undef likely\n",
       "                #undef unlikely\n",
       "                #define likely(x)   (x)\n",
       "                #define unlikely(x) (x)\n",
       "            #endif\n",
       "            __pyx_t_3 = (__pyx_t_1 - 0 + 1 - 1/abs(1)) / 1;\n",
       "            if (__pyx_t_3 &gt; 0)\n",
       "            {\n",
       "                #ifdef _OPENMP\n",
       "                #pragma omp parallel\n",
       "                #endif /* _OPENMP */\n",
       "                {\n",
       "                    #ifdef _OPENMP\n",
       "                    #pragma omp for firstprivate(__pyx_v_i) lastprivate(__pyx_v_i)        __pyx_t_1 = __pyx_v_n;\n",
       "        if ((1 == 0)) abort();\n",
       "        {\n",
       "            #if ((defined(__APPLE__) || defined(__OSX__)) &amp;&amp; (defined(__GNUC__) &amp;&amp; (__GNUC__ &gt; 2 || (__GNUC__ == 2 &amp;&amp; (__GNUC_MINOR__ &gt; 95)))))\n",
       "                #undef likely\n",
       "                #undef unlikely\n",
       "                #define likely(x)   (x)\n",
       "                #define unlikely(x) (x)\n",
       "            #endif\n",
       "            __pyx_t_3 = (__pyx_t_1 - 0 + 1 - 1/abs(1)) / 1;\n",
       "            if (__pyx_t_3 &gt; 0)\n",
       "            {\n",
       "                #ifdef _OPENMP\n",
       "                #pragma omp parallel\n",
       "                #endif /* _OPENMP */\n",
       "                {\n",
       "                    #ifdef _OPENMP\n",
       "                    #pragma omp for firstprivate(__pyx_v_i) lastprivate(__pyx_v_i) num_threads(__pyx_v_threads)\n",
       "                    #endif /* _OPENMP */\n",
       "                    for (__pyx_t_2 = 0; __pyx_t_2 &lt; __pyx_t_3; __pyx_t_2++){\n",
       "                        {\n",
       "                            __pyx_v_i = (int)(0 + 1 * __pyx_t_2);\n",
       "/* … */\n",
       "      /*finally:*/ {\n",
       "        /*normal exit:*/{\n",
       "          #ifdef WITH_THREAD\n",
       "          <span class='pyx_c_api'>__Pyx_FastGIL_Forget</span>();\n",
       "          Py_BLOCK_THREADS\n",
       "          #endif\n",
       "          goto __pyx_L5;\n",
       "        }\n",
       "        __pyx_L5:;\n",
       "      }\n",
       "  }\n",
       "</pre><pre class=\"cython line score-0\" onclick=\"(function(s){s.display=s.display==='block'?'none':'block'})(this.nextElementSibling.style)\">+<span class=\"\">10</span>:         <span class=\"n\">z</span><span class=\"p\">[</span><span class=\"n\">i</span><span class=\"p\">]</span> <span class=\"o\">=</span> <span class=\"n\">alpha</span> <span class=\"o\">*</span> <span class=\"n\">x</span><span class=\"p\">[</span><span class=\"n\">i</span><span class=\"p\">]</span> <span class=\"o\">+</span> <span class=\"n\">y</span><span class=\"p\">[</span><span class=\"n\">i</span><span class=\"p\">]</span></pre>\n",
       "<pre class='cython code score-0 '>                            __pyx_t_4 = __pyx_v_i;\n",
       "                            __pyx_t_5 = __pyx_v_i;\n",
       "                            __pyx_t_6 = __pyx_v_i;\n",
       "                            *((float *) ( /* dim=0 */ ((char *) (((float *) __pyx_v_z.data) + __pyx_t_6)) )) = ((__pyx_v_alpha * (*((float *) ( /* dim=0 */ ((char *) (((float *) __pyx_v_x.data) + __pyx_t_4)) )))) + (*((float *) ( /* dim=0 */ ((char *) (((float *) __pyx_v_y.data) + __pyx_t_5)) ))));\n",
       "                        }\n",
       "                    }\n",
       "                }\n",
       "            }\n",
       "        }\n",
       "        #if ((defined(__APPLE__) || defined(__OSX__)) &amp;&amp; (defined(__GNUC__) &amp;&amp; (__GNUC__ &gt; 2 || (__GNUC__ == 2 &amp;&amp; (__GNUC_MINOR__ &gt; 95)))))\n",
       "            #undef likely\n",
       "            #undef unlikely\n",
       "            #define likely(x)   __builtin_expect(!!(x), 1)\n",
       "            #define unlikely(x) __builtin_expect(!!(x), 0)\n",
       "        #endif\n",
       "      }\n",
       "</pre><pre class=\"cython line score-0\" onclick=\"(function(s){s.display=s.display==='block'?'none':'block'})(this.nextElementSibling.style)\">+<span class=\"\">11</span>:     <span class=\"k\">return</span> <span class=\"n\">z</span></pre>\n",
       "<pre class='cython code score-0 '>  __PYX_INC_MEMVIEW(&amp;__pyx_v_z, 0);\n",
       "  __pyx_r = __pyx_v_z;\n",
       "  goto __pyx_L0;\n",
       "</pre></div></body></html>"
      ],
      "text/plain": [
       "<IPython.core.display.HTML object>"
      ]
     },
     "execution_count": 39,
     "metadata": {},
     "output_type": "execute_result"
    }
   ],
   "source": [
    "%%cython -a\n",
    "cimport cython\n",
    "from cython.parallel import parallel, prange\n",
    "@cython.boundscheck(False)\n",
    "@cython.wraparound(False)\n",
    "@cython.cdivision(True)\n",
    "cpdef inline float[::1] saxpy_cython_multithread(float alpha, float[::1] x, float[::1] y, float[::1] z, int threads):\n",
    "    cdef int i\n",
    "    cdef int n = x.shape[0]\n",
    "    for i in prange(n, nogil=True, num_threads=threads):\n",
    "        z[i] = alpha * x[i] + y[i]\n",
    "    return z"
   ]
  },
  {
   "cell_type": "code",
   "execution_count": 40,
   "id": "29135569-1469-4a42-ba27-31e851954de8",
   "metadata": {
    "collapsed": true,
    "jupyter": {
     "outputs_hidden": true
    },
    "tags": []
   },
   "outputs": [
    {
     "name": "stdout",
     "output_type": "stream",
     "text": [
      "0\n",
      "1\n",
      "2\n",
      "3\n",
      "4\n",
      "5\n",
      "6\n",
      "7\n",
      "8\n",
      "9\n",
      "10\n",
      "11\n",
      "12\n",
      "13\n",
      "14\n",
      "15\n",
      "16\n",
      "17\n",
      "18\n",
      "19\n",
      "20\n",
      "21\n",
      "22\n",
      "23\n",
      "24\n",
      "25\n",
      "26\n",
      "27\n",
      "28\n",
      "29\n",
      "Done loop\n",
      "True\n",
      "[  0.06523132   0.00998179   0.00230471   0.00204245   0.00209808\n",
      "   0.00211398   0.00221729   0.00227292   0.00274181   0.00259876\n",
      "   0.00261466   0.00300407   0.00391801   0.00575384   0.00929038\n",
      "   0.01746019   0.01711051   0.03709793   0.08378029   0.20346642\n",
      "   0.75820287   1.44350529   3.02488009   6.50926431  13.50433826\n",
      "  28.31549644  54.83570894 108.84474913 217.69556204 438.25728893]\n"
     ]
    }
   ],
   "source": [
    "import Saxpy_Python_Cython_Multithread_CPU # now it is set at 4 threads"
   ]
  },
  {
   "cell_type": "code",
   "execution_count": 41,
   "id": "6da71ab4-2802-4cd6-9f82-2b4dbfad196b",
   "metadata": {},
   "outputs": [],
   "source": [
    "# Reading the csv into an array\n",
    "Saxpy_Python_Cython_Multithread_CPU = np.genfromtxt(\"/home/stefancc/Desktop/HPC/saxpy/Benchmark_Results/Saxpy_Python_Cython_Multithread_CPU.csv\", delimiter=\",\")"
   ]
  },
  {
   "cell_type": "code",
   "execution_count": 42,
   "id": "5de825cf-5deb-4dbd-b775-4c6397fa5d0f",
   "metadata": {},
   "outputs": [
    {
     "name": "stdout",
     "output_type": "stream",
     "text": [
      "[0.00006523 0.00000998 0.0000023  0.00000204 0.0000021  0.00000211\n",
      " 0.00000222 0.00000227 0.00000274 0.0000026  0.00000261 0.000003\n",
      " 0.00000392 0.00000575 0.00000929 0.00001746 0.00001711 0.0000371\n",
      " 0.00008378 0.00020347 0.0007582  0.00144351 0.00302488 0.00650926\n",
      " 0.01350434 0.0283155  0.05483571 0.10884475 0.21769556 0.43825729]\n"
     ]
    }
   ],
   "source": [
    "print(Saxpy_Python_Cython_Multithread_CPU/1000)"
   ]
  },
  {
   "cell_type": "code",
   "execution_count": 43,
   "id": "a3bef3d2-1f3b-486f-b421-b12dec42921d",
   "metadata": {
    "collapsed": true,
    "jupyter": {
     "outputs_hidden": true
    },
    "tags": []
   },
   "outputs": [
    {
     "data": {
      "image/png": "[encoded data removed]",
      "text/plain": [
       "<Figure size 1080x648 with 1 Axes>"
      ]
     },
     "metadata": {
      "needs_background": "light"
     },
     "output_type": "display_data"
    }
   ],
   "source": [
    "Benchmark (Saxpy_Python_Cython_Multithread_CPU)"
   ]
  },
  {
   "cell_type": "markdown",
   "id": "bb05228e-8357-4869-9f4c-6e4a19273a7d",
   "metadata": {},
   "source": [
    "___"
   ]
  },
  {
   "cell_type": "markdown",
   "id": "ec68824a-b8bf-441f-876c-78feb2d9ca2a",
   "metadata": {},
   "source": [
    "___"
   ]
  },
  {
   "cell_type": "markdown",
   "id": "8f5dae04-c6c8-4f57-b47e-04f2dc187c5a",
   "metadata": {},
   "source": [
    "___"
   ]
  },
  {
   "cell_type": "markdown",
   "id": "747eaf75-d70b-4542-8e3b-a3d7ff278eb1",
   "metadata": {},
   "source": [
    "# 9. Saxpy Cpp For Loop CPU, Saxpy Cpp SIMD AVX2 CPU and Saxpy Cpp SIMD AVX512 CPU"
   ]
  },
  {
   "cell_type": "code",
   "execution_count": 57,
   "id": "7c99e1e7-2626-4457-976d-98af7f29173d",
   "metadata": {
    "collapsed": true,
    "jupyter": {
     "outputs_hidden": true
    },
    "tags": []
   },
   "outputs": [
    {
     "name": "stdout",
     "output_type": "stream",
     "text": [
      "z = 1: 0.180000 \n",
      "z = 2: 0.026000 \n",
      "z = 3: 0.034000 \n",
      "z = 4: 0.042000 \n",
      "z = 5: 0.033000 \n",
      "z = 6: 0.025000 \n",
      "z = 7: 0.026000 \n",
      "z = 8: 0.034000 \n",
      "z = 9: 0.055000 \n",
      "z = 10: 0.136000 \n",
      "z = 11: 1.014000 \n",
      "z = 12: 2.197000 \n",
      "z = 13: 5.865000 \n",
      "z = 14: 12.258000 \n",
      "z = 15: 25.713000 \n",
      "z = 16: 52.085000 \n",
      "z = 17: 116.185000 \n",
      "z = 18: 359.743000 \n",
      "z = 19: 514.893000 \n",
      "z = 20: 1050.467000 \n",
      "z = 21: 2060.050000 \n",
      "z = 22: 4391.955000 \n",
      "z = 23: 8784.090000 \n",
      "z = 24: 16677.957000 \n",
      "z = 25: 32878.684000 \n",
      "z = 26: 64020.678000 \n",
      "z = 27: 127175.122000 \n",
      "z = 28: 255536.508000 \n",
      "z = 29: 511301.096000 \n",
      "z = 30: 1052479.924000 \n",
      "Average time for size 0: 0.180000 microseconds\n",
      "Average time for size 1: 0.026000 microseconds\n",
      "Average time for size 2: 0.034000 microseconds\n",
      "Average time for size 3: 0.042000 microseconds\n",
      "Average time for size 4: 0.033000 microseconds\n",
      "Average time for size 5: 0.025000 microseconds\n",
      "Average time for size 6: 0.026000 microseconds\n",
      "Average time for size 7: 0.034000 microseconds\n",
      "Average time for size 8: 0.055000 microseconds\n",
      "Average time for size 9: 0.136000 microseconds\n",
      "Average time for size 10: 1.014000 microseconds\n",
      "Average time for size 11: 2.197000 microseconds\n",
      "Average time for size 12: 5.865000 microseconds\n",
      "Average time for size 13: 12.258000 microseconds\n",
      "Average time for size 14: 25.713000 microseconds\n",
      "Average time for size 15: 52.085000 microseconds\n",
      "Average time for size 16: 116.185000 microseconds\n",
      "Average time for size 17: 359.743000 microseconds\n",
      "Average time for size 18: 514.893000 microseconds\n",
      "Average time for size 19: 1050.467000 microseconds\n",
      "Average time for size 20: 2060.050000 microseconds\n",
      "Average time for size 21: 4391.955000 microseconds\n",
      "Average time for size 22: 8784.090000 microseconds\n",
      "Average time for size 23: 16677.957000 microseconds\n",
      "Average time for size 24: 32878.684000 microseconds\n",
      "Average time for size 25: 64020.678000 microseconds\n",
      "Average time for size 26: 127175.122000 microseconds\n",
      "Average time for size 27: 255536.508000 microseconds\n",
      "Average time for size 28: 511301.096000 microseconds\n",
      "Average time for size 29: 1052479.924000 microseconds\n"
     ]
    }
   ],
   "source": [
    "# Saxpy Cpp For Loop CPU\n",
    "#!g++  src/Saxpy_Cpp/Saxpy_Cpp_For_Loop_CPU.cpp -o src/Saxpy_Cpp/bin/Saxpy_Cpp_For_Loop_CPU -O3 -march=native -mavx2 -ffast-math -std=c++11\n",
    "#!./src/Saxpy_Cpp/bin/Saxpy_Cpp_For_Loop_CPU"
   ]
  },
  {
   "cell_type": "code",
   "execution_count": null,
   "id": "c159b777-b06a-4e90-9a99-b49cc4e1127e",
   "metadata": {
    "tags": []
   },
   "outputs": [],
   "source": [
    "# Saxpy Cpp SIMD AVX2 CPU\n",
    "#!g++  src/Saxpy_Cpp/Saxpy_Cpp_SIMD_AVX2_CPU.cpp -o src/Saxpy_Cpp/bin/Saxpy_Cpp_SIMD_AVX2_CPU -O3 -march=native -mavx2 -ffast-math -std=c++11\n",
    "#!./src/Saxpy_Cpp/bin/Saxpy_Cpp_SIMD_AVX2_CPU"
   ]
  },
  {
   "cell_type": "code",
   "execution_count": null,
   "id": "99392689-e627-45bd-976b-dda83247682d",
   "metadata": {
    "tags": []
   },
   "outputs": [],
   "source": [
    "# Saxpy Cpp SIMD AVX512 CPU\n",
    "#!g++  src/Saxpy_Cpp/Saxpy_Cpp_SIMD_AVX512_CPU.cpp -o src/Saxpy_Cpp/bin/Saxpy_Cpp_SIMD_AVX512_CPU -O3 -march=native -mavx512f -ffast-math -std=c++11\n",
    "#!./src/Saxpy_Cpp/bin/Saxpy_Cpp_SIMD_AVX512_CPU"
   ]
  },
  {
   "cell_type": "code",
   "execution_count": null,
   "id": "56d82a4b-282a-42bf-9bfa-8d969cd236d2",
   "metadata": {},
   "outputs": [],
   "source": [
    "# Saxpy Cpp OMP Multithread CPU--------------Now is set to 8 threads\n",
    "#!g++  src/Saxpy_Cpp/Saxpy_Cpp_OMP_Multithread_CPU.cpp -o src/Saxpy_Cpp/bin/Saxpy_Cpp_OMP_Multithread_CPU  -O3 -fopenmp -march=native -mavx512f -ffast-math -std=c++11\n",
    "#!./src/Saxpy_Cpp/bin/Saxpy_Cpp_OMP_Multithread_CPU"
   ]
  },
  {
   "cell_type": "markdown",
   "id": "ebaaf95b-3521-45de-b3a9-eb8dddab672a",
   "metadata": {},
   "source": [
    "### Some Benchmark results using different compilations\n"
   ]
  },
  {
   "cell_type": "code",
   "execution_count": 44,
   "id": "d738e830-c47c-4345-a220-b687270bc9e4",
   "metadata": {},
   "outputs": [],
   "source": [
    "# Reading the csv into an array\n",
    "Saxpy_Cpp_For_Loop_CPU = np.genfromtxt(\"/home/stefancc/Desktop/HPC/saxpy/Benchmark_Results/Saxpy_Cpp_For_Loop_CPU.csv\", delimiter=\",\")/1000\n",
    "Saxpy_Cpp_SIMD_AVX2_CPU = np.genfromtxt(\"/home/stefancc/Desktop/HPC/saxpy/Benchmark_Results/Saxpy_Cpp_SIMD_AVX2_CPU.csv\", delimiter=\",\")/1000\n",
    "Saxpy_Cpp_SIMD_AVX512_CPU = np.genfromtxt(\"/home/stefancc/Desktop/HPC/saxpy/Benchmark_Results/Saxpy_Cpp_SIMD_AVX512_CPU.csv\", delimiter=\",\")/1000\n",
    "Saxpy_Cpp_OMP_Multithread_CPU = np.genfromtxt(\"/home/stefancc/Desktop/HPC/saxpy/Benchmark_Results/Saxpy_Cpp_OMP_Multithread_CPU.csv\", delimiter=\",\")/1000"
   ]
  },
  {
   "cell_type": "code",
   "execution_count": 45,
   "id": "063609d6-6e13-41ec-9475-098f1d5e77fb",
   "metadata": {
    "tags": []
   },
   "outputs": [
    {
     "name": "stdout",
     "output_type": "stream",
     "text": [
      "0.9939410000000001\n",
      "0.98478\n",
      "1.02769\n",
      "0.34010399999999996\n"
     ]
    }
   ],
   "source": [
    "print(Saxpy_Cpp_For_Loop_CPU[-2]/1000)\n",
    "print(Saxpy_Cpp_SIMD_AVX2_CPU[-2]/1000)\n",
    "print(Saxpy_Cpp_SIMD_AVX512_CPU[-2]/1000)\n",
    "print(Saxpy_Cpp_OMP_Multithread_CPU[-2]/1000) # Best results with 8 cores"
   ]
  },
  {
   "cell_type": "code",
   "execution_count": 46,
   "id": "8f8b8206-3a08-41ae-a142-498a3477f4cd",
   "metadata": {
    "collapsed": true,
    "jupyter": {
     "outputs_hidden": true
    },
    "tags": []
   },
   "outputs": [
    {
     "data": {
      "image/png": "[encoded data removed]",
      "text/plain": [
       "<Figure size 1080x648 with 1 Axes>"
      ]
     },
     "metadata": {
      "needs_background": "light"
     },
     "output_type": "display_data"
    }
   ],
   "source": [
    "# Plotting\n",
    "elements = Saxpy_Python_Numba_CPU.shape[0]\n",
    "plt.figure(figsize=(15,9))\n",
    "\n",
    "#plt.plot(np.log2(N[:elements]),Saxpy_Python_Numpy_CPU[:], linestyle='--', marker='o', color='b')\n",
    "#plt.plot(np.log2(N[:elements]),Saxpy_Python_Numba_CPU[:], linestyle='--', marker='o', color='g')\n",
    "#plt.plot(np.log2(N[:elements]),Saxpy_Python_Numba_Multithread_CPU16[:], linestyle='--', marker='o', color ='r')\n",
    "\n",
    "\n",
    "#plt.plot(np.log2(N[:elements]),Saxpy_Python_Cython_CPU[:], linestyle='--', marker='x', color='r')\n",
    "#plt.plot(np.log2(N[:elements]),Saxpy_Python_Cython_Multithread_CPU[:], linestyle='--', marker='x', color='b')\n",
    "\n",
    "plt.plot(np.log2(N[:elements]),Saxpy_Cpp_For_Loop_CPU[:-1], linestyle='--', marker='x', color='g')\n",
    "plt.plot(np.log2(N[:elements]),Saxpy_Cpp_SIMD_AVX2_CPU[:-1], linestyle='--', marker='o', color='g')\n",
    "plt.plot(np.log2(N[:elements]),Saxpy_Cpp_SIMD_AVX512_CPU[:-1], linestyle='--', marker='o', color='r')\n",
    "\n",
    "plt.plot(np.log2(N[:elements]),Saxpy_Cpp_OMP_Multithread_CPU[:-1], linestyle='--', marker='x', color='r')\n",
    "\n",
    "\n",
    "plt.yscale(\"log\")\n",
    "plt.title(\"Saxpy Benchmark\")\n",
    "plt.xlabel(\"Array Size\")\n",
    "plt.ylabel(\"Runtime (ms)\")\n",
    "x_tick_labels = [\"$2^{\" + str(i) + \"}$\" for i in range(1, elements + 1,1)]\n",
    "plt.xticks(np.arange(1, elements + 1,1), x_tick_labels)\n",
    "plt.grid()\n",
    "plt.show()"
   ]
  },
  {
   "cell_type": "markdown",
   "id": "ca34986f-b632-41ba-9d67-1988daeac8b4",
   "metadata": {},
   "source": [
    "___"
   ]
  },
  {
   "cell_type": "markdown",
   "id": "676ae8ca-d8ff-40b0-be30-dc28bded2030",
   "metadata": {},
   "source": [
    "___"
   ]
  },
  {
   "cell_type": "markdown",
   "id": "74d675c1-a9a2-4e24-929c-2cdb86e09bdc",
   "metadata": {},
   "source": [
    "___"
   ]
  },
  {
   "cell_type": "markdown",
   "id": "09e45768-d896-47bd-8fde-62d3c52e67ad",
   "metadata": {},
   "source": [
    "# 10. Saxpy Cpp Eigen CPU and Saxpy Cpp Eigen Multithread CPU"
   ]
  },
  {
   "cell_type": "code",
   "execution_count": 79,
   "id": "3f4f56ed-bdfb-483e-9a10-010a26577fcc",
   "metadata": {
    "collapsed": true,
    "jupyter": {
     "outputs_hidden": true
    },
    "tags": []
   },
   "outputs": [
    {
     "name": "stdout",
     "output_type": "stream",
     "text": [
      "z = 1: 0.069000 \n",
      "z = 2: 0.029000 \n",
      "z = 3: 0.029000 \n",
      "z = 4: 0.034000 \n",
      "z = 5: 0.022000 \n",
      "z = 6: 0.027000 \n",
      "z = 7: 0.030000 \n",
      "z = 8: 0.045000 \n",
      "z = 9: 0.083000 \n",
      "z = 10: 0.724000 \n",
      "z = 11: 2.206000 \n",
      "z = 12: 5.933000 \n",
      "z = 13: 12.545000 \n",
      "z = 14: 22.290000 \n",
      "z = 15: 70.589000 \n",
      "z = 16: 120.602000 \n",
      "z = 17: 247.256000 \n",
      "z = 18: 582.563000 \n",
      "z = 19: 1026.970000 \n",
      "z = 20: 1972.359000 \n",
      "z = 21: 3923.233000 \n",
      "z = 22: 8081.523000 \n",
      "z = 23: 15896.328000 \n",
      "z = 24: 32222.134000 \n",
      "z = 25: 63405.532000 \n",
      "z = 26: 126035.138000 \n",
      "z = 27: 252807.173000 \n",
      "z = 28: 504990.870000 \n",
      "z = 29: 1027178.294000 \n",
      "z = 30: 2045383.478000 \n",
      "Average time for size 0: 0.069000 microseconds\n",
      "Average time for size 1: 0.029000 microseconds\n",
      "Average time for size 2: 0.029000 microseconds\n",
      "Average time for size 3: 0.034000 microseconds\n",
      "Average time for size 4: 0.022000 microseconds\n",
      "Average time for size 5: 0.027000 microseconds\n",
      "Average time for size 6: 0.030000 microseconds\n",
      "Average time for size 7: 0.045000 microseconds\n",
      "Average time for size 8: 0.083000 microseconds\n",
      "Average time for size 9: 0.724000 microseconds\n",
      "Average time for size 10: 2.206000 microseconds\n",
      "Average time for size 11: 5.933000 microseconds\n",
      "Average time for size 12: 12.545000 microseconds\n",
      "Average time for size 13: 22.290000 microseconds\n",
      "Average time for size 14: 70.589000 microseconds\n",
      "Average time for size 15: 120.602000 microseconds\n",
      "Average time for size 16: 247.256000 microseconds\n",
      "Average time for size 17: 582.563000 microseconds\n",
      "Average time for size 18: 1026.970000 microseconds\n",
      "Average time for size 19: 1972.359000 microseconds\n",
      "Average time for size 20: 3923.233000 microseconds\n",
      "Average time for size 21: 8081.523000 microseconds\n",
      "Average time for size 22: 15896.328000 microseconds\n",
      "Average time for size 23: 32222.134000 microseconds\n",
      "Average time for size 24: 63405.532000 microseconds\n",
      "Average time for size 25: 126035.138000 microseconds\n",
      "Average time for size 26: 252807.173000 microseconds\n",
      "Average time for size 27: 504990.870000 microseconds\n",
      "Average time for size 28: 1027178.294000 microseconds\n",
      "Average time for size 29: 2045383.478000 microseconds\n"
     ]
    }
   ],
   "source": [
    "# Saxpy Cpp Eigen CPU\n",
    "!g++ -I src/Saxpy_Cpp/eigen-3.4.0 src/Saxpy_Cpp/Saxpy_Cpp_Eigen_CPU.cpp -o src/Saxpy_Cpp/bin/Saxpy_Cpp_Eigen_CPU -Ofast -mavx2 -march=native -ffast-math -std=c++11\n",
    "!./src/Saxpy_Cpp/bin/Saxpy_Cpp_Eigen_CPU"
   ]
  },
  {
   "cell_type": "code",
   "execution_count": 88,
   "id": "27af1f03-ec97-49d1-8438-111b9537ff33",
   "metadata": {
    "collapsed": true,
    "jupyter": {
     "outputs_hidden": true
    },
    "tags": []
   },
   "outputs": [
    {
     "name": "stdout",
     "output_type": "stream",
     "text": [
      "z = 1: 159.525000 \n",
      "z = 2: 1.408000 \n",
      "z = 3: 1.505000 \n",
      "z = 4: 1.472000 \n",
      "z = 5: 1.488000 \n",
      "z = 6: 1.398000 \n",
      "z = 7: 1.594000 \n",
      "z = 8: 1.899000 \n",
      "z = 9: 2.062000 \n",
      "z = 10: 3.348000 \n",
      "z = 11: 6.245000 \n",
      "z = 12: 9.536000 \n",
      "z = 13: 10.685000 \n",
      "z = 14: 16.867000 \n",
      "z = 15: 24.283000 \n",
      "z = 16: 48.703000 \n",
      "z = 17: 91.756000 \n",
      "z = 18: 163.405000 \n",
      "z = 19: 365.630000 \n",
      "z = 20: 646.039000 \n",
      "z = 21: 1557.280000 \n",
      "z = 22: 2793.690000 \n",
      "z = 23: 5525.639000 \n",
      "z = 24: 12882.960000 \n",
      "z = 25: 24571.534000 \n",
      "z = 26: 48531.701000 \n",
      "z = 27: 96747.723000 \n",
      "z = 28: 175833.042000 \n",
      "z = 29: 359543.449000 \n",
      "z = 30: 693972.646000 \n",
      "Average time for size 0: 159.525000 microseconds\n",
      "Average time for size 1: 1.408000 microseconds\n",
      "Average time for size 2: 1.505000 microseconds\n",
      "Average time for size 3: 1.472000 microseconds\n",
      "Average time for size 4: 1.488000 microseconds\n",
      "Average time for size 5: 1.398000 microseconds\n",
      "Average time for size 6: 1.594000 microseconds\n",
      "Average time for size 7: 1.899000 microseconds\n",
      "Average time for size 8: 2.062000 microseconds\n",
      "Average time for size 9: 3.348000 microseconds\n",
      "Average time for size 10: 6.245000 microseconds\n",
      "Average time for size 11: 9.536000 microseconds\n",
      "Average time for size 12: 10.685000 microseconds\n",
      "Average time for size 13: 16.867000 microseconds\n",
      "Average time for size 14: 24.283000 microseconds\n",
      "Average time for size 15: 48.703000 microseconds\n",
      "Average time for size 16: 91.756000 microseconds\n",
      "Average time for size 17: 163.405000 microseconds\n",
      "Average time for size 18: 365.630000 microseconds\n",
      "Average time for size 19: 646.039000 microseconds\n",
      "Average time for size 20: 1557.280000 microseconds\n",
      "Average time for size 21: 2793.690000 microseconds\n",
      "Average time for size 22: 5525.639000 microseconds\n",
      "Average time for size 23: 12882.960000 microseconds\n",
      "Average time for size 24: 24571.534000 microseconds\n",
      "Average time for size 25: 48531.701000 microseconds\n",
      "Average time for size 26: 96747.723000 microseconds\n",
      "Average time for size 27: 175833.042000 microseconds\n",
      "Average time for size 28: 359543.449000 microseconds\n",
      "Average time for size 29: 693972.646000 microseconds\n"
     ]
    }
   ],
   "source": [
    "# Saxpy Cpp Eigen CPU\n",
    "!g++ -I src/Saxpy_Cpp/eigen-3.4.0 src/Saxpy_Cpp/Saxpy_Cpp_Eigen_Multithread_CPU.cpp -o src/Saxpy_Cpp/bin/Saxpy_Cpp_Eigen_Multithread_CPU -Ofast -fopenmp -mavx2 -march=native -ffast-math -std=c++11\n",
    "!./src/Saxpy_Cpp/bin/Saxpy_Cpp_Eigen_Multithread_CPU"
   ]
  },
  {
   "cell_type": "markdown",
   "id": "edfa3305-5b5f-42ec-b2d9-13092b61ed17",
   "metadata": {},
   "source": [
    "___"
   ]
  },
  {
   "cell_type": "markdown",
   "id": "12caaa57-d839-4b06-8728-26475e7b3ee5",
   "metadata": {},
   "source": [
    "___"
   ]
  },
  {
   "cell_type": "markdown",
   "id": "4495991d-0e59-4e4e-92dc-387ded1611c7",
   "metadata": {},
   "source": [
    "___"
   ]
  },
  {
   "cell_type": "markdown",
   "id": "5f882c6f-52f2-41a7-a5be-685915c44b72",
   "metadata": {},
   "source": [
    "# 11. Saxpy C For Loop CPU and Saxpy C Multithread CPU"
   ]
  },
  {
   "cell_type": "code",
   "execution_count": 63,
   "id": "e722f524-2b31-423f-bd16-7712610c3e33",
   "metadata": {
    "collapsed": true,
    "jupyter": {
     "outputs_hidden": true
    },
    "tags": []
   },
   "outputs": [
    {
     "name": "stdout",
     "output_type": "stream",
     "text": [
      "z = 1: 0.000000056999852 0.000000038999133 0.000000014000761 0.000000014999387 0.000000014000761 0.000000013998942 0.000000013000317 0.000000013000317 0.000000013998942 0.000000013998942 \n",
      "z = 2: 0.000000030999217 0.000000021000233 0.000000013998942 0.000000014999387 0.000000014000761 0.000000013998942 0.000000014000761 0.000000015001206 0.000000014000761 0.000000012998498 \n",
      "z = 3: 0.000000033000106 0.000000018999344 0.000000013998942 0.000000014999387 0.000000014999387 0.000000015001206 0.000000014999387 0.000000013998942 0.000000013998942 0.000000015001206 \n",
      "z = 4: 0.000000042000465 0.000000021000233 0.000000017000275 0.000000014000761 0.000000013000317 0.000000015999831 0.000000013000317 0.000000013998942 0.000000013998942 0.000000014999387 \n",
      "z = 5: 0.000000037998689 0.000000019001163 0.000000013000317 0.000000014999387 0.000000014000761 0.000000014999387 0.000000014999387 0.000000014000761 0.000000013998942 0.000000015001206 \n",
      "z = 6: 0.000000033000106 0.000000018999344 0.000000023999746 0.000000014000761 0.000000014999387 0.000000015001206 0.000000015999831 0.000000014000761 0.000000014999387 0.000000014000761 \n",
      "z = 7: 0.000000048999937 0.000000019999788 0.000000017000275 0.000000020001607 0.000000017000275 0.000000017000275 0.000000017000275 0.000000021000233 0.000000015999831 0.000000017998900 \n",
      "z = 8: 0.000000027001079 0.000000027999704 0.000000026000635 0.000000025000190 0.000000023999746 0.000000025000190 0.000000025000190 0.000000025000190 0.000000025998816 0.000000023999746 \n",
      "z = 9: 0.000000046999048 0.000000042000465 0.000000041998646 0.000000039000952 0.000000039000952 0.000000037000063 0.000000037000063 0.000000035999619 0.000000038000508 0.000000037998689 \n",
      "z = 10: 0.000000068999725 0.000000067999281 0.000000068999725 0.000000070000169 0.000000068999725 0.000000070998794 0.000000069001544 0.000000068999725 0.000000070000169 0.000000071000613 \n",
      "z = 11: 0.000000129000910 0.000000128000465 0.000000127000021 0.000000126001396 0.000000125000952 0.000000125999577 0.000000125000952 0.000000124999133 0.000000124999133 0.000000125000952 \n",
      "z = 12: 0.000000396999894 0.000000238000212 0.000000238000212 0.000000235999323 0.000000236999767 0.000000236999767 0.000000238000212 0.000000236999767 0.000000238998837 0.000000238000212 \n",
      "z = 13: 0.000000801999704 0.000000789999831 0.000000785001248 0.000000906000423 0.000000771000487 0.000000775000444 0.000000775000444 0.000000779999027 0.000000772000931 0.000000777999958 \n",
      "z = 14: 0.000001530001100 0.000001771999450 0.000003454000762 0.000001506001354 0.000001586000508 0.000001536000127 0.000001499000064 0.000001503000021 0.000001530999725 0.000001493001037 \n",
      "z = 15: 0.000004199000614 0.000003828999979 0.000003524000931 0.000003581999408 0.000004090999937 0.000003648001439 0.000003683000614 0.000003821000064 0.000003515000571 0.000003612000000 \n",
      "z = 16: 0.000010576000932 0.000007057999028 0.000008474999049 0.000009131999832 0.000007966000339 0.000008552999134 0.000008887000149 0.000007139999070 0.000007029000699 0.000007053000445 \n",
      "z = 17: 0.000024033999580 0.000015911000446 0.000018623999495 0.000017439999283 0.000016635000065 0.000016743999367 0.000016324000171 0.000017699001546 0.000019965000320 0.000019647999579 \n",
      "z = 18: 0.000065644000642 0.000057404999097 0.000044032000005 0.000041461000365 0.000051769000493 0.000043578000259 0.000053508001656 0.000046862998715 0.000039589000153 0.000052576000598 \n",
      "z = 19: 0.000131492000946 0.000110872999358 0.000110933000542 0.000128763000248 0.000142536999192 0.000115353999718 0.000117981999210 0.000120651000543 0.000129964999360 0.000099396000223 \n",
      "z = 20: 0.000293515999147 0.000187148998521 0.000171748000867 0.000165625000591 0.000355938998837 0.000292721000733 0.000180641000043 0.000187382998774 0.000317295000059 0.000327498999468 \n",
      "z = 21: 0.000630343000012 0.000554849999389 0.000431333999586 0.000495841999509 0.000620867000180 0.000717263999832 0.000753540000005 0.000726268999642 0.000776542001404 0.000639113000943 \n",
      "z = 22: 0.001333021999017 0.001375345000270 0.001523277000160 0.001566666000144 0.001409418000549 0.001503785000750 0.001508662000560 0.001415029000782 0.001739605999319 0.001601792999281 \n",
      "z = 23: 0.003255550000176 0.003178228998877 0.003192712998498 0.003148390000206 0.003031898999325 0.003094604999205 0.003058858999793 0.003414369000893 0.003250169000239 0.003094573999988 \n",
      "z = 24: 0.006203248000020 0.006228779999219 0.006288907001363 0.006326733000606 0.006361393001498 0.006851637999716 0.006316490998870 0.006335711001157 0.006591620000108 0.006312611998510 \n",
      "z = 25: 0.012808203000532 0.012900924999485 0.013236412998594 0.012663560999499 0.012542558999485 0.012540439998702 0.012635824999961 0.012455353000405 0.012652715000513 0.012709113998426 \n",
      "z = 26: 0.024894862001020 0.024891654000385 0.024355585001103 0.024859817000106 0.025137377999272 0.024662997999258 0.024845216999893 0.027713288000086 0.024295549001181 0.024349474999326 \n",
      "z = 27: 0.048451714999828 0.048610918000122 0.049282373998722 0.048665525999240 0.049132792999444 0.049229248999836 0.048790385999382 0.048262943999362 0.048491775000002 0.048822102000486 \n",
      "z = 28: 0.097344273999624 0.099539428998469 0.098397719000786 0.098294451998299 0.097788945999127 0.098251015000642 0.098289742998531 0.097702093999033 0.097776490998513 0.097809344999405 \n",
      "z = 29: 0.195746021998275 0.197512769000241 0.194799787001102 0.194715980998808 0.195003885000915 0.195670943001460 0.197737656999379 0.194143407999945 0.195115812999575 0.196519442000863 \n",
      "z = 30: 0.386848183999973 0.387926472998515 0.386880123000083 0.387495658000262 0.389278511000157 0.390462065999600 0.390148304999457 0.390882698999121 0.388372670000535 0.387595455998962 \n",
      "Average time for size 0: 0.000000020699736 seconds\n",
      "Average time for size 1: 0.000000016499871 seconds\n",
      "Average time for size 2: 0.000000016899685 seconds\n",
      "Average time for size 3: 0.000000017899947 seconds\n",
      "Average time for size 4: 0.000000017200000 seconds\n",
      "Average time for size 5: 0.000000017900129 seconds\n",
      "Average time for size 6: 0.000000021200140 seconds\n",
      "Average time for size 7: 0.000000025500049 seconds\n",
      "Average time for size 8: 0.000000039499901 seconds\n",
      "Average time for size 9: 0.000000069499947 seconds\n",
      "Average time for size 10: 0.000000126100349 seconds\n",
      "Average time for size 11: 0.000000253499820 seconds\n",
      "Average time for size 12: 0.000000793400250 seconds\n",
      "Average time for size 13: 0.000001741000415 seconds\n",
      "Average time for size 14: 0.000003750400356 seconds\n",
      "Average time for size 15: 0.000008186899868 seconds\n",
      "Average time for size 16: 0.000018302399985 seconds\n",
      "Average time for size 17: 0.000049642500198 seconds\n",
      "Average time for size 18: 0.000120794599934 seconds\n",
      "Average time for size 19: 0.000247951599704 seconds\n",
      "Average time for size 20: 0.000634596400050 seconds\n",
      "Average time for size 21: 0.001497660300083 seconds\n",
      "Average time for size 22: 0.003171935699720 seconds\n",
      "Average time for size 23: 0.006381713300107 seconds\n",
      "Average time for size 24: 0.012714510799560 seconds\n",
      "Average time for size 25: 0.025000582300163 seconds\n",
      "Average time for size 26: 0.048773978199642 seconds\n",
      "Average time for size 27: 0.098119350799243 seconds\n",
      "Average time for size 28: 0.195696570700056 seconds\n",
      "Average time for size 29: 0.388589014499667 seconds\n"
     ]
    }
   ],
   "source": [
    "# Saxpy Cpp For Loop CPU\n",
    "!gcc  src/Saxpy_C/Saxpy_C_For_Loop_CPU.c -o src/Saxpy_C/bin/Saxpy_C_For_Loop_CPU -Ofast -march=native -mavx512f -ffast-math \n",
    "!./src/Saxpy_C/bin/Saxpy_C_For_Loop_CPU"
   ]
  },
  {
   "cell_type": "code",
   "execution_count": 35,
   "id": "638e9a39-00d7-43e9-b2ca-64185f144f09",
   "metadata": {},
   "outputs": [],
   "source": [
    "Saxpy_C_For_Loop_CPU = np.genfromtxt(\"/home/stefancc/Desktop/HPC/saxpy/Benchmark_Results/Saxpy_C_For_Loop_CPU.csv\", delimiter=\" \")*1000"
   ]
  },
  {
   "cell_type": "code",
   "execution_count": 36,
   "id": "18278436-3017-4d77-ab0e-82ea5901facb",
   "metadata": {},
   "outputs": [
    {
     "name": "stdout",
     "output_type": "stream",
     "text": [
      "[  0.0000207   0.0000165   0.0000169   0.0000179   0.0000172   0.0000179\n",
      "   0.0000212   0.0000255   0.0000395   0.0000695   0.0001261   0.0002535\n",
      "   0.0007934   0.001741    0.0037504   0.0081869   0.0183024   0.0496425\n",
      "   0.1207946   0.2479516   0.6345964   1.4976603   3.1719357   6.3817133\n",
      "  12.7145108  25.0005823  48.7739782  98.1193508 195.6965707 388.5890145]\n"
     ]
    }
   ],
   "source": [
    "print(Saxpy_C_For_Loop_CPU)"
   ]
  },
  {
   "cell_type": "code",
   "execution_count": null,
   "id": "7ac56cde-bf53-420f-885c-dd702cc51402",
   "metadata": {},
   "outputs": [],
   "source": []
  },
  {
   "cell_type": "code",
   "execution_count": null,
   "id": "94aa1d36-e209-4ae4-8c4a-076647c22dd0",
   "metadata": {},
   "outputs": [],
   "source": []
  },
  {
   "cell_type": "code",
   "execution_count": 37,
   "id": "1aace54f-45fc-4efd-bed8-8a0ae7ae0446",
   "metadata": {
    "tags": []
   },
   "outputs": [
    {
     "name": "stdout",
     "output_type": "stream",
     "text": [
      "^C\n"
     ]
    }
   ],
   "source": [
    "# Saxpy Cpp For Loop Multithread CPU --best performance with 3\n",
    "!gcc  src/Saxpy_C/Saxpy_C_For_Loop_Multithread_CPU.c -o src/Saxpy_C/bin/Saxpy_C_For_Loop_Multithread_CPU -Ofast -fopenmp -march=native -mavx512f -ffast-math \n",
    "!./src/Saxpy_C/bin/Saxpy_C_For_Loop_Multithread_CPU"
   ]
  },
  {
   "cell_type": "markdown",
   "id": "d6cb6752-a07c-4716-8b7e-5f4b2f3c74a4",
   "metadata": {},
   "source": [
    "1 - 0.38 s\n",
    "2 - 0.32 s\n",
    "3 - 0.3165\n",
    "4 - 0.3201\n",
    "6 - 0.3245\n",
    "8 - 0.3287\n",
    "16 - 0.3329"
   ]
  },
  {
   "cell_type": "code",
   "execution_count": 33,
   "id": "80447a87-ffc4-4963-9196-2521f89c1e27",
   "metadata": {},
   "outputs": [],
   "source": [
    "Saxpy_C_For_Loop_Multithread_CPU = np.genfromtxt(\"/home/stefancc/Desktop/HPC/saxpy/Benchmark_Results/Saxpy_C_For_Loop_Multithread_CPU.csv\", delimiter=\" \")*1000"
   ]
  },
  {
   "cell_type": "code",
   "execution_count": 34,
   "id": "80406694-ded6-41c0-b7d1-cea0a735056a",
   "metadata": {},
   "outputs": [
    {
     "name": "stdout",
     "output_type": "stream",
     "text": [
      "[  0.0191527   0.0025006   0.0024865   0.0025197   0.0024964   0.0026397\n",
      "   0.0030789   0.0028535   0.0049693   0.0035344   0.0028139   0.0051266\n",
      "   0.0035833   0.0031919   0.0048259   0.0090395   0.0166475   0.0242343\n",
      "   0.1134214   0.1377518   0.408037    1.050957    2.2900111   4.8120628\n",
      "   9.7980124  19.7456413  39.6027191  79.0805985 158.024742  316.131804 ]\n"
     ]
    }
   ],
   "source": [
    "print(Saxpy_C_For_Loop_Multithread_CPU)"
   ]
  },
  {
   "cell_type": "code",
   "execution_count": 69,
   "id": "8e8db58d-7605-4fe5-80c6-fd14f397a738",
   "metadata": {
    "collapsed": true,
    "jupyter": {
     "outputs_hidden": true
    },
    "tags": []
   },
   "outputs": [
    {
     "data": {
      "image/png": "[encoded data removed]",
      "text/plain": [
       "<Figure size 1500x900 with 1 Axes>"
      ]
     },
     "metadata": {},
     "output_type": "display_data"
    }
   ],
   "source": [
    "elements = Saxpy_C_For_Loop_CPU .shape[0]\n",
    "plt.figure(figsize=(15,9))\n",
    "\n",
    "plt.plot(np.log2(N[:elements]),Saxpy_C_For_Loop_CPU [:], linestyle='--', marker='o')\n",
    "plt.plot(np.log2(N[:elements]),Saxpy_C_For_Loop_Multithread_CPU [:], linestyle='--', marker='o')\n",
    "\n",
    "\n",
    "plt.yscale(\"log\")\n",
    "plt.title(\"Saxpy Benchmark\")\n",
    "plt.xlabel(\"Array Size\")\n",
    "plt.ylabel(\"Runtime (ms)\")\n",
    "x_tick_labels = [\"$2^{\" + str(i) + \"}$\" for i in range(1, elements + 1,1)]\n",
    "plt.xticks(np.arange(1, elements + 1,1), x_tick_labels)\n",
    "plt.grid()\n",
    "plt.show()"
   ]
  },
  {
   "cell_type": "markdown",
   "id": "51be88ef-8d0f-4323-8108-35ab9b9ad284",
   "metadata": {},
   "source": [
    "___"
   ]
  },
  {
   "cell_type": "markdown",
   "id": "4118753d-e5a6-40f5-bbf3-978914e1288f",
   "metadata": {},
   "source": [
    "___"
   ]
  },
  {
   "cell_type": "markdown",
   "id": "f978c32d-b49d-4dec-9d0f-3dd0dfa5930b",
   "metadata": {},
   "source": [
    "___"
   ]
  },
  {
   "cell_type": "markdown",
   "id": "3a5ccb29-d406-4bd2-aa2a-6923b14221d2",
   "metadata": {},
   "source": [
    "# 12. SWIG Saxpy C For Loop CPU and Saxpy C Multithread CPU "
   ]
  },
  {
   "cell_type": "code",
   "execution_count": 71,
   "id": "04fab2de-029c-4c83-9d46-8fa99cc58450",
   "metadata": {
    "collapsed": true,
    "jupyter": {
     "outputs_hidden": true
    },
    "tags": []
   },
   "outputs": [
    {
     "name": "stdout",
     "output_type": "stream",
     "text": [
      "Done loop\n",
      "22.157864\n",
      "[  0.00576973   0.00042915   0.00030994   0.00030994   0.00030994\n",
      "   0.0002861    0.00033379   0.00030994   0.00030994   0.00035763\n",
      "   0.000453     0.00061989   0.00104904   0.0017643    0.00228882\n",
      "   0.00839233   0.0156641    0.03805161   0.08687973   0.22134781\n",
      "   0.72050095   1.51391029   3.52036953   6.02734089  12.42794991\n",
      "  25.42397976  50.06887913  99.61423874 209.52539444 400.43184757]\n"
     ]
    }
   ],
   "source": [
    "# Saxpy C For Loop SWIG CPU\n",
    "sys.path.insert(2, 'src/SWIG')\n",
    "%run  src/Saxpy_C_For_Loop_SWIG_CPU.py "
   ]
  },
  {
   "cell_type": "code",
   "execution_count": 72,
   "id": "d031d265-4b8c-486a-9098-b0bb44e31c2c",
   "metadata": {},
   "outputs": [],
   "source": [
    "# Reading the csv into an array\n",
    "Saxpy_C_For_Loop_SWIG_CPU = np.genfromtxt(\"/home/stefancc/Desktop/HPC/saxpy/Benchmark_Results/Saxpy_C_For_Loop_SWIG_CPU.csv\", delimiter=\",\")"
   ]
  },
  {
   "cell_type": "code",
   "execution_count": 73,
   "id": "fa8c59bd-4e11-4cb4-ba21-faba576bec13",
   "metadata": {},
   "outputs": [
    {
     "name": "stdout",
     "output_type": "stream",
     "text": [
      "[0.00000577 0.00000043 0.00000031 0.00000031 0.00000031 0.00000029\n",
      " 0.00000033 0.00000031 0.00000031 0.00000036 0.00000045 0.00000062\n",
      " 0.00000105 0.00000176 0.00000229 0.00000839 0.00001566 0.00003805\n",
      " 0.00008688 0.00022135 0.0007205  0.00151391 0.00352037 0.00602734\n",
      " 0.01242795 0.02542398 0.05006888 0.09961424 0.20952539 0.40043185]\n"
     ]
    }
   ],
   "source": [
    "print(Saxpy_C_For_Loop_SWIG_CPU/1000)"
   ]
  },
  {
   "cell_type": "code",
   "execution_count": 74,
   "id": "77231df2-7c50-4d32-a7a9-31165cb44fa5",
   "metadata": {
    "collapsed": true,
    "jupyter": {
     "outputs_hidden": true
    },
    "tags": []
   },
   "outputs": [
    {
     "name": "stdout",
     "output_type": "stream",
     "text": [
      "Done loop\n",
      "10.780881\n",
      "[  0.02892017   0.00138283   0.00112057   0.00112057   0.00114441\n",
      "   0.00112057   0.00100136   0.00104904   0.00112057   0.00135899\n",
      "   0.00185966   0.00200272   0.00395775   0.00400543   0.00693798\n",
      "   0.01306534   0.01547337   0.02503395   0.03407001   0.11475086\n",
      "   0.37326813   0.86567402   2.55901814   4.45027351   9.54236984\n",
      "  19.94075775  40.02912045  81.11257553 163.80140781 323.27468395]\n"
     ]
    }
   ],
   "source": [
    "# Saxpy C For Loop SWIG Multithread CPU\n",
    "sys.path.insert(2, 'src/SWIG')\n",
    "%run  src/Saxpy_C_For_Loop_SWIG_Multithread_CPU.py "
   ]
  },
  {
   "cell_type": "code",
   "execution_count": 75,
   "id": "2ad928d7-3516-47ca-8ae7-d0558811ff43",
   "metadata": {},
   "outputs": [],
   "source": [
    "# Reading the csv into an array\n",
    "Saxpy_C_For_Loop_SWIG_Multithread_CPU = np.genfromtxt(\"/home/stefancc/Desktop/HPC/saxpy/Benchmark_Results/Saxpy_C_For_Loop_SWIG_Multithread_CPU.csv\", delimiter=\",\")"
   ]
  },
  {
   "cell_type": "code",
   "execution_count": 76,
   "id": "1443d265-e45c-4b42-b1d4-43fff3938225",
   "metadata": {},
   "outputs": [
    {
     "name": "stdout",
     "output_type": "stream",
     "text": [
      "[0.00002892 0.00000138 0.00000112 0.00000112 0.00000114 0.00000112\n",
      " 0.000001   0.00000105 0.00000112 0.00000136 0.00000186 0.000002\n",
      " 0.00000396 0.00000401 0.00000694 0.00001307 0.00001547 0.00002503\n",
      " 0.00003407 0.00011475 0.00037327 0.00086567 0.00255902 0.00445027\n",
      " 0.00954237 0.01994076 0.04002912 0.08111258 0.16380141 0.32327468]\n"
     ]
    }
   ],
   "source": [
    "print(Saxpy_C_For_Loop_SWIG_Multithread_CPU/1000)"
   ]
  },
  {
   "cell_type": "code",
   "execution_count": 77,
   "id": "8609151a-f0f6-439e-ab09-ea71e51b3f38",
   "metadata": {
    "collapsed": true,
    "jupyter": {
     "outputs_hidden": true
    },
    "tags": []
   },
   "outputs": [
    {
     "data": {
      "image/png": "[encoded data removed]",
      "text/plain": [
       "<Figure size 1500x900 with 1 Axes>"
      ]
     },
     "metadata": {},
     "output_type": "display_data"
    }
   ],
   "source": [
    "elements = Saxpy_C_For_Loop_SWIG_CPU .shape[0]\n",
    "plt.figure(figsize=(15,9))\n",
    "\n",
    "plt.plot(np.log2(N[:elements]),Saxpy_C_For_Loop_SWIG_CPU [:], linestyle='--', marker='o')\n",
    "plt.plot(np.log2(N[:elements]),Saxpy_C_For_Loop_SWIG_Multithread_CPU [:], linestyle='--', marker='o')\n",
    "\n",
    "\n",
    "plt.yscale(\"log\")\n",
    "plt.title(\"Saxpy Benchmark\")\n",
    "plt.xlabel(\"Array Size\")\n",
    "plt.ylabel(\"Runtime (ms)\")\n",
    "x_tick_labels = [\"$2^{\" + str(i) + \"}$\" for i in range(1, elements + 1,1)]\n",
    "plt.xticks(np.arange(1, elements + 1,1), x_tick_labels)\n",
    "plt.grid()\n",
    "plt.show()"
   ]
  },
  {
   "cell_type": "markdown",
   "id": "d5b30322-5855-4533-b660-544c6049ab34",
   "metadata": {},
   "source": [
    "___"
   ]
  },
  {
   "cell_type": "markdown",
   "id": "340ebb0b-d9cc-4038-aa3a-26ee7aa37882",
   "metadata": {},
   "source": [
    "___"
   ]
  },
  {
   "cell_type": "markdown",
   "id": "a76bb7db-a8be-481d-8459-162c87887009",
   "metadata": {},
   "source": [
    "___"
   ]
  },
  {
   "cell_type": "markdown",
   "id": "378fdb47-2ef1-4cb1-bd7d-62bb82501d5f",
   "metadata": {},
   "source": [
    "# 13. Saxpy Julia For Loop CPU, Saxpy Julia Vectorized CPU and Saxpy Julia Multithread CPU"
   ]
  },
  {
   "cell_type": "code",
   "execution_count": 127,
   "id": "5b72d964-a254-4d77-9cdc-cc0ea6ef0f17",
   "metadata": {
    "collapsed": true,
    "jupyter": {
     "outputs_hidden": true
    },
    "tags": []
   },
   "outputs": [
    {
     "name": "stdout",
     "output_type": "stream",
     "text": [
      "counter = 1\n",
      "counter = 2\n",
      "counter = 3\n",
      "counter = 4\n",
      "counter = 5\n",
      "counter = 6\n",
      "counter = 7\n",
      "counter = 8\n",
      "counter = 9\n",
      "counter = 10\n",
      "counter = 11\n",
      "counter = 12\n",
      "counter = 13\n",
      "counter = 14\n",
      "counter = 15\n",
      "counter = 16\n",
      "counter = 17\n",
      "counter = 18\n",
      "counter = 19\n",
      "counter = 20\n",
      "counter = 21\n",
      "counter = 22\n",
      "counter = 23\n",
      "counter = 24\n",
      "counter = 25\n",
      "counter = 26\n",
      "counter = 27\n",
      "counter = 28\n",
      "counter = 29\n",
      "counter = 30\n",
      "11.942\n",
      "12.488\n",
      "14.364\n",
      "17.887\n",
      "12.336\n",
      "13.431\n",
      "15.641\n",
      "20.761\n",
      "30.224\n",
      "54.001\n",
      "91.109\n",
      "165.805\n",
      "606.534\n",
      "1217.410\n",
      "2086.438\n",
      "5271.271\n",
      "9849.936\n",
      "35470.940\n",
      "77311.887\n",
      "155963.865\n",
      "336627.224\n",
      "1041788.850\n",
      "2583792.832\n",
      "5755781.408\n",
      "12130084.104\n",
      "24614669.181\n",
      "49763014.554\n",
      "98755569.471\n",
      "199446262.154\n",
      "397769082.692\n"
     ]
    }
   ],
   "source": [
    "#!julia src/Julia/Saxpy_Julia_For_Loop_CPU.jl"
   ]
  },
  {
   "cell_type": "code",
   "execution_count": 128,
   "id": "46eaa850-c699-441c-942e-2f904c082dc9",
   "metadata": {},
   "outputs": [],
   "source": [
    "# Reading the csv into an array\n",
    "Saxpy_Julia_For_Loop_CPU = np.genfromtxt(\"/home/stefancc/Desktop/HPC/saxpy/Benchmark_Results/Saxpy_Julia_For_Loop_CPU.csv\", delimiter=\",\")/1_000_000"
   ]
  },
  {
   "cell_type": "code",
   "execution_count": 129,
   "id": "6f4b000f-3a72-4364-891f-9dfcca994651",
   "metadata": {},
   "outputs": [
    {
     "name": "stdout",
     "output_type": "stream",
     "text": [
      "[  0.00001194   0.00001249   0.00001436   0.00001789   0.00001234\n",
      "   0.00001343   0.00001564   0.00002076   0.00003022   0.000054\n",
      "   0.00009111   0.00016581   0.00060653   0.00121741   0.00208644\n",
      "   0.00527127   0.00984994   0.03547094   0.07731189   0.15596387\n",
      "   0.33662722   1.04178885   2.58379283   5.75578141  12.1300841\n",
      "  24.61466918  49.76301455  98.75556947 199.44626215 397.76908269]\n"
     ]
    }
   ],
   "source": [
    "print(Saxpy_Julia_For_Loop_CPU)"
   ]
  },
  {
   "cell_type": "markdown",
   "id": "60c15805-57cc-470d-9e35-3b7e251da800",
   "metadata": {},
   "source": [
    "___"
   ]
  },
  {
   "cell_type": "code",
   "execution_count": 130,
   "id": "6181c98c-b656-44e6-b0aa-edd0457c41a9",
   "metadata": {
    "collapsed": true,
    "jupyter": {
     "outputs_hidden": true
    },
    "tags": []
   },
   "outputs": [
    {
     "name": "stdout",
     "output_type": "stream",
     "text": [
      "counter = 1\n",
      "counter = 2\n",
      "counter = 3\n",
      "counter = 4\n",
      "counter = 5\n",
      "counter = 6\n",
      "counter = 7\n",
      "counter = 8\n",
      "counter = 9\n",
      "counter = 10\n",
      "counter = 11\n",
      "counter = 12\n",
      "counter = 13\n",
      "counter = 14\n",
      "counter = 15\n",
      "counter = 16\n",
      "counter = 17\n",
      "counter = 18\n",
      "counter = 19\n",
      "counter = 20\n",
      "counter = 21\n",
      "counter = 22\n",
      "counter = 23\n",
      "counter = 24\n",
      "counter = 25\n",
      "counter = 26\n",
      "counter = 27\n",
      "counter = 28\n",
      "counter = 29\n",
      "counter = 30\n",
      "12.610\n",
      "13.049\n",
      "14.768\n",
      "18.108\n",
      "12.339\n",
      "13.287\n",
      "15.852\n",
      "19.948\n",
      "29.376\n",
      "55.531\n",
      "89.138\n",
      "163.301\n",
      "593.660\n",
      "1033.479\n",
      "2149.781\n",
      "5120.169\n",
      "9534.469\n",
      "37300.685\n",
      "76386.867\n",
      "152984.650\n",
      "327243.128\n",
      "1044231.743\n",
      "2584705.682\n",
      "5735717.341\n",
      "12059099.745\n",
      "24576781.412\n",
      "49654985.842\n",
      "98398788.039\n",
      "198939385.462\n",
      "400463254.846\n"
     ]
    }
   ],
   "source": [
    "#!julia src/Julia/Saxpy_Julia_Vectorized_CPU.jl"
   ]
  },
  {
   "cell_type": "code",
   "execution_count": 131,
   "id": "b9ead838-c193-4b22-a0f7-2051165693f9",
   "metadata": {},
   "outputs": [],
   "source": [
    "# Reading the csv into an array\n",
    "Saxpy_Julia_Vectorized_CPU = np.genfromtxt(\"/home/stefancc/Desktop/HPC/saxpy/Benchmark_Results/Saxpy_Julia_Vectorized_CPU.csv\", delimiter=\",\")/1_000_000"
   ]
  },
  {
   "cell_type": "code",
   "execution_count": 132,
   "id": "bf485840-9095-418c-a521-6f1d021a6b25",
   "metadata": {},
   "outputs": [
    {
     "name": "stdout",
     "output_type": "stream",
     "text": [
      "[  0.00001261   0.00001305   0.00001477   0.00001811   0.00001234\n",
      "   0.00001329   0.00001585   0.00001995   0.00002938   0.00005553\n",
      "   0.00008914   0.0001633    0.00059366   0.00103348   0.00214978\n",
      "   0.00512017   0.00953447   0.03730068   0.07638687   0.15298465\n",
      "   0.32724313   1.04423174   2.58470568   5.73571734  12.05909974\n",
      "  24.57678141  49.65498584  98.39878804 198.93938546 400.46325485]\n"
     ]
    }
   ],
   "source": [
    "print(Saxpy_Julia_Vectorized_CPU)"
   ]
  },
  {
   "cell_type": "markdown",
   "id": "44074a52-882a-4de2-9909-fe5ff2c20def",
   "metadata": {},
   "source": [
    "___"
   ]
  },
  {
   "cell_type": "code",
   "execution_count": 133,
   "id": "baa13f43-c8d7-4491-9ee5-9eeaee4db87e",
   "metadata": {
    "collapsed": true,
    "jupyter": {
     "outputs_hidden": true
    },
    "tags": []
   },
   "outputs": [
    {
     "name": "stdout",
     "output_type": "stream",
     "text": [
      "counter = 1\n",
      "counter = 2\n",
      "counter = 3\n",
      "counter = 4\n",
      "counter = 5\n",
      "counter = 6\n",
      "counter = 7\n",
      "counter = 8\n",
      "counter = 9\n",
      "counter = 10\n",
      "counter = 11\n",
      "counter = 12\n",
      "counter = 13\n",
      "counter = 14\n",
      "counter = 15\n",
      "counter = 16\n",
      "counter = 17\n",
      "counter = 18\n",
      "counter = 19\n",
      "counter = 20\n",
      "counter = 21\n",
      "counter = 22\n",
      "counter = 23\n",
      "counter = 24\n",
      "counter = 25\n",
      "counter = 26\n",
      "counter = 27\n",
      "counter = 28\n",
      "counter = 29\n",
      "counter = 30\n",
      "17.249\n",
      "17.742\n",
      "20.044\n",
      "21.611\n",
      "19.228\n",
      "22.729\n",
      "19.121\n",
      "23.156\n",
      "33.241\n",
      "37.078\n",
      "59.803\n",
      "107.914\n",
      "542.717\n",
      "861.548\n",
      "888.813\n",
      "1341.570\n",
      "1937.317\n",
      "3104.450\n",
      "5560.937\n",
      "13390.685\n",
      "58083.431\n",
      "380123.315\n",
      "1809386.835\n",
      "4413644.364\n",
      "10038107.757\n",
      "20661948.318\n",
      "42173773.109\n",
      "83310979.967\n",
      "164722898.290\n",
      "336969943.333\n"
     ]
    }
   ],
   "source": [
    "#!julia src/Julia/Saxpy_Julia_BLAS_CPU.jl"
   ]
  },
  {
   "cell_type": "code",
   "execution_count": 134,
   "id": "eaf6f77b-ea89-4586-bc43-1773c9145c6e",
   "metadata": {},
   "outputs": [],
   "source": [
    "# Reading the csv into an array\n",
    "Saxpy_Julia_BLAS_CPU = np.genfromtxt(\"/home/stefancc/Desktop/HPC/saxpy/Benchmark_Results/Saxpy_Julia_BLAS_CPU.csv\", delimiter=\",\")/1_000_000"
   ]
  },
  {
   "cell_type": "code",
   "execution_count": 135,
   "id": "e0099dd9-6b01-415b-a931-c3ad7393bf84",
   "metadata": {},
   "outputs": [
    {
     "name": "stdout",
     "output_type": "stream",
     "text": [
      "[  0.00001725   0.00001774   0.00002004   0.00002161   0.00001923\n",
      "   0.00002273   0.00001912   0.00002316   0.00003324   0.00003708\n",
      "   0.0000598    0.00010791   0.00054272   0.00086155   0.00088881\n",
      "   0.00134157   0.00193732   0.00310445   0.00556094   0.01339068\n",
      "   0.05808343   0.38012332   1.80938683   4.41364436  10.03810776\n",
      "  20.66194832  42.17377311  83.31097997 164.72289829 336.96994333]\n"
     ]
    }
   ],
   "source": [
    "print(Saxpy_Julia_BLAS_CPU)"
   ]
  },
  {
   "cell_type": "markdown",
   "id": "9dd65df2-f458-4d50-b1ef-e7a5b281b2fb",
   "metadata": {},
   "source": [
    "___"
   ]
  },
  {
   "cell_type": "code",
   "execution_count": 136,
   "id": "e755fcd9-67b1-40f1-b4a3-6bf9a2839ceb",
   "metadata": {
    "collapsed": true,
    "jupyter": {
     "outputs_hidden": true
    },
    "tags": []
   },
   "outputs": [
    {
     "name": "stdout",
     "output_type": "stream",
     "text": [
      "Number of threads: 4\n",
      "counter = 1\n",
      "counter = 2\n",
      "counter = 3\n",
      "counter = 4\n",
      "counter = 5\n",
      "counter = 6\n",
      "counter = 7\n",
      "counter = 8\n",
      "counter = 9\n",
      "counter = 10\n",
      "counter = 11\n",
      "counter = 12\n",
      "counter = 13\n",
      "counter = 14\n",
      "counter = 15\n",
      "counter = 16\n",
      "counter = 17\n",
      "counter = 18\n",
      "counter = 19\n",
      "counter = 20\n",
      "counter = 21\n",
      "counter = 22\n",
      "counter = 23\n",
      "counter = 24\n",
      "counter = 25\n",
      "counter = 26\n",
      "counter = 27\n",
      "counter = 28\n",
      "counter = 29\n",
      "counter = 30\n",
      "3014.752\n",
      "3027.507\n",
      "3062.221\n",
      "3056.894\n",
      "3046.097\n",
      "2997.149\n",
      "2988.495\n",
      "2983.882\n",
      "3023.257\n",
      "3117.872\n",
      "3312.968\n",
      "3605.643\n",
      "4103.349\n",
      "5499.487\n",
      "8229.880\n",
      "13205.363\n",
      "24088.027\n",
      "47567.022\n",
      "94762.696\n",
      "175895.206\n",
      "356378.448\n",
      "804358.301\n",
      "2006243.219\n",
      "4594329.299\n",
      "9671214.253\n",
      "19922208.271\n",
      "40154928.616\n",
      "80224715.381\n",
      "160767000.438\n",
      "324426327.125\n"
     ]
    }
   ],
   "source": [
    "#!JULIA_NUM_THREADS=4 julia src/Julia/Saxpy_Julia_Multithread_CPU.jl"
   ]
  },
  {
   "cell_type": "code",
   "execution_count": 137,
   "id": "f588fe4e-fced-464b-856d-6deca5de3587",
   "metadata": {},
   "outputs": [],
   "source": [
    "# Reading the csv into an array\n",
    "Saxpy_Julia_Multithread_CPU = np.genfromtxt(\"/home/stefancc/Desktop/HPC/saxpy/Benchmark_Results/Saxpy_Julia_Multithread_CPU.csv\", delimiter=\",\")/1_000_000"
   ]
  },
  {
   "cell_type": "code",
   "execution_count": 138,
   "id": "9c281e7d-52ff-4b1f-aa8d-a22bb881d2ef",
   "metadata": {},
   "outputs": [
    {
     "name": "stdout",
     "output_type": "stream",
     "text": [
      "[  0.00301475   0.00302751   0.00306222   0.00305689   0.0030461\n",
      "   0.00299715   0.00298849   0.00298388   0.00302326   0.00311787\n",
      "   0.00331297   0.00360564   0.00410335   0.00549949   0.00822988\n",
      "   0.01320536   0.02408803   0.04756702   0.0947627    0.17589521\n",
      "   0.35637845   0.8043583    2.00624322   4.5943293    9.67121425\n",
      "  19.92220827  40.15492862  80.22471538 160.76700044 324.42632713]\n"
     ]
    }
   ],
   "source": [
    "print(Saxpy_Julia_Multithread_CPU)"
   ]
  },
  {
   "cell_type": "markdown",
   "id": "99736345-7b18-428d-bb76-4023700cdbaf",
   "metadata": {},
   "source": [
    "___"
   ]
  },
  {
   "cell_type": "markdown",
   "id": "eb3a5db8-e362-44d5-ac3b-7dc053ec37f4",
   "metadata": {},
   "source": [
    "cpu_time = 201.367 #ms\n",
    "\n",
    "gpu_time = 20.579 #ms\n",
    "\n",
    "kernel_time = 19.963\n",
    "\n",
    "cublas_time = 19.714"
   ]
  },
  {
   "cell_type": "code",
   "execution_count": 155,
   "id": "b763cfb4-50eb-4a66-a1cd-3658ccaa038c",
   "metadata": {
    "collapsed": true,
    "jupyter": {
     "outputs_hidden": true
    },
    "tags": []
   },
   "outputs": [
    {
     "name": "stdout",
     "output_type": "stream",
     "text": [
      "counter = 1\n",
      "counter = 2\n",
      "counter = 3\n",
      "counter = 4\n",
      "counter = 5\n",
      "counter = 6\n",
      "counter = 7\n",
      "counter = 8\n",
      "counter = 9\n",
      "counter = 10\n",
      "counter = 11\n",
      "counter = 12\n",
      "counter = 13\n",
      "counter = 14\n",
      "counter = 15\n",
      "counter = 16\n",
      "counter = 17\n",
      "counter = 18\n",
      "counter = 19\n",
      "counter = 20\n",
      "counter = 21\n",
      "counter = 22\n",
      "counter = 23\n",
      "counter = 24\n",
      "counter = 25\n",
      "counter = 26\n",
      "counter = 27\n",
      "counter = 28\n",
      "counter = 29\n",
      "8255.460\n",
      "8311.409\n",
      "8334.396\n",
      "8309.009\n",
      "8311.637\n",
      "8413.985\n",
      "8301.415\n",
      "8330.471\n",
      "8451.676\n",
      "8668.898\n",
      "8498.334\n",
      "8525.942\n",
      "8506.940\n",
      "8629.136\n",
      "8833.586\n",
      "9292.221\n",
      "9660.647\n",
      "10552.989\n",
      "13107.209\n",
      "48987.579\n",
      "87304.606\n",
      "209705.348\n",
      "402715.510\n",
      "759956.777\n",
      "1511724.082\n",
      "2998412.471\n",
      "5712059.945\n",
      "10765497.188\n",
      "20879853.983\n",
      "Effective GPU memory usage: 87.72% (6.838 GiB/7.795 GiB)\n",
      "Memory pool usage: 4.000 GiB (6.031 GiB reserved)\n",
      "nothing\n"
     ]
    }
   ],
   "source": [
    "#!julia src/Julia/Saxpy_Julia_GPU.jl"
   ]
  },
  {
   "cell_type": "code",
   "execution_count": 158,
   "id": "b0486cd9-4271-46f7-95cc-cf75c3978170",
   "metadata": {},
   "outputs": [],
   "source": [
    "# Reading the csv into an array\n",
    "Saxpy_Julia_GPU= np.genfromtxt(\"/home/stefancc/Desktop/HPC/saxpy/Benchmark_Results/Saxpy_Julia_GPU.csv\", delimiter=\",\")/1_000_000"
   ]
  },
  {
   "cell_type": "code",
   "execution_count": 159,
   "id": "49fcaa7e-3a87-420a-af50-3697db6f5d70",
   "metadata": {},
   "outputs": [
    {
     "name": "stdout",
     "output_type": "stream",
     "text": [
      "[ 0.00825546  0.00831141  0.0083344   0.00830901  0.00831164  0.00841399\n",
      "  0.00830142  0.00833047  0.00845168  0.0086689   0.00849833  0.00852594\n",
      "  0.00850694  0.00862914  0.00883359  0.00929222  0.00966065  0.01055299\n",
      "  0.01310721  0.04898758  0.08730461  0.20970535  0.40271551  0.75995678\n",
      "  1.51172408  2.99841247  5.71205994 10.76549719 20.87985398]\n"
     ]
    }
   ],
   "source": [
    "print(Saxpy_Julia_GPU)"
   ]
  },
  {
   "cell_type": "markdown",
   "id": "e5a572ea-ba3d-434f-8cee-c53027ef32f5",
   "metadata": {},
   "source": [
    "___"
   ]
  },
  {
   "cell_type": "code",
   "execution_count": 150,
   "id": "3a253ac9-d470-45c3-97dd-6f90a604f0b2",
   "metadata": {
    "tags": []
   },
   "outputs": [
    {
     "name": "stdout",
     "output_type": "stream",
     "text": [
      "counter = 1\n",
      "counter = 2\n",
      "^C\n",
      "\n",
      "signal (2): Interrupt\n",
      "in expression starting at /home/stefancc/Desktop/HPC/saxpy/src/Julia/Saxpy_Julia_Kernel_GPU.jl:41\n",
      "unknown function (ip: 0x7fb00d5fd966)\n",
      "unknown function (ip: 0x1)\n",
      "unknown function (ip: (nil))\n",
      "Allocations: 78835160 (Pool: 78817872; Big: 17288); GC: 82\n"
     ]
    }
   ],
   "source": [
    "!julia src/Julia/Saxpy_Julia_Kernel_GPU.jl"
   ]
  },
  {
   "cell_type": "code",
   "execution_count": 151,
   "id": "86ccdff2-64cb-4ff9-ab7d-e67309cb1ee6",
   "metadata": {},
   "outputs": [],
   "source": [
    "# Reading the csv into an array\n",
    "Saxpy_Julia_Kernel_GPU= np.genfromtxt(\"/home/stefancc/Desktop/HPC/saxpy/Benchmark_Results/Saxpy_Julia_Kernel_GPU.csv\", delimiter=\",\")/1_000_000"
   ]
  },
  {
   "cell_type": "code",
   "execution_count": 152,
   "id": "dded887b-ccf6-42e1-a720-566b3079e21a",
   "metadata": {},
   "outputs": [
    {
     "name": "stdout",
     "output_type": "stream",
     "text": [
      "[ 0.00787005  0.0076538   0.00704289  0.00686366  0.0073151   0.00709824\n",
      "  0.00698736  0.00717331  0.00714677  0.00827158  0.00723072  0.00738039\n",
      "  0.00730166  0.00699135  0.00725262  0.00783399  0.00880988  0.01052056\n",
      "  0.01808723  0.04631646  0.08524575  0.21510784  0.39840314  0.7564998\n",
      "  1.46787952  2.98903645  5.60944749 10.8838659  21.10398846]\n"
     ]
    }
   ],
   "source": [
    "print(Saxpy_Julia_Kernel_GPU)"
   ]
  },
  {
   "cell_type": "markdown",
   "id": "ca5aab66-45e1-46dd-9439-c32ab9e201aa",
   "metadata": {},
   "source": [
    "___"
   ]
  },
  {
   "cell_type": "code",
   "execution_count": 153,
   "id": "a34cf3d8-a649-4263-8640-5f5c9c7ff7a2",
   "metadata": {
    "tags": []
   },
   "outputs": [
    {
     "name": "stdout",
     "output_type": "stream",
     "text": [
      "^C\n",
      "\n",
      "signal (2): Interrupt\n",
      "in expression starting at /home/stefancc/Desktop/HPC/saxpy/src/Julia/Saxpy_Julia_CUBLAS_GPU.jl:18\n",
      "has_free_typevars at /cache/build/default-amdci4-2/julialang/julia-release-1-dot-8/src/jltypes.c:112\n",
      "has_free_typevars at /cache/build/default-amdci4-2/julialang/julia-release-1-dot-8/src/jltypes.c:105\n",
      "has_free_typevars at /cache/build/default-amdci4-2/julialang/julia-release-1-dot-8/src/jltypes.c:105\n",
      "has_free_typevars at /cache/build/default-amdci4-2/julialang/julia-release-1-dot-8/src/jltypes.c:105\n",
      "has_free_typevars at /cache/build/default-amdci4-2/julialang/julia-release-1-dot-8/src/jltypes.c:105\n",
      "has_free_typevars at /cache/build/default-amdci4-2/julialang/julia-release-1-dot-8/src/jltypes.c:91\n",
      "has_free_typevars at /cache/build/default-amdci4-2/julialang/julia-release-1-dot-8/src/jltypes.c:98\n",
      "has_free_typevars at /cache/build/default-amdci4-2/julialang/julia-release-1-dot-8/src/jltypes.c:104\n",
      "has_free_typevars at /cache/build/default-amdci4-2/julialang/julia-release-1-dot-8/src/jltypes.c:98\n",
      "has_free_typevars at /cache/build/default-amdci4-2/julialang/julia-release-1-dot-8/src/jltypes.c:98\n",
      "has_free_typevars at /cache/build/default-amdci4-2/julialang/julia-release-1-dot-8/src/jltypes.c:98\n",
      "has_free_typevars at /cache/build/default-amdci4-2/julialang/julia-release-1-dot-8/src/jltypes.c:105\n",
      "has_free_typevars at /cache/build/default-amdci4-2/julialang/julia-release-1-dot-8/src/jltypes.c:98\n",
      "has_free_typevars at /cache/build/default-amdci4-2/julialang/julia-release-1-dot-8/src/jltypes.c:98\n",
      "has_free_typevars at /cache/build/default-amdci4-2/julialang/julia-release-1-dot-8/src/jltypes.c:98\n",
      "has_free_typevars at /cache/build/default-amdci4-2/julialang/julia-release-1-dot-8/src/jltypes.c:98\n",
      "has_free_typevars at /cache/build/default-amdci4-2/julialang/julia-release-1-dot-8/src/jltypes.c:98 [inlined]\n",
      "ijl_has_free_typevars at /cache/build/default-amdci4-2/julialang/julia-release-1-dot-8/src/jltypes.c:123\n",
      "intersect at /cache/build/default-amdci4-2/julialang/julia-release-1-dot-8/src/subtype.c:3079\n",
      "intersect_all at /cache/build/default-amdci4-2/julialang/julia-release-1-dot-8/src/subtype.c:3207\n",
      "intersect_union at /cache/build/default-amdci4-2/julialang/julia-release-1-dot-8/src/subtype.c:2149\n",
      "intersect at /cache/build/default-amdci4-2/julialang/julia-release-1-dot-8/src/subtype.c:3081\n",
      "intersect_all at /cache/build/default-amdci4-2/julialang/julia-release-1-dot-8/src/subtype.c:3207\n",
      "intersect_union at /cache/build/default-amdci4-2/julialang/julia-release-1-dot-8/src/subtype.c:2149\n",
      "intersect at /cache/build/default-amdci4-2/julialang/julia-release-1-dot-8/src/subtype.c:3081\n",
      "intersect_tuple at /cache/build/default-amdci4-2/julialang/julia-release-1-dot-8/src/subtype.c:2778 [inlined]\n",
      "intersect at /cache/build/default-amdci4-2/julialang/julia-release-1-dot-8/src/subtype.c:3131\n",
      "intersect_all at /cache/build/default-amdci4-2/julialang/julia-release-1-dot-8/src/subtype.c:3224\n",
      "jl_type_intersection_env_s at /cache/build/default-amdci4-2/julialang/julia-release-1-dot-8/src/subtype.c:3444\n",
      "jl_typemap_intersection_node_visitor at /cache/build/default-amdci4-2/julialang/julia-release-1-dot-8/src/typemap.c:458\n",
      "jl_typemap_intersection_visitor at /cache/build/default-amdci4-2/julialang/julia-release-1-dot-8/src/typemap.c:620\n",
      "jl_typemap_intersection_visitor at /cache/build/default-amdci4-2/julialang/julia-release-1-dot-8/src/typemap.c:546\n",
      "get_intersect_matches at /cache/build/default-amdci4-2/julialang/julia-release-1-dot-8/src/gf.c:1299 [inlined]\n",
      "ijl_method_table_insert at /cache/build/default-amdci4-2/julialang/julia-release-1-dot-8/src/gf.c:1711\n",
      "jl_insert_methods at /cache/build/default-amdci4-2/julialang/julia-release-1-dot-8/src/dump.c:2334 [inlined]\n",
      "_jl_restore_incremental at /cache/build/default-amdci4-2/julialang/julia-release-1-dot-8/src/dump.c:3375\n",
      "ijl_restore_incremental at /cache/build/default-amdci4-2/julialang/julia-release-1-dot-8/src/dump.c:3436\n",
      "_include_from_serialized at ./loading.jl:807\n",
      "_require_search_from_serialized at ./loading.jl:1039\n",
      "_require at ./loading.jl:1315\n",
      "_require_prelocked at ./loading.jl:1200\n",
      "macro expansion at ./loading.jl:1180 [inlined]\n",
      "macro expansion at ./lock.jl:223 [inlined]\n",
      "require at ./loading.jl:1144\n",
      "jfptr_require_36652.clone_1 at /snap/julia/74/lib/julia/sys.so (unknown line)\n",
      "_jl_invoke at /cache/build/default-amdci4-2/julialang/julia-release-1-dot-8/src/gf.c:2377 [inlined]\n",
      "ijl_apply_generic at /cache/build/default-amdci4-2/julialang/julia-release-1-dot-8/src/gf.c:2559\n",
      "jl_apply at /cache/build/default-amdci4-2/julialang/julia-release-1-dot-8/src/julia.h:1843 [inlined]\n",
      "call_require at /cache/build/default-amdci4-2/julialang/julia-release-1-dot-8/src/toplevel.c:462 [inlined]\n",
      "eval_import_path at /cache/build/default-amdci4-2/julialang/julia-release-1-dot-8/src/toplevel.c:499\n",
      "jl_toplevel_eval_flex at /cache/build/default-amdci4-2/julialang/julia-release-1-dot-8/src/toplevel.c:725\n",
      "jl_toplevel_eval_flex at /cache/build/default-amdci4-2/julialang/julia-release-1-dot-8/src/toplevel.c:850\n",
      "ijl_toplevel_eval_in at /cache/build/default-amdci4-2/julialang/julia-release-1-dot-8/src/toplevel.c:965\n",
      "eval at ./boot.jl:368 [inlined]\n",
      "include_string at ./loading.jl:1428\n",
      "_jl_invoke at /cache/build/default-amdci4-2/julialang/julia-release-1-dot-8/src/gf.c:2377 [inlined]\n",
      "ijl_apply_generic at /cache/build/default-amdci4-2/julialang/julia-release-1-dot-8/src/gf.c:2559\n",
      "_include at ./loading.jl:1488\n",
      "include at ./Base.jl:419\n",
      "jfptr_include_38905.clone_1 at /snap/julia/74/lib/julia/sys.so (unknown line)\n",
      "_jl_invoke at /cache/build/default-amdci4-2/julialang/julia-release-1-dot-8/src/gf.c:2377 [inlined]\n",
      "ijl_apply_generic at /cache/build/default-amdci4-2/julialang/julia-release-1-dot-8/src/gf.c:2559\n",
      "exec_options at ./client.jl:303\n",
      "_start at ./client.jl:522\n",
      "jfptr__start_38041.clone_1 at /snap/julia/74/lib/julia/sys.so (unknown line)\n",
      "_jl_invoke at /cache/build/default-amdci4-2/julialang/julia-release-1-dot-8/src/gf.c:2377 [inlined]\n",
      "ijl_apply_generic at /cache/build/default-amdci4-2/julialang/julia-release-1-dot-8/src/gf.c:2559\n",
      "jl_apply at /cache/build/default-amdci4-2/julialang/julia-release-1-dot-8/src/julia.h:1843 [inlined]\n",
      "true_main at /cache/build/default-amdci4-2/julialang/julia-release-1-dot-8/src/jlapi.c:575\n",
      "jl_repl_entrypoint at /cache/build/default-amdci4-2/julialang/julia-release-1-dot-8/src/jlapi.c:719\n",
      "main at /cache/build/default-amdci4-2/julialang/julia-release-1-dot-8/cli/loader_exe.c:59\n",
      "unknown function (ip: 0x7f31f9629d8f)\n",
      "__libc_start_main at /lib/x86_64-linux-gnu/libc.so.6 (unknown line)\n",
      "unknown function (ip: 0x401098)\n",
      "unknown function (ip: (nil))\n",
      "Allocations: 5602063 (Pool: 5600759; Big: 1304); GC: 2\n"
     ]
    }
   ],
   "source": [
    "!julia src/Julia/Saxpy_Julia_CUBLAS_GPU.jl"
   ]
  },
  {
   "cell_type": "code",
   "execution_count": 154,
   "id": "6bf2a928-5d3c-4156-81cf-d42099effeac",
   "metadata": {},
   "outputs": [
    {
     "ename": "OSError",
     "evalue": "/home/stefancc/Desktop/HPC/saxpy/Benchmark_Results/Saxpy_Julia_CUBLAS_GPU.csv not found.",
     "output_type": "error",
     "traceback": [
      "\u001b[0;31m---------------------------------------------------------------------------\u001b[0m",
      "\u001b[0;31mOSError\u001b[0m                                   Traceback (most recent call last)",
      "\u001b[0;32m/tmp/ipykernel_4673/3352914949.py\u001b[0m in \u001b[0;36m<module>\u001b[0;34m\u001b[0m\n\u001b[1;32m      1\u001b[0m \u001b[0;31m# Reading the csv into an array\u001b[0m\u001b[0;34m\u001b[0m\u001b[0;34m\u001b[0m\u001b[0m\n\u001b[0;32m----> 2\u001b[0;31m \u001b[0mSaxpy_Julia_CUBLAS_GPU\u001b[0m \u001b[0;34m=\u001b[0m \u001b[0mnp\u001b[0m\u001b[0;34m.\u001b[0m\u001b[0mgenfromtxt\u001b[0m\u001b[0;34m(\u001b[0m\u001b[0;34m\"/home/stefancc/Desktop/HPC/saxpy/Benchmark_Results/Saxpy_Julia_CUBLAS_GPU.csv\"\u001b[0m\u001b[0;34m,\u001b[0m \u001b[0mdelimiter\u001b[0m\u001b[0;34m=\u001b[0m\u001b[0;34m\",\"\u001b[0m\u001b[0;34m)\u001b[0m\u001b[0;34m/\u001b[0m\u001b[0;36m1_000_000\u001b[0m\u001b[0;34m\u001b[0m\u001b[0;34m\u001b[0m\u001b[0m\n\u001b[0m",
      "\u001b[0;32m~/anaconda3/lib/python3.9/site-packages/numpy/lib/npyio.py\u001b[0m in \u001b[0;36mgenfromtxt\u001b[0;34m(fname, dtype, comments, delimiter, skip_header, skip_footer, converters, missing_values, filling_values, usecols, names, excludelist, deletechars, replace_space, autostrip, case_sensitive, defaultfmt, unpack, usemask, loose, invalid_raise, max_rows, encoding, like)\u001b[0m\n\u001b[1;32m   1791\u001b[0m             \u001b[0mfname\u001b[0m \u001b[0;34m=\u001b[0m \u001b[0mos_fspath\u001b[0m\u001b[0;34m(\u001b[0m\u001b[0mfname\u001b[0m\u001b[0;34m)\u001b[0m\u001b[0;34m\u001b[0m\u001b[0;34m\u001b[0m\u001b[0m\n\u001b[1;32m   1792\u001b[0m         \u001b[0;32mif\u001b[0m \u001b[0misinstance\u001b[0m\u001b[0;34m(\u001b[0m\u001b[0mfname\u001b[0m\u001b[0;34m,\u001b[0m \u001b[0mstr\u001b[0m\u001b[0;34m)\u001b[0m\u001b[0;34m:\u001b[0m\u001b[0;34m\u001b[0m\u001b[0;34m\u001b[0m\u001b[0m\n\u001b[0;32m-> 1793\u001b[0;31m             \u001b[0mfid\u001b[0m \u001b[0;34m=\u001b[0m \u001b[0mnp\u001b[0m\u001b[0;34m.\u001b[0m\u001b[0mlib\u001b[0m\u001b[0;34m.\u001b[0m\u001b[0m_datasource\u001b[0m\u001b[0;34m.\u001b[0m\u001b[0mopen\u001b[0m\u001b[0;34m(\u001b[0m\u001b[0mfname\u001b[0m\u001b[0;34m,\u001b[0m \u001b[0;34m'rt'\u001b[0m\u001b[0;34m,\u001b[0m \u001b[0mencoding\u001b[0m\u001b[0;34m=\u001b[0m\u001b[0mencoding\u001b[0m\u001b[0;34m)\u001b[0m\u001b[0;34m\u001b[0m\u001b[0;34m\u001b[0m\u001b[0m\n\u001b[0m\u001b[1;32m   1794\u001b[0m             \u001b[0mfid_ctx\u001b[0m \u001b[0;34m=\u001b[0m \u001b[0mcontextlib\u001b[0m\u001b[0;34m.\u001b[0m\u001b[0mclosing\u001b[0m\u001b[0;34m(\u001b[0m\u001b[0mfid\u001b[0m\u001b[0;34m)\u001b[0m\u001b[0;34m\u001b[0m\u001b[0;34m\u001b[0m\u001b[0m\n\u001b[1;32m   1795\u001b[0m         \u001b[0;32melse\u001b[0m\u001b[0;34m:\u001b[0m\u001b[0;34m\u001b[0m\u001b[0;34m\u001b[0m\u001b[0m\n",
      "\u001b[0;32m~/anaconda3/lib/python3.9/site-packages/numpy/lib/_datasource.py\u001b[0m in \u001b[0;36mopen\u001b[0;34m(path, mode, destpath, encoding, newline)\u001b[0m\n\u001b[1;32m    191\u001b[0m \u001b[0;34m\u001b[0m\u001b[0m\n\u001b[1;32m    192\u001b[0m     \u001b[0mds\u001b[0m \u001b[0;34m=\u001b[0m \u001b[0mDataSource\u001b[0m\u001b[0;34m(\u001b[0m\u001b[0mdestpath\u001b[0m\u001b[0;34m)\u001b[0m\u001b[0;34m\u001b[0m\u001b[0;34m\u001b[0m\u001b[0m\n\u001b[0;32m--> 193\u001b[0;31m     \u001b[0;32mreturn\u001b[0m \u001b[0mds\u001b[0m\u001b[0;34m.\u001b[0m\u001b[0mopen\u001b[0m\u001b[0;34m(\u001b[0m\u001b[0mpath\u001b[0m\u001b[0;34m,\u001b[0m \u001b[0mmode\u001b[0m\u001b[0;34m,\u001b[0m \u001b[0mencoding\u001b[0m\u001b[0;34m=\u001b[0m\u001b[0mencoding\u001b[0m\u001b[0;34m,\u001b[0m \u001b[0mnewline\u001b[0m\u001b[0;34m=\u001b[0m\u001b[0mnewline\u001b[0m\u001b[0;34m)\u001b[0m\u001b[0;34m\u001b[0m\u001b[0;34m\u001b[0m\u001b[0m\n\u001b[0m\u001b[1;32m    194\u001b[0m \u001b[0;34m\u001b[0m\u001b[0m\n\u001b[1;32m    195\u001b[0m \u001b[0;34m\u001b[0m\u001b[0m\n",
      "\u001b[0;32m~/anaconda3/lib/python3.9/site-packages/numpy/lib/_datasource.py\u001b[0m in \u001b[0;36mopen\u001b[0;34m(self, path, mode, encoding, newline)\u001b[0m\n\u001b[1;32m    531\u001b[0m                                       encoding=encoding, newline=newline)\n\u001b[1;32m    532\u001b[0m         \u001b[0;32melse\u001b[0m\u001b[0;34m:\u001b[0m\u001b[0;34m\u001b[0m\u001b[0;34m\u001b[0m\u001b[0m\n\u001b[0;32m--> 533\u001b[0;31m             \u001b[0;32mraise\u001b[0m \u001b[0mIOError\u001b[0m\u001b[0;34m(\u001b[0m\u001b[0;34m\"%s not found.\"\u001b[0m \u001b[0;34m%\u001b[0m \u001b[0mpath\u001b[0m\u001b[0;34m)\u001b[0m\u001b[0;34m\u001b[0m\u001b[0;34m\u001b[0m\u001b[0m\n\u001b[0m\u001b[1;32m    534\u001b[0m \u001b[0;34m\u001b[0m\u001b[0m\n\u001b[1;32m    535\u001b[0m \u001b[0;34m\u001b[0m\u001b[0m\n",
      "\u001b[0;31mOSError\u001b[0m: /home/stefancc/Desktop/HPC/saxpy/Benchmark_Results/Saxpy_Julia_CUBLAS_GPU.csv not found."
     ]
    }
   ],
   "source": [
    "# Reading the csv into an array\n",
    "Saxpy_Julia_CUBLAS_GPU = np.genfromtxt(\"/home/stefancc/Desktop/HPC/saxpy/Benchmark_Results/Saxpy_Julia_CUBLAS_GPU.csv\", delimiter=\",\")/1_000_000"
   ]
  },
  {
   "cell_type": "code",
   "execution_count": null,
   "id": "49830626-8d37-423e-9ab8-0bbc74ef8cf7",
   "metadata": {},
   "outputs": [],
   "source": [
    "print(Saxpy_Julia_CUBLAS_GPU)"
   ]
  },
  {
   "cell_type": "markdown",
   "id": "0d3be2bf-162b-47c5-b478-904a076a3513",
   "metadata": {},
   "source": [
    "___"
   ]
  },
  {
   "cell_type": "code",
   "execution_count": null,
   "id": "bcf1ec26-2d3e-46c9-adfd-388867fc943c",
   "metadata": {},
   "outputs": [],
   "source": []
  },
  {
   "cell_type": "code",
   "execution_count": null,
   "id": "fd731efd-5a5a-4de4-a748-34214a874da6",
   "metadata": {},
   "outputs": [],
   "source": [
    "elements = Saxpy_Julia_For_Loop_CPU .shape[0]\n",
    "plt.figure(figsize=(15,9))\n",
    "\n",
    "plt.plot(np.log2(N[:elements]),Saxpy_Julia_For_Loop_CPU [:], linestyle='--', marker='o', color='r')\n",
    "plt.plot(np.log2(N[:elements]),Saxpy_Julia_Vectorized_CPU [:], linestyle='--', marker='o', color='b')\n",
    "plt.plot(np.log2(N[:elements]),Saxpy_Julia_BLAS_CPU [:], linestyle='--', marker='o', color='g')\n",
    "plt.plot(np.log2(N[:elements]),Saxpy_Julia_Multithread_CPU [:], linestyle='--', marker='o', color='black')\n",
    "plt.plot(np.log2(N[:elements-1]),Saxpy_Julia_GPU [:], linestyle='--', marker='o', color='orange')\n",
    "plt.plot(np.log2(N[:elements-1]),Saxpy_Julia_Kernel_GPU [:], linestyle='--', marker='o', color='purple')\n",
    "plt.plot(np.log2(N[:elements-1]),Saxpy_Julia_CUBLAS_GPU [:], linestyle='--', marker='o', color='yellow')\n",
    "\n",
    "#plt.plot(np.log2(N[:elements]),Saxpy_Python_Numpy_CPU[:], linestyle='--', marker='o', color='b')\n",
    "#plt.plot(np.log2(N[:elements]),Saxpy_Python_Numba_Multithread_CPU16[:], linestyle='--', marker='o')\n",
    "#plt.plot(np.log2(N[:elements]),Saxpy_Python_Cython_CPU[:], linestyle='--', marker='x', color='r')\n",
    "#plt.plot(np.log2(N[:elements]),Saxpy_Python_Cython_Multithread_CPU[:], linestyle='--', marker='x', color='b')\n",
    "#plt.plot(np.log2(N[:elements]),Saxpy_C_For_Loop_CPU [:], linestyle='--', marker='o')\n",
    "#plt.plot(np.log2(N[:elements]),Saxpy_C_For_Loop_Multithread_CPU [:], linestyle='--', marker='o')\n",
    "\n",
    "plt.yscale(\"log\")\n",
    "plt.title(\"Saxpy Benchmark\")\n",
    "plt.xlabel(\"Array Size\")\n",
    "plt.ylabel(\"Runtime (ms)\")\n",
    "x_tick_labels = [\"$2^{\" + str(i) + \"}$\" for i in range(1, elements + 1,1)]\n",
    "plt.xticks(np.arange(1, elements + 1,1), x_tick_labels)\n",
    "plt.grid()\n",
    "plt.show()"
   ]
  },
  {
   "cell_type": "markdown",
   "id": "4f9bc756-b40d-4da7-b21f-834bc78391b6",
   "metadata": {},
   "source": [
    "___"
   ]
  },
  {
   "cell_type": "markdown",
   "id": "585e70f2-cdae-4ffa-b32c-4d140d5bf822",
   "metadata": {},
   "source": [
    "___"
   ]
  },
  {
   "cell_type": "markdown",
   "id": "e5d11c6c-6831-4e72-9edd-f6b1c7a8c3a1",
   "metadata": {},
   "source": [
    "___"
   ]
  },
  {
   "cell_type": "markdown",
   "id": "227ee09a-d667-4664-a228-d1c868734092",
   "metadata": {},
   "source": [
    "# All Benchmarks"
   ]
  },
  {
   "cell_type": "code",
   "execution_count": 21,
   "id": "59fd4c8e-5a8a-4c0e-b4fa-0f9ba9781eb1",
   "metadata": {},
   "outputs": [],
   "source": [
    "# Load all the data\n",
    "Saxpy_Python_For_Loop_CPU = np.genfromtxt(\"/home/stefancc/Desktop/HPC/saxpy/Benchmark_Results/Saxpy_Python_For_Loop_CPU.csv\", delimiter=\",\")\n",
    "Saxpy_Python_Numpy_CPU = np.genfromtxt(\"/home/stefancc/Desktop/HPC/saxpy/Benchmark_Results/Saxpy_Python_Numpy_CPU.csv\", delimiter=\",\")\n",
    "Saxpy_Python_Numba_CPU = np.genfromtxt(\"/home/stefancc/Desktop/HPC/saxpy/Benchmark_Results/Saxpy_Python_Numba_CPU.csv\", delimiter=\",\")\n",
    "Saxpy_Python_Numpy_Numba_CPU = np.genfromtxt(\"/home/stefancc/Desktop/HPC/saxpy/Benchmark_Results/Saxpy_Python_Numpy_Numba_CPU.csv\", delimiter=\",\")\n",
    "Saxpy_Python_Numba_Multithread_CPU1 = np.genfromtxt(\"/home/stefancc/Desktop/HPC/saxpy/Benchmark_Results/Saxpy_Python_Numba_Multithreading_CPU1.csv\", delimiter=\",\")\n",
    "Saxpy_Python_Numba_Multithread_CPU2 = np.genfromtxt(\"/home/stefancc/Desktop/HPC/saxpy/Benchmark_Results/Saxpy_Python_Numba_Multithreading_CPU2.csv\", delimiter=\",\")\n",
    "Saxpy_Python_Numba_Multithread_CPU3 = np.genfromtxt(\"/home/stefancc/Desktop/HPC/saxpy/Benchmark_Results/Saxpy_Python_Numba_Multithreading_CPU3.csv\", delimiter=\",\")\n",
    "Saxpy_Python_Numba_Multithread_CPU4 = np.genfromtxt(\"/home/stefancc/Desktop/HPC/saxpy/Benchmark_Results/Saxpy_Python_Numba_Multithreading_CPU4.csv\", delimiter=\",\")\n",
    "Saxpy_Python_Numba_Multithread_CPU5 = np.genfromtxt(\"/home/stefancc/Desktop/HPC/saxpy/Benchmark_Results/Saxpy_Python_Numba_Multithreading_CPU5.csv\", delimiter=\",\")\n",
    "Saxpy_Python_Numba_Multithread_CPU6 = np.genfromtxt(\"/home/stefancc/Desktop/HPC/saxpy/Benchmark_Results/Saxpy_Python_Numba_Multithreading_CPU6.csv\", delimiter=\",\")\n",
    "Saxpy_Python_Numba_Multithread_CPU7 = np.genfromtxt(\"/home/stefancc/Desktop/HPC/saxpy/Benchmark_Results/Saxpy_Python_Numba_Multithreading_CPU7.csv\", delimiter=\",\")\n",
    "Saxpy_Python_Numba_Multithread_CPU8 = np.genfromtxt(\"/home/stefancc/Desktop/HPC/saxpy/Benchmark_Results/Saxpy_Python_Numba_Multithreading_CPU8.csv\", delimiter=\",\")\n",
    "Saxpy_Python_Numba_Multithread_CPU10 = np.genfromtxt(\"/home/stefancc/Desktop/HPC/saxpy/Benchmark_Results/Saxpy_Python_Numba_Multithreading_CPU10.csv\", delimiter=\",\")\n",
    "Saxpy_Python_Numba_Multithread_CPU14 = np.genfromtxt(\"/home/stefancc/Desktop/HPC/saxpy/Benchmark_Results/Saxpy_Python_Numba_Multithreading_CPU14.csv\", delimiter=\",\")\n",
    "Saxpy_Python_Numba_Multithread_CPU16 = np.genfromtxt(\"/home/stefancc/Desktop/HPC/saxpy/Benchmark_Results/Saxpy_Python_Numba_Multithreading_CPU16.csv\", delimiter=\",\")\n",
    "Saxpy_Python_Numpy_Numba_Multithreading_CPU = np.genfromtxt(\"/home/stefancc/Desktop/HPC/saxpy/Benchmark_Results/Saxpy_Python_Numpy_Numba_Multithreading_CPU.csv\", delimiter=\",\")\n",
    "Saxpy_Python_Cython_CPU = np.genfromtxt(\"/home/stefancc/Desktop/HPC/saxpy/Benchmark_Results/Saxpy_Python_Cython_CPU.csv\", delimiter=\",\")\n",
    "Saxpy_Python_Cython_Multithread_CPU = np.genfromtxt(\"/home/stefancc/Desktop/HPC/saxpy/Benchmark_Results/Saxpy_Python_Cython_Multithread_CPU.csv\", delimiter=\",\")\n",
    "Saxpy_Cpp_For_Loop_CPU = np.genfromtxt(\"/home/stefancc/Desktop/HPC/saxpy/Benchmark_Results/Saxpy_Cpp_For_Loop_CPU.csv\", delimiter=\",\")/1000\n",
    "Saxpy_Cpp_SIMD_AVX2_CPU = np.genfromtxt(\"/home/stefancc/Desktop/HPC/saxpy/Benchmark_Results/Saxpy_Cpp_SIMD_AVX2_CPU.csv\", delimiter=\",\")/1000\n",
    "Saxpy_Cpp_SIMD_AVX512_CPU = np.genfromtxt(\"/home/stefancc/Desktop/HPC/saxpy/Benchmark_Results/Saxpy_Cpp_SIMD_AVX512_CPU.csv\", delimiter=\",\")/1000\n",
    "Saxpy_Cpp_OMP_Multithread_CPU = np.genfromtxt(\"/home/stefancc/Desktop/HPC/saxpy/Benchmark_Results/Saxpy_Cpp_OMP_Multithread_CPU.csv\", delimiter=\",\")/1000"
   ]
  },
  {
   "cell_type": "code",
   "execution_count": 49,
   "id": "bf23156a-28a4-4536-8de3-acbf880e9bc1",
   "metadata": {},
   "outputs": [
    {
     "data": {
      "image/png": "[encoded data removed]",
      "text/plain": [
       "<Figure size 1080x648 with 1 Axes>"
      ]
     },
     "metadata": {
      "needs_background": "light"
     },
     "output_type": "display_data"
    }
   ],
   "source": [
    "# Plotting\n",
    "elements = Saxpy_Python_Numba_CPU.shape[0]\n",
    "plt.figure(figsize=(15,9))\n",
    "#plt.plot(np.log2(N[:elements]),Saxpy_Python_For_Loop_CPU[:], linestyle='--', marker='o', color='r')\n",
    "plt.plot(np.log2(N[:elements]),Saxpy_Python_Numpy_CPU[:], linestyle='--', marker='o', color='b')\n",
    "plt.plot(np.log2(N[:elements]),Saxpy_Python_Numba_CPU[:], linestyle='--', marker='o', color='g')\n",
    "#plt.plot(np.log2(N[:elements]),Saxpy_Python_Numpy_Numba_CPU[:], linestyle='--', marker='o', color='y')\n",
    "\n",
    "plt.plot(np.log2(N[:elements]),Saxpy_Python_Numba_Multithread_CPU16[:], linestyle='--', marker='o')\n",
    "#plt.plot(np.log2(N[:elements]),Saxpy_Python_Numpy_Numba_Multithreading_CPU[:], linestyle='--', marker='o')\n",
    "\n",
    "plt.plot(np.log2(N[:elements]),Saxpy_Python_Cython_CPU[:], linestyle='--', marker='x', color='r')\n",
    "plt.plot(np.log2(N[:elements]),Saxpy_Python_Cython_Multithread_CPU[:], linestyle='--', marker='x', color='b')\n",
    "\n",
    "plt.plot(np.log2(N[:elements]),Saxpy_Cpp_For_Loop_CPU[:-1], linestyle='--', marker='x', color='y')\n",
    "plt.plot(np.log2(N[:elements]),Saxpy_Cpp_OMP_Multithread_CPU[:-1], linestyle='--', marker='x', color='r')\n",
    "\n",
    "\n",
    "plt.yscale(\"log\")\n",
    "plt.title(\"Saxpy Benchmark\")\n",
    "plt.xlabel(\"Array Size\")\n",
    "plt.ylabel(\"Runtime (ms)\")\n",
    "x_tick_labels = [\"$2^{\" + str(i) + \"}$\" for i in range(1, elements + 1,1)]\n",
    "plt.xticks(np.arange(1, elements + 1,1), x_tick_labels)\n",
    "plt.grid()\n",
    "plt.show()"
   ]
  },
  {
   "cell_type": "markdown",
   "id": "856f7496-262c-4f3f-9acf-799891d4739d",
   "metadata": {},
   "source": [
    "___"
   ]
  },
  {
   "cell_type": "markdown",
   "id": "9a3f7f48-655f-45cb-80a0-bfb514a6817a",
   "metadata": {},
   "source": [
    "___"
   ]
  },
  {
   "cell_type": "markdown",
   "id": "456870a5-57ea-4642-ba55-c41eafee2b88",
   "metadata": {},
   "source": [
    "___"
   ]
  },
  {
   "cell_type": "code",
   "execution_count": null,
   "id": "905525f0-8330-4944-80c1-d7ef795100ae",
   "metadata": {},
   "outputs": [],
   "source": []
  },
  {
   "cell_type": "code",
   "execution_count": null,
   "id": "92727351-1498-4250-823e-36a16c180a17",
   "metadata": {},
   "outputs": [],
   "source": []
  },
  {
   "cell_type": "code",
   "execution_count": null,
   "id": "869b0dba-b58c-4e1d-a4e3-06869e76b96b",
   "metadata": {},
   "outputs": [],
   "source": []
  }
 ],
 "metadata": {
  "kernelspec": {
   "display_name": "Python 3 (ipykernel)",
   "language": "python",
   "name": "python3"
  },
  "language_info": {
   "codemirror_mode": {
    "name": "ipython",
    "version": 3
   },
   "file_extension": ".py",
   "mimetype": "text/x-python",
   "name": "python",
   "nbconvert_exporter": "python",
   "pygments_lexer": "ipython3",
   "version": "3.9.13"
  }
 },
 "nbformat": 4,
 "nbformat_minor": 5
}
